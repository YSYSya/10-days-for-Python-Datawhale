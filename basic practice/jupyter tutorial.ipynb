{
 "cells": [
  {
   "cell_type": "markdown",
   "metadata": {},
   "source": [
    "# jupyternote 快捷键\n",
    "   \n",
    "+ Enter 进入编辑模式\n",
    "\n",
    "\n",
    "\n",
    "    1. R : 单元转入raw状态\n",
    "    2. 1 : 设定 1 级标题\n",
    "    3. 2 : 设定 2 级标题\n",
    "    4. A : 在上方插入新单元\n",
    "    5. B : 在下方插入新单元\n",
    "    6. X : 剪切选中的单元\n",
    "    7. Shift-M : 合并选中的单元\n",
    "    8. H : 显示快捷键帮助\n",
    "    9. Space : 向下滚动\n",
    "\n",
    "+ 编辑模式 ( Enter 键启动)\n",
    "\n",
    "\n",
    "\n",
    "    1. Tab : 代码补全或缩进\n",
    "    2. Shift-Tab : 提示\n",
    "    3. Ctrl-] : 缩进\n",
    "    5. Ctrl-Z : 复原\n",
    "    6. Ctrl-Y : 再做\n",
    "    7. Ctrl-Up : 跳到单元开头\n",
    "    \n",
    "   "
   ]
  },
  {
   "cell_type": "markdown",
   "metadata": {},
   "source": [
    "# reference\n",
    "\n",
    "\n",
    "\n",
    "[jupyter 使用](https://www.cnblogs.com/noticeable/p/9010881.html)\n",
    "\n",
    "[markdown 使用](https://www.jianshu.com/p/191d1e21f7ed)"
   ]
  }
 ],
 "metadata": {
  "kernelspec": {
   "display_name": "Python 3",
   "language": "python",
   "name": "python3"
  },
  "language_info": {
   "codemirror_mode": {
    "name": "ipython",
    "version": 3
   },
   "file_extension": ".py",
   "mimetype": "text/x-python",
   "name": "python",
   "nbconvert_exporter": "python",
   "pygments_lexer": "ipython3",
   "version": "3.7.0"
  }
 },
 "nbformat": 4,
 "nbformat_minor": 2
}
