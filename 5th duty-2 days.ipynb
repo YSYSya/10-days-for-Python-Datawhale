{
 "cells": [
  {
   "cell_type": "markdown",
   "metadata": {},
   "source": [
    "# Python File I/O\n",
    "\n",
    "## How to open a file\n",
    "\n",
    "Python has a built-in function open() to open a file. This function returns a file object, also called a handle, as it is used to read or modify the file accordingly."
   ]
  },
  {
   "cell_type": "code",
   "execution_count": 1,
   "metadata": {},
   "outputs": [],
   "source": [
    "f = open(\"jupyter tutorial.ipynb\")    # open file in current directory\n",
    "f = open(\"C:\\\\software\\\\Sublime Text 3\\\\website\\\\test\\\\test.html\")  # specifying full path"
   ]
  },
  {
   "cell_type": "markdown",
   "metadata": {},
   "source": [
    "We can specify the mode while opening a file.The default is reading in text mode. In this mode, we get strings when reading from the file.\n",
    "\n",
    "Mode \t|Description\n",
    "--|--\n",
    "'r' \t|Open a file for reading. (default)\n",
    "'w' \t|Open a file for writing. Creates a new file if it does not exist or truncates the file if it exists.\n",
    "'x' \t|Open a file for exclusive creation. If the file already exists, the operation fails.\n",
    "'a' \t|Open for appending at the end of the file without truncating it. Creates a new file if it does not exist.\n",
    "'t' \t|Open in text mode. (default)\n",
    "'b' \t|Open in binary mode.\n",
    "'+' \t|Open a file for updating (reading and writing)"
   ]
  },
  {
   "cell_type": "code",
   "execution_count": 2,
   "metadata": {},
   "outputs": [],
   "source": [
    "#eg:\n",
    "f = open(\"test.txt\",'w')  # write in text mode\n",
    "f = open(\"test.txt\",'r+b') # read and write in binary mode"
   ]
  },
  {
   "cell_type": "markdown",
   "metadata": {},
   "source": [
    "Unlike other languages, the character 'a' does not imply the number 97 until it is encoded using ASCII (or other equivalent encodings).\n",
    "\n",
    "Moreover, the default encoding is platform dependent. In windows, it is 'cp1252' but 'utf-8' in Linux.\n",
    "\n",
    "So, we must not also rely on the default encoding or else our code will behave differently in different platforms.\n",
    "\n",
    "Hence, when working with files in text mode, it is highly recommended to specify the encoding type.\n",
    "\n",
    ">f = open(\"test.txt\",mode = 'r',encoding = 'utf-8')\n",
    "\n",
    "## How to close a file Using Python\n",
    "\n",
    "Closing a file will free up the resources that were tied with the file and is done using Python close() method.\n",
    "\n",
    "Python has a garbage collector to clean up unreferenced objects but, we must not rely on it to close the file.\n",
    "\n",
    "`\n",
    "f = open(\"test.txt\",encoding = 'utf-8')\n",
    "\\# perform file operations\n",
    "f.close()\n",
    "`\n",
    "\n",
    "The best way to do this is using the with statement. This ensures that the file is closed when the block inside with is exited.\n",
    "\n",
    "We don't need to explicitly call the close() method. It is done internally.\n",
    "`\n",
    "with open(\"test.txt\",encoding = 'utf-8') as f:\n",
    "  \\ # perform file operations\n",
    "   `\n",
    "   \n",
    "## Python File Methods\n",
    "Here is the complete list of methods in text mode with a brief description.\n",
    "\n",
    "Method \t|Description\n",
    "--|--\n",
    "close() \t|Close an open file. It has no effect if the file is already closed.\n",
    "detach() \t|Separate the underlying binary buffer from the TextIOBase and return it.\n",
    "fileno() \t|Return an integer number (file descriptor) of the file.\n",
    "flush() \t|Flush the write buffer of the file stream.\n",
    "isatty() \t|Return True if the file stream is interactive.\n",
    "read(n) \t|Read atmost n characters form the file. Reads till end of file if it is negative or None.\n",
    "readable() \t|Returns True if the file stream can be read from.\n",
    "readline(n=-1) \t|Read and return one line from the file. Reads in at most n bytes if specified.\n",
    "readlines(n=-1) \t|Read and return a list of lines from the file. Reads in at most n bytes/characters if specified.\n",
    "seek(offset,from=SEEK_SET) \t|Change the file position to offset bytes, in reference to from (start, current, end).\n",
    "seekable() \t|Returns True if the file stream supports random access.\n",
    "tell() \t|Returns the current file location.\n",
    "truncate(size=None) \t|Resize the file stream to size bytes. If size is not specified, resize to current location.\n",
    "writable() \t|Returns True if the file stream can be written to.\n",
    "write(s) \t|Write string s to the file and return the number of characters written.\n",
    "writelines(lines) \t|Write a list of lines to the file.\n",
    "\n",
    "\n",
    "## CSV File Reading and Writing\n",
    "\n",
    "### CSV files\n",
    "\n",
    "A CSV (Comma Separated Value) file stores tabular data in text form separated by commas. It’s a plain text file containing numbers, strings, special characters etc and they are all separated by commas. In this situation, the comma is called a delimiter. You can use other delimiters as well (like spaces, tabs etc), but commas are more frequently used. The beauty of this is that it’s very easy to manipulate. Another good thing is that Excel can easily read CSV files. They are stored using .csv extension. It looks just like a regular spreadsheet when you open it in Excel.\n",
    "\n",
    "### Using Python\n",
    "\n",
    "Consider the earlier case with 1000 rows. If you have a .xlsx file, you can use the “Save As” option and save it as a .csv file. Once you have that, you can manipulate it using Python. Python has a module named “csv”. You can just import it and it provides necessary functions to read and write csv files.\n",
    "\n",
    "The code below reads data from the spreadsheet and prints it.\n",
    "`\n",
    "import csv\n",
    "file_reader = csv.reader(open('input.csv', 'rb'), delimiter=',')\n",
    "for row in file_reader:\n",
    "    print row, \", \"\n",
    "`\n",
    "The code below writes data onto a spreadsheet.\n",
    "`\n",
    "import csv\n",
    "file_writer = csv.writer(open('output.csv', 'wb'), delimiter=',')\n",
    "file_writer.writerow([\"Name\", \"Profession\", \"Age\"])\n",
    "file_writer.writerow([\"Adam\", \"Engineer\", \"28\"])\n",
    "`\n",
    "You can put the writerow function call in a loop if you have large amount of data to be written. Note that the input argument to ‘writerow’ has to be a Python list.\n",
    "\n",
    "Once you read the data from a spreadsheet, you can manipulate it very easily. Python provides a big list of features to manipulate data. You can access the smallest details of the input data, manipulate it and put it into an output file.\n",
    "# Introduction to OOPs in Python\n",
    "\n",
    "Python is a multi-paradigm programming language. Meaning, it supports different programming approach.\n",
    "\n",
    "An object has two characteristics:\n",
    "\n",
    "    attributes\n",
    "    behavior\n",
    "The concept of OOP in Python focuses on creating reusable code. This concept is also known as DRY (Don't Repeat Yourself).Object is simply a collection of data (variables) and methods (functions) that act on those data. And, class is a blueprint for the object.An object is also called an instance of a class and the process of creating this object is called instantiation.\n",
    "\n",
    "In Python, the concept of OOP follows some basic principles:\n",
    "\n",
    "principles | Description\n",
    "--|--\n",
    "Inheritance \t|A process of using details from a new class without modifying existing class.\n",
    "Encapsulation \t|Hiding the private details of a class from other objects.\n",
    "Polymorphism \t|A concept of using common operation in different ways for different data input.\n",
    "\n",
    "\n",
    "## Defining a Class\n",
    "\n",
    "A class creates a new local namespace where all its attributes are defined. Attributes may be data or functions.\n",
    "\n",
    "\n",
    "### Constructors in Python\n",
    "\n",
    "Class functions that begins with double underscore (__) are called special functions as they have special meaning.\n",
    "\n",
    "Of one particular interest is the __init__() function. This special function gets called whenever a new object of that class is instantiated.\n",
    "\n",
    "This type of function is also called constructors in Object Oriented Programming (OOP). We normally use it to initialize all the variables.\n",
    "\n",
    "## Creating an Object\n",
    "\n",
    "The procedure to create an object is similar to a function call.\n",
    "> ob = MyClass()\n",
    "\n",
    "This will create a new instance object named ob. We can access attributes of objects using the object name prefix.**Whenever an object calls its method, the object itself is passed as the first argument.**\n",
    "\n",
    "## Deleting Attributes and Objects\n",
    "\n",
    "Any attribute of an object can be deleted anytime, using the del statement. Try the following on the Python shell to see the output.\n",
    "\n",
    "# Python datetime\n",
    "Python has a module named datetime to work with dates and times. Let's create a few simple programs related to date and time before we dig deeper.\n",
    "\n",
    "Commonly used classes in the datetime module are:\n",
    "\n",
    "    date Class\n",
    "    time Class\n",
    "    datetime Class\n",
    "    timedelta Class\n"
   ]
  },
  {
   "cell_type": "code",
   "execution_count": 3,
   "metadata": {},
   "outputs": [
    {
     "name": "stdout",
     "output_type": "stream",
     "text": [
      "2019-04-09 13:40:20.850739\n",
      "2019-04-09\n",
      "['MAXYEAR', 'MINYEAR', '__builtins__', '__cached__', '__doc__', '__file__', '__loader__', '__name__', '__package__', '__spec__', 'date', 'datetime', 'datetime_CAPI', 'time', 'timedelta', 'timezone', 'tzinfo']\n"
     ]
    }
   ],
   "source": [
    "#Example 1: Get Current Date and Time\n",
    "import datetime\n",
    "\n",
    "datetime_object = datetime.datetime.now()\n",
    "print(datetime_object)\n",
    "\n",
    "#Example 2: Get Current Date\n",
    "date_object = datetime.date.today()\n",
    "print(date_object)\n",
    "\n",
    "#What's inside datetime?\n",
    "print(dir(datetime))"
   ]
  },
  {
   "cell_type": "markdown",
   "metadata": {},
   "source": [
    "# Python RegEx\n",
    "\n",
    "A Regular Expression (RegEx) is a sequence of characters that defines a search pattern. For example,\n",
    "\n",
    ">^a...s$\n",
    "The above code defines a RegEx pattern. The pattern is: any five letter string starting with a and ending with s.\n",
    "If you already know the basics of RegEx, jump to [Python RegEx](https://www.programiz.com/python-programming/regex#python-regex).\n",
    "\n",
    "Python has a module named re to work with RegEx.Here's an example:"
   ]
  },
  {
   "cell_type": "code",
   "execution_count": 4,
   "metadata": {},
   "outputs": [
    {
     "name": "stdout",
     "output_type": "stream",
     "text": [
      "Search successful.\n"
     ]
    }
   ],
   "source": [
    "import re\n",
    "\n",
    "pattern = '^a...s$'\n",
    "\n",
    "test_string = 'abyss'\n",
    "result = re.match(pattern, test_string)\n",
    "\n",
    "if result:\n",
    "  print(\"Search successful.\")\n",
    "else:\n",
    "  print(\"Search unsuccessful.\")\t"
   ]
  },
  {
   "cell_type": "markdown",
   "metadata": {},
   "source": [
    "# OS Module in Python\n",
    "\n",
    "The OS module in python provides functions for interacting with the operating system. OS, comes under Python’s standard utility modules. This module provides a portable way of using operating system dependent functionality. The *os* and *os.path* modules include many functions to interact with the file system.\n",
    "\n",
    "[example of OS module](https://stackabuse.com/introduction-to-python-os-module/)"
   ]
  },
  {
   "cell_type": "code",
   "execution_count": 5,
   "metadata": {},
   "outputs": [
    {
     "name": "stdout",
     "output_type": "stream",
     "text": [
      "the list of methods that we can use with this module:\n",
      " ['DirEntry', 'F_OK', 'MutableMapping', 'O_APPEND', 'O_BINARY', 'O_CREAT', 'O_EXCL', 'O_NOINHERIT', 'O_RANDOM', 'O_RDONLY', 'O_RDWR', 'O_SEQUENTIAL', 'O_SHORT_LIVED', 'O_TEMPORARY', 'O_TEXT', 'O_TRUNC', 'O_WRONLY', 'P_DETACH', 'P_NOWAIT', 'P_NOWAITO', 'P_OVERLAY', 'P_WAIT', 'PathLike', 'R_OK', 'SEEK_CUR', 'SEEK_END', 'SEEK_SET', 'TMP_MAX', 'W_OK', 'X_OK', '_Environ', '__all__', '__builtins__', '__cached__', '__doc__', '__file__', '__loader__', '__name__', '__package__', '__spec__', '_execvpe', '_exists', '_exit', '_fspath', '_get_exports_list', '_putenv', '_unsetenv', '_wrap_close', 'abc', 'abort', 'access', 'altsep', 'chdir', 'chmod', 'close', 'closerange', 'cpu_count', 'curdir', 'defpath', 'device_encoding', 'devnull', 'dup', 'dup2', 'environ', 'error', 'execl', 'execle', 'execlp', 'execlpe', 'execv', 'execve', 'execvp', 'execvpe', 'extsep', 'fdopen', 'fsdecode', 'fsencode', 'fspath', 'fstat', 'fsync', 'ftruncate', 'get_exec_path', 'get_handle_inheritable', 'get_inheritable', 'get_terminal_size', 'getcwd', 'getcwdb', 'getenv', 'getlogin', 'getpid', 'getppid', 'isatty', 'kill', 'linesep', 'link', 'listdir', 'lseek', 'lstat', 'makedirs', 'mkdir', 'name', 'open', 'pardir', 'path', 'pathsep', 'pipe', 'popen', 'putenv', 'read', 'readlink', 'remove', 'removedirs', 'rename', 'renames', 'replace', 'rmdir', 'scandir', 'sep', 'set_handle_inheritable', 'set_inheritable', 'spawnl', 'spawnle', 'spawnv', 'spawnve', 'st', 'startfile', 'stat', 'stat_result', 'statvfs_result', 'strerror', 'supports_bytes_environ', 'supports_dir_fd', 'supports_effective_ids', 'supports_fd', 'supports_follow_symlinks', 'symlink', 'sys', 'system', 'terminal_size', 'times', 'times_result', 'truncate', 'umask', 'uname_result', 'unlink', 'urandom', 'utime', 'waitpid', 'walk', 'write'] \n",
      "\n",
      "the path of the current working directory:\n",
      " C:\\Users\\Surface\\PycharmProjects\\test \n",
      "\n",
      "the folders/files in the current directory:\n",
      " ['.ipynb_checkpoints', '1st duty-2 days.ipynb', '1st.ipynb', '2nd duty-2 days.ipynb', '3rd duty-2days.ipynb', '4th duty-1 day.ipynb', '5th duty-2 days.ipynb', 'jupyter tutorial.ipynb', 'test.txt'] \n",
      "\n"
     ]
    }
   ],
   "source": [
    "import os\n",
    "print(\"the list of methods that we can use with this module:\\n\",dir(os),\"\\n\")\n",
    "print(\"the path of the current working directory:\\n\",os.getcwd(),\"\\n\") \n",
    "print(\"the folders/files in the current directory:\\n\",os.listdir(),\"\\n\") "
   ]
  },
  {
   "cell_type": "markdown",
   "metadata": {},
   "source": [
    "# Python - HTTP Requests\n",
    "[Python web development](https://www.tutorialspoint.com/python/python_http_requests.htm)"
   ]
  }
 ],
 "metadata": {
  "kernelspec": {
   "display_name": "Python 3",
   "language": "python",
   "name": "python3"
  },
  "language_info": {
   "codemirror_mode": {
    "name": "ipython",
    "version": 3
   },
   "file_extension": ".py",
   "mimetype": "text/x-python",
   "name": "python",
   "nbconvert_exporter": "python",
   "pygments_lexer": "ipython3",
   "version": "3.7.0"
  },
  "toc": {
   "base_numbering": 1,
   "nav_menu": {},
   "number_sections": true,
   "sideBar": true,
   "skip_h1_title": false,
   "title_cell": "Table of Contents",
   "title_sidebar": "Contents",
   "toc_cell": false,
   "toc_position": {},
   "toc_section_display": true,
   "toc_window_display": true
  },
  "varInspector": {
   "cols": {
    "lenName": 16,
    "lenType": 16,
    "lenVar": 40
   },
   "kernels_config": {
    "python": {
     "delete_cmd_postfix": "",
     "delete_cmd_prefix": "del ",
     "library": "var_list.py",
     "varRefreshCmd": "print(var_dic_list())"
    },
    "r": {
     "delete_cmd_postfix": ") ",
     "delete_cmd_prefix": "rm(",
     "library": "var_list.r",
     "varRefreshCmd": "cat(var_dic_list()) "
    }
   },
   "types_to_exclude": [
    "module",
    "function",
    "builtin_function_or_method",
    "instance",
    "_Feature"
   ],
   "window_display": false
  }
 },
 "nbformat": 4,
 "nbformat_minor": 2
}
