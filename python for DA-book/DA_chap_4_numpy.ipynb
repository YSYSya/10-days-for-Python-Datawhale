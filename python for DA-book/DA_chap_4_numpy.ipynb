{
  "nbformat": 4,
  "nbformat_minor": 0,
  "metadata": {
    "colab": {
      "name": "DA-chap 4 numpy .ipynb",
      "provenance": [],
      "collapsed_sections": []
    },
    "kernelspec": {
      "name": "python3",
      "display_name": "Python 3"
    }
  },
  "cells": [
    {
      "cell_type": "code",
      "metadata": {
        "id": "2nSTy9IB-xMB",
        "colab_type": "code",
        "outputId": "44e92ccd-70bc-4386-906d-8140bdaca98a",
        "colab": {
          "base_uri": "https://localhost:8080/",
          "height": 90
        }
      },
      "source": [
        "import numpy as np\n",
        "my_arr =np.arange(100000)\n",
        "my_list= list(range(1000000))\n",
        "%time for _ in range(100): my_arr2= my_arr*2\n",
        "%time for _ in range(100): my_list2= [x *2 for x in my_list]"
      ],
      "execution_count": 0,
      "outputs": [
        {
          "output_type": "stream",
          "text": [
            "CPU times: user 12.8 ms, sys: 2.94 ms, total: 15.7 ms\n",
            "Wall time: 20.8 ms\n",
            "CPU times: user 5.34 s, sys: 1.15 s, total: 6.5 s\n",
            "Wall time: 6.52 s\n"
          ],
          "name": "stdout"
        }
      ]
    },
    {
      "cell_type": "code",
      "metadata": {
        "id": "d_wGxnRQBM3v",
        "colab_type": "code",
        "outputId": "fbb0c72c-5101-42bb-d0fd-236700a3a2ee",
        "colab": {
          "base_uri": "https://localhost:8080/",
          "height": 72
        }
      },
      "source": [
        "data= np.random.randn(3,4)#ndarray是一个通用的同构数据多维容器\n",
        "data"
      ],
      "execution_count": 0,
      "outputs": [
        {
          "output_type": "execute_result",
          "data": {
            "text/plain": [
              "array([[-0.63161879, -1.10257908,  1.63924277, -0.29739517],\n",
              "       [-0.8033941 ,  1.4476837 , -1.06965967,  1.37497489],\n",
              "       [-0.32540507,  0.78280175,  0.08479019,  2.00553373]])"
            ]
          },
          "metadata": {
            "tags": []
          },
          "execution_count": 4
        }
      ]
    },
    {
      "cell_type": "code",
      "metadata": {
        "id": "63DFqJqNDauS",
        "colab_type": "code",
        "outputId": "1c75bc70-783e-4e22-8d8a-8acc54951c14",
        "colab": {
          "base_uri": "https://localhost:8080/",
          "height": 35
        }
      },
      "source": [
        "data.dtype"
      ],
      "execution_count": 0,
      "outputs": [
        {
          "output_type": "execute_result",
          "data": {
            "text/plain": [
              "dtype('float64')"
            ]
          },
          "metadata": {
            "tags": []
          },
          "execution_count": 5
        }
      ]
    },
    {
      "cell_type": "markdown",
      "metadata": {
        "id": "GwEWEpIZXLfP",
        "colab_type": "text"
      },
      "source": [
        ""
      ]
    },
    {
      "cell_type": "code",
      "metadata": {
        "id": "rW1r9YEIDes5",
        "colab_type": "code",
        "outputId": "859daed3-a1ea-4320-9e95-12c345040f60",
        "colab": {
          "base_uri": "https://localhost:8080/",
          "height": 35
        }
      },
      "source": [
        "data1=[6,7,8,0,1]\n",
        "arr1=np.array(data1, dtype=np.float64)#创建ndarry\n",
        "arr1"
      ],
      "execution_count": 0,
      "outputs": [
        {
          "output_type": "execute_result",
          "data": {
            "text/plain": [
              "array([6., 7., 8., 0., 1.])"
            ]
          },
          "metadata": {
            "tags": []
          },
          "execution_count": 6
        }
      ]
    },
    {
      "cell_type": "code",
      "metadata": {
        "id": "CEry4c2-XGSW",
        "colab_type": "code",
        "outputId": "71089cfe-3a31-41ec-8f8c-1165bec75b2e",
        "colab": {
          "base_uri": "https://localhost:8080/",
          "height": 35
        }
      },
      "source": [
        "arr1.dtype"
      ],
      "execution_count": 0,
      "outputs": [
        {
          "output_type": "execute_result",
          "data": {
            "text/plain": [
              "dtype('float64')"
            ]
          },
          "metadata": {
            "tags": []
          },
          "execution_count": 7
        }
      ]
    },
    {
      "cell_type": "code",
      "metadata": {
        "id": "X7AIrhmsXPAI",
        "colab_type": "code",
        "outputId": "b7f85930-b8f4-48a8-d2c2-d786935da1d7",
        "colab": {
          "base_uri": "https://localhost:8080/",
          "height": 35
        }
      },
      "source": [
        "arr1.shape"
      ],
      "execution_count": 0,
      "outputs": [
        {
          "output_type": "execute_result",
          "data": {
            "text/plain": [
              "(5,)"
            ]
          },
          "metadata": {
            "tags": []
          },
          "execution_count": 8
        }
      ]
    },
    {
      "cell_type": "code",
      "metadata": {
        "id": "0ygKDd7xXSvC",
        "colab_type": "code",
        "outputId": "25c43411-87d9-4267-d09c-abe7eabef68c",
        "colab": {
          "base_uri": "https://localhost:8080/",
          "height": 54
        }
      },
      "source": [
        "data2=[[1,2,3,4],[5,6,7,8]]\n",
        "arr2=np.array(data2)\n",
        "arr2"
      ],
      "execution_count": 0,
      "outputs": [
        {
          "output_type": "execute_result",
          "data": {
            "text/plain": [
              "array([[1, 2, 3, 4],\n",
              "       [5, 6, 7, 8]])"
            ]
          },
          "metadata": {
            "tags": []
          },
          "execution_count": 9
        }
      ]
    },
    {
      "cell_type": "code",
      "metadata": {
        "id": "NPkhX8StXhGY",
        "colab_type": "code",
        "outputId": "41f7a540-d45e-4dec-9934-17d482fd0cfd",
        "colab": {
          "base_uri": "https://localhost:8080/",
          "height": 35
        }
      },
      "source": [
        "arr2.shape"
      ],
      "execution_count": 0,
      "outputs": [
        {
          "output_type": "execute_result",
          "data": {
            "text/plain": [
              "(2, 4)"
            ]
          },
          "metadata": {
            "tags": []
          },
          "execution_count": 10
        }
      ]
    },
    {
      "cell_type": "code",
      "metadata": {
        "id": "luSQvvwPeWbd",
        "colab_type": "code",
        "outputId": "32b03f7d-eb4d-40f5-daec-000e01edd236",
        "colab": {
          "base_uri": "https://localhost:8080/",
          "height": 35
        }
      },
      "source": [
        "arr2.dtype"
      ],
      "execution_count": 0,
      "outputs": [
        {
          "output_type": "execute_result",
          "data": {
            "text/plain": [
              "dtype('int64')"
            ]
          },
          "metadata": {
            "tags": []
          },
          "execution_count": 11
        }
      ]
    },
    {
      "cell_type": "code",
      "metadata": {
        "id": "hyOeVF6eeY6K",
        "colab_type": "code",
        "outputId": "cca04efe-e10f-40e2-fb46-82985f2b06cc",
        "colab": {
          "base_uri": "https://localhost:8080/",
          "height": 35
        }
      },
      "source": [
        "#arange 内置range\n",
        "arr=np.arange(10)\n",
        "arr"
      ],
      "execution_count": 0,
      "outputs": [
        {
          "output_type": "execute_result",
          "data": {
            "text/plain": [
              "array([0, 1, 2, 3, 4, 5, 6, 7, 8, 9])"
            ]
          },
          "metadata": {
            "tags": []
          },
          "execution_count": 12
        }
      ]
    },
    {
      "cell_type": "code",
      "metadata": {
        "id": "UwXa5THIfH4x",
        "colab_type": "code",
        "outputId": "afe11181-3b51-467a-9aba-398d1ec0f06e",
        "colab": {
          "base_uri": "https://localhost:8080/",
          "height": 35
        }
      },
      "source": [
        "arr=np.ones((5,),dtype=object)\n",
        "arr"
      ],
      "execution_count": 0,
      "outputs": [
        {
          "output_type": "execute_result",
          "data": {
            "text/plain": [
              "array([1, 1, 1, 1, 1], dtype=object)"
            ]
          },
          "metadata": {
            "tags": []
          },
          "execution_count": 13
        }
      ]
    },
    {
      "cell_type": "code",
      "metadata": {
        "id": "ZN8fk_AIg0fu",
        "colab_type": "code",
        "outputId": "85dde1e9-44d6-471a-ad70-b4e5bcf5e12b",
        "colab": {
          "base_uri": "https://localhost:8080/",
          "height": 35
        }
      },
      "source": [
        "arr=np.ones((5,),dtype=bool)\n",
        "arr"
      ],
      "execution_count": 0,
      "outputs": [
        {
          "output_type": "execute_result",
          "data": {
            "text/plain": [
              "array([ True,  True,  True,  True,  True])"
            ]
          },
          "metadata": {
            "tags": []
          },
          "execution_count": 14
        }
      ]
    },
    {
      "cell_type": "code",
      "metadata": {
        "id": "59Vq2e02g9th",
        "colab_type": "code",
        "outputId": "7462945b-d2f7-4a83-80c9-ee8c2780926d",
        "colab": {
          "base_uri": "https://localhost:8080/",
          "height": 35
        }
      },
      "source": [
        "#astype转化类型但不改变原变量\n",
        "arr.astype(np.float)\n",
        "arr"
      ],
      "execution_count": 0,
      "outputs": [
        {
          "output_type": "execute_result",
          "data": {
            "text/plain": [
              "array([ True,  True,  True,  True,  True])"
            ]
          },
          "metadata": {
            "tags": []
          },
          "execution_count": 15
        }
      ]
    },
    {
      "cell_type": "code",
      "metadata": {
        "id": "ShpjA8F_hmby",
        "colab_type": "code",
        "outputId": "a9cbebba-7882-4d05-eebf-7f129930bacf",
        "colab": {
          "base_uri": "https://localhost:8080/",
          "height": 35
        }
      },
      "source": [
        "arr2=arr.astype(np.float)\n",
        "arr2"
      ],
      "execution_count": 0,
      "outputs": [
        {
          "output_type": "execute_result",
          "data": {
            "text/plain": [
              "array([1., 1., 1., 1., 1.])"
            ]
          },
          "metadata": {
            "tags": []
          },
          "execution_count": 16
        }
      ]
    },
    {
      "cell_type": "markdown",
      "metadata": {
        "id": "yow8VJjtjtKK",
        "colab_type": "text"
      },
      "source": [
        ""
      ]
    },
    {
      "cell_type": "code",
      "metadata": {
        "id": "30NpuDZihpLl",
        "colab_type": "code",
        "outputId": "d8aea077-e324-48de-e4df-4bdfeac4c7a9",
        "colab": {
          "base_uri": "https://localhost:8080/",
          "height": 35
        }
      },
      "source": [
        "arr3d = np.array([[[1, 2, 3], [4, 5, 6]], [[7, 8, 9], [10, 11, 12]]])\n",
        "arr3d.shape"
      ],
      "execution_count": 0,
      "outputs": [
        {
          "output_type": "execute_result",
          "data": {
            "text/plain": [
              "(2, 2, 3)"
            ]
          },
          "metadata": {
            "tags": []
          },
          "execution_count": 17
        }
      ]
    },
    {
      "cell_type": "code",
      "metadata": {
        "id": "Qo7QV0I4j40E",
        "colab_type": "code",
        "outputId": "9da7847d-3e44-4532-88e3-01151d74bee2",
        "colab": {
          "base_uri": "https://localhost:8080/",
          "height": 54
        }
      },
      "source": [
        "arr2d=np.array([[1, 2, 3],[4, 5, 6],[7, 8, 9]])\n",
        "arr2d[:2,1:]"
      ],
      "execution_count": 0,
      "outputs": [
        {
          "output_type": "execute_result",
          "data": {
            "text/plain": [
              "array([[2, 3],\n",
              "       [5, 6]])"
            ]
          },
          "metadata": {
            "tags": []
          },
          "execution_count": 18
        }
      ]
    },
    {
      "cell_type": "code",
      "metadata": {
        "id": "qSBXAmYPo0lJ",
        "colab_type": "code",
        "outputId": "fe4a7b0a-33c4-4c81-97d7-6dd6eef1360f",
        "colab": {
          "base_uri": "https://localhost:8080/",
          "height": 72
        }
      },
      "source": [
        "arr2d[:1,:]=0\n",
        "arr2d"
      ],
      "execution_count": 0,
      "outputs": [
        {
          "output_type": "execute_result",
          "data": {
            "text/plain": [
              "array([[0, 0, 0],\n",
              "       [4, 5, 6],\n",
              "       [7, 8, 9]])"
            ]
          },
          "metadata": {
            "tags": []
          },
          "execution_count": 19
        }
      ]
    },
    {
      "cell_type": "code",
      "metadata": {
        "id": "5Lv9yPG0o-3g",
        "colab_type": "code",
        "outputId": "45ce7be4-4406-4299-a362-be044f0f398b",
        "colab": {
          "base_uri": "https://localhost:8080/",
          "height": 35
        }
      },
      "source": [
        "names = np.array(['Bob', 'Joe', 'Will', 'Bob', 'Will', 'Joe', 'Joe'])\n",
        "names=='Bob'"
      ],
      "execution_count": 0,
      "outputs": [
        {
          "output_type": "execute_result",
          "data": {
            "text/plain": [
              "array([ True, False, False,  True, False, False, False])"
            ]
          },
          "metadata": {
            "tags": []
          },
          "execution_count": 20
        }
      ]
    },
    {
      "cell_type": "code",
      "metadata": {
        "id": "Sd5np0fRpTtn",
        "colab_type": "code",
        "outputId": "c92e685f-d34f-4dae-ceda-a3cf59b0947d",
        "colab": {
          "base_uri": "https://localhost:8080/",
          "height": 146
        }
      },
      "source": [
        "data=np.random.randn(7,4)\n",
        "data"
      ],
      "execution_count": 0,
      "outputs": [
        {
          "output_type": "execute_result",
          "data": {
            "text/plain": [
              "array([[ 0.51557111,  0.46582393,  0.3997305 ,  1.08641576],\n",
              "       [ 0.64885413, -0.98518812, -0.17084033,  1.0477356 ],\n",
              "       [-0.02321493, -0.00513448,  0.49207367, -0.5783812 ],\n",
              "       [-0.35032077,  0.08471309, -2.04085299, -0.54193665],\n",
              "       [-0.48448648, -3.89710776, -2.74533187,  0.23007123],\n",
              "       [-1.03075617, -0.73460246,  0.07023807, -0.14343656],\n",
              "       [-0.41139338,  0.69174882, -0.20617201,  1.5911456 ]])"
            ]
          },
          "metadata": {
            "tags": []
          },
          "execution_count": 21
        }
      ]
    },
    {
      "cell_type": "markdown",
      "metadata": {
        "id": "glsaIjcbqKAh",
        "colab_type": "text"
      },
      "source": [
        ""
      ]
    },
    {
      "cell_type": "code",
      "metadata": {
        "id": "THVkPYZ6qBWv",
        "colab_type": "code",
        "outputId": "e5d4ba9c-ed37-4b1f-a372-cd45adb580d5",
        "colab": {
          "base_uri": "https://localhost:8080/",
          "height": 54
        }
      },
      "source": [
        "data[names=='Bob']"
      ],
      "execution_count": 0,
      "outputs": [
        {
          "output_type": "execute_result",
          "data": {
            "text/plain": [
              "array([[ 0.51557111,  0.46582393,  0.3997305 ,  1.08641576],\n",
              "       [-0.35032077,  0.08471309, -2.04085299, -0.54193665]])"
            ]
          },
          "metadata": {
            "tags": []
          },
          "execution_count": 22
        }
      ]
    },
    {
      "cell_type": "code",
      "metadata": {
        "id": "UgZEm-vGqWbw",
        "colab_type": "code",
        "outputId": "8c8cd15a-ea3d-4b6c-98cc-a6f3271c1a36",
        "colab": {
          "base_uri": "https://localhost:8080/",
          "height": 109
        }
      },
      "source": [
        "data[names!='Bob']"
      ],
      "execution_count": 0,
      "outputs": [
        {
          "output_type": "execute_result",
          "data": {
            "text/plain": [
              "array([[ 0.64885413, -0.98518812, -0.17084033,  1.0477356 ],\n",
              "       [-0.02321493, -0.00513448,  0.49207367, -0.5783812 ],\n",
              "       [-0.48448648, -3.89710776, -2.74533187,  0.23007123],\n",
              "       [-1.03075617, -0.73460246,  0.07023807, -0.14343656],\n",
              "       [-0.41139338,  0.69174882, -0.20617201,  1.5911456 ]])"
            ]
          },
          "metadata": {
            "tags": []
          },
          "execution_count": 23
        }
      ]
    },
    {
      "cell_type": "code",
      "metadata": {
        "id": "uFS9nGfLqabB",
        "colab_type": "code",
        "outputId": "f8c278d2-a6ff-415a-81ba-b3e82c9f78d0",
        "colab": {
          "base_uri": "https://localhost:8080/",
          "height": 109
        }
      },
      "source": [
        "#~操作符用来反转条件\n",
        "cond=names=='Bob'\n",
        "data[~cond]"
      ],
      "execution_count": 0,
      "outputs": [
        {
          "output_type": "execute_result",
          "data": {
            "text/plain": [
              "array([[ 0.64885413, -0.98518812, -0.17084033,  1.0477356 ],\n",
              "       [-0.02321493, -0.00513448,  0.49207367, -0.5783812 ],\n",
              "       [-0.48448648, -3.89710776, -2.74533187,  0.23007123],\n",
              "       [-1.03075617, -0.73460246,  0.07023807, -0.14343656],\n",
              "       [-0.41139338,  0.69174882, -0.20617201,  1.5911456 ]])"
            ]
          },
          "metadata": {
            "tags": []
          },
          "execution_count": 24
        }
      ]
    },
    {
      "cell_type": "code",
      "metadata": {
        "id": "iSYRXOiNqmMi",
        "colab_type": "code",
        "outputId": "901becce-ebe1-4f50-8f62-16ec1a1bf69f",
        "colab": {
          "base_uri": "https://localhost:8080/",
          "height": 35
        }
      },
      "source": [
        "print(names)\n",
        "mask=(names=='Bob')|(names=='Will')"
      ],
      "execution_count": 0,
      "outputs": [
        {
          "output_type": "stream",
          "text": [
            "['Bob' 'Joe' 'Will' 'Bob' 'Will' 'Joe' 'Joe']\n"
          ],
          "name": "stdout"
        }
      ]
    },
    {
      "cell_type": "code",
      "metadata": {
        "id": "AAitweWLrY8-",
        "colab_type": "code",
        "outputId": "575fb72b-2dd8-4568-a62e-dd404ef4890a",
        "colab": {
          "base_uri": "https://localhost:8080/",
          "height": 274
        }
      },
      "source": [
        "print(data)\n",
        "data[data<0]=0\n",
        "data"
      ],
      "execution_count": 0,
      "outputs": [
        {
          "output_type": "stream",
          "text": [
            "[[ 0.51557111  0.46582393  0.3997305   1.08641576]\n",
            " [ 0.64885413 -0.98518812 -0.17084033  1.0477356 ]\n",
            " [-0.02321493 -0.00513448  0.49207367 -0.5783812 ]\n",
            " [-0.35032077  0.08471309 -2.04085299 -0.54193665]\n",
            " [-0.48448648 -3.89710776 -2.74533187  0.23007123]\n",
            " [-1.03075617 -0.73460246  0.07023807 -0.14343656]\n",
            " [-0.41139338  0.69174882 -0.20617201  1.5911456 ]]\n"
          ],
          "name": "stdout"
        },
        {
          "output_type": "execute_result",
          "data": {
            "text/plain": [
              "array([[0.51557111, 0.46582393, 0.3997305 , 1.08641576],\n",
              "       [0.64885413, 0.        , 0.        , 1.0477356 ],\n",
              "       [0.        , 0.        , 0.49207367, 0.        ],\n",
              "       [0.        , 0.08471309, 0.        , 0.        ],\n",
              "       [0.        , 0.        , 0.        , 0.23007123],\n",
              "       [0.        , 0.        , 0.07023807, 0.        ],\n",
              "       [0.        , 0.69174882, 0.        , 1.5911456 ]])"
            ]
          },
          "metadata": {
            "tags": []
          },
          "execution_count": 26
        }
      ]
    },
    {
      "cell_type": "code",
      "metadata": {
        "id": "ArhgC6c0ri2c",
        "colab_type": "code",
        "outputId": "4f6221e1-db66-40df-90b3-0ea42fdda6e7",
        "colab": {
          "base_uri": "https://localhost:8080/",
          "height": 146
        }
      },
      "source": [
        "#通过一维布尔数组设置整行或列的值\n",
        "data[(names =='Will')|(names =='Joe')]=0\n",
        "data\n"
      ],
      "execution_count": 0,
      "outputs": [
        {
          "output_type": "execute_result",
          "data": {
            "text/plain": [
              "array([[0.51557111, 0.46582393, 0.3997305 , 1.08641576],\n",
              "       [0.        , 0.        , 0.        , 0.        ],\n",
              "       [0.        , 0.        , 0.        , 0.        ],\n",
              "       [0.        , 0.08471309, 0.        , 0.        ],\n",
              "       [0.        , 0.        , 0.        , 0.        ],\n",
              "       [0.        , 0.        , 0.        , 0.        ],\n",
              "       [0.        , 0.        , 0.        , 0.        ]])"
            ]
          },
          "metadata": {
            "tags": []
          },
          "execution_count": 27
        }
      ]
    },
    {
      "cell_type": "code",
      "metadata": {
        "id": "499PrPL3sNC9",
        "colab_type": "code",
        "outputId": "46d7d308-7d5d-4ac9-c82e-e9e3b20aed20",
        "colab": {
          "base_uri": "https://localhost:8080/",
          "height": 458
        }
      },
      "source": [
        "arr=np.empty((8,4))\n",
        "print(arr)\n",
        "for i in range(8):\n",
        "  arr[i]=i\n",
        "print(arr)\n",
        "for i in range(8):\n",
        "  for j in range(4):\n",
        "    arr[i][j]= 4*i+j     \n",
        "print(arr)"
      ],
      "execution_count": 0,
      "outputs": [
        {
          "output_type": "stream",
          "text": [
            "[[1.58786533e-316 1.06099790e-312 1.29441743e-312 2.37663529e-312]\n",
            " [2.05833592e-312 2.41907520e-312 2.56761491e-312 1.93101617e-312]\n",
            " [1.03977794e-312 6.79038653e-313 9.33678148e-313 1.08221785e-312]\n",
            " [9.33678148e-313 1.10343781e-312 6.79038653e-313 9.33678148e-313]\n",
            " [1.14587773e-312 9.33678148e-313 1.16709769e-312 6.79038653e-313]\n",
            " [9.33678148e-313 1.20953760e-312 1.97345609e-312 2.12199579e-313]\n",
            " [2.41907520e-312 1.06099790e-312 1.93101617e-312 1.06099790e-312]\n",
            " [1.03977794e-312 1.97345609e-312 0.00000000e+000 0.00000000e+000]]\n",
            "[[0. 0. 0. 0.]\n",
            " [1. 1. 1. 1.]\n",
            " [2. 2. 2. 2.]\n",
            " [3. 3. 3. 3.]\n",
            " [4. 4. 4. 4.]\n",
            " [5. 5. 5. 5.]\n",
            " [6. 6. 6. 6.]\n",
            " [7. 7. 7. 7.]]\n",
            "[[ 0.  1.  2.  3.]\n",
            " [ 4.  5.  6.  7.]\n",
            " [ 8.  9. 10. 11.]\n",
            " [12. 13. 14. 15.]\n",
            " [16. 17. 18. 19.]\n",
            " [20. 21. 22. 23.]\n",
            " [24. 25. 26. 27.]\n",
            " [28. 29. 30. 31.]]\n"
          ],
          "name": "stdout"
        }
      ]
    },
    {
      "cell_type": "code",
      "metadata": {
        "id": "vKGpk8GwuHWb",
        "colab_type": "code",
        "outputId": "5b8b4fe8-6f00-4391-d902-53904d20f3d3",
        "colab": {
          "base_uri": "https://localhost:8080/",
          "height": 72
        }
      },
      "source": [
        "#选取固定子集\n",
        "arr[[4,1,1]]"
      ],
      "execution_count": 0,
      "outputs": [
        {
          "output_type": "execute_result",
          "data": {
            "text/plain": [
              "array([[16., 17., 18., 19.],\n",
              "       [ 4.,  5.,  6.,  7.],\n",
              "       [ 4.,  5.,  6.,  7.]])"
            ]
          },
          "metadata": {
            "tags": []
          },
          "execution_count": 29
        }
      ]
    },
    {
      "cell_type": "code",
      "metadata": {
        "id": "7BLO5uhiuypj",
        "colab_type": "code",
        "outputId": "56f26f49-789a-429e-f360-484eb9d2de4d",
        "colab": {
          "base_uri": "https://localhost:8080/",
          "height": 72
        }
      },
      "source": [
        "#倒着取\n",
        "arr[[-3,-5,-7]]"
      ],
      "execution_count": 0,
      "outputs": [
        {
          "output_type": "execute_result",
          "data": {
            "text/plain": [
              "array([[20., 21., 22., 23.],\n",
              "       [12., 13., 14., 15.],\n",
              "       [ 4.,  5.,  6.,  7.]])"
            ]
          },
          "metadata": {
            "tags": []
          },
          "execution_count": 30
        }
      ]
    },
    {
      "cell_type": "code",
      "metadata": {
        "id": "qIuU-_52u7Qw",
        "colab_type": "code",
        "outputId": "5a85ec5c-0f43-48ea-e28c-868299c06d9f",
        "colab": {
          "base_uri": "https://localhost:8080/",
          "height": 35
        }
      },
      "source": [
        "arr = np.arange(16).reshape((2, 2, 4))\n",
        "\n",
        "arr.shape"
      ],
      "execution_count": 0,
      "outputs": [
        {
          "output_type": "execute_result",
          "data": {
            "text/plain": [
              "(2, 2, 4)"
            ]
          },
          "metadata": {
            "tags": []
          },
          "execution_count": 31
        }
      ]
    },
    {
      "cell_type": "code",
      "metadata": {
        "id": "_2cPo_PWxmZU",
        "colab_type": "code",
        "outputId": "a8648ff1-5c84-4e3e-af64-7c4ca2452e5d",
        "colab": {
          "base_uri": "https://localhost:8080/",
          "height": 35
        }
      },
      "source": [
        "arr1=arr.transpose((0,2,1))\n",
        "arr1.shape"
      ],
      "execution_count": 0,
      "outputs": [
        {
          "output_type": "execute_result",
          "data": {
            "text/plain": [
              "(2, 4, 2)"
            ]
          },
          "metadata": {
            "tags": []
          },
          "execution_count": 32
        }
      ]
    },
    {
      "cell_type": "code",
      "metadata": {
        "id": "k4HVxgnPzDo_",
        "colab_type": "code",
        "outputId": "51790d38-d5d6-4aed-a86c-50a52d8d8862",
        "colab": {
          "base_uri": "https://localhost:8080/",
          "height": 182
        }
      },
      "source": [
        "arr1"
      ],
      "execution_count": 0,
      "outputs": [
        {
          "output_type": "execute_result",
          "data": {
            "text/plain": [
              "array([[[ 0,  4],\n",
              "        [ 1,  5],\n",
              "        [ 2,  6],\n",
              "        [ 3,  7]],\n",
              "\n",
              "       [[ 8, 12],\n",
              "        [ 9, 13],\n",
              "        [10, 14],\n",
              "        [11, 15]]])"
            ]
          },
          "metadata": {
            "tags": []
          },
          "execution_count": 33
        }
      ]
    },
    {
      "cell_type": "code",
      "metadata": {
        "id": "VPVz_t_JbQ7U",
        "colab_type": "code",
        "outputId": "bf4e0462-7479-4759-83d2-4df5be332cda",
        "colab": {
          "base_uri": "https://localhost:8080/",
          "height": 164
        }
      },
      "source": [
        " arr=np.empty((8,4))\n",
        " for i in range(8):\n",
        "   arr[i]=i\n",
        "arr"
      ],
      "execution_count": 0,
      "outputs": [
        {
          "output_type": "execute_result",
          "data": {
            "text/plain": [
              "array([[0., 0., 0., 0.],\n",
              "       [1., 1., 1., 1.],\n",
              "       [2., 2., 2., 2.],\n",
              "       [3., 3., 3., 3.],\n",
              "       [4., 4., 4., 4.],\n",
              "       [5., 5., 5., 5.],\n",
              "       [6., 6., 6., 6.],\n",
              "       [7., 7., 7., 7.]])"
            ]
          },
          "metadata": {
            "tags": []
          },
          "execution_count": 34
        }
      ]
    },
    {
      "cell_type": "code",
      "metadata": {
        "id": "fJM-sJvIbloj",
        "colab_type": "code",
        "outputId": "64154242-dcb9-44df-a31d-9aff66f0649a",
        "colab": {
          "base_uri": "https://localhost:8080/",
          "height": 109
        }
      },
      "source": [
        "# fancy indexing\n",
        "print(arr[[4,1,3]])\n",
        "print(arr[[-1,-5]])"
      ],
      "execution_count": 0,
      "outputs": [
        {
          "output_type": "stream",
          "text": [
            "[[4. 4. 4. 4.]\n",
            " [1. 1. 1. 1.]\n",
            " [3. 3. 3. 3.]]\n",
            "[[7. 7. 7. 7.]\n",
            " [3. 3. 3. 3.]]\n"
          ],
          "name": "stdout"
        }
      ]
    },
    {
      "cell_type": "code",
      "metadata": {
        "id": "owfGNzjcb_8C",
        "colab_type": "code",
        "outputId": "47ac36df-c51e-41aa-94c8-0f6411e8001e",
        "colab": {
          "base_uri": "https://localhost:8080/",
          "height": 35
        }
      },
      "source": [
        "#ufunc\n",
        "arr=np.arange(10)\n",
        "arr"
      ],
      "execution_count": 0,
      "outputs": [
        {
          "output_type": "execute_result",
          "data": {
            "text/plain": [
              "array([0, 1, 2, 3, 4, 5, 6, 7, 8, 9])"
            ]
          },
          "metadata": {
            "tags": []
          },
          "execution_count": 38
        }
      ]
    },
    {
      "cell_type": "code",
      "metadata": {
        "id": "WjIz-geGcf0f",
        "colab_type": "code",
        "outputId": "2ac0ecef-8e3c-41df-d31e-0f2e28091610",
        "colab": {
          "base_uri": "https://localhost:8080/",
          "height": 54
        }
      },
      "source": [
        "np.sqrt(arr)"
      ],
      "execution_count": 0,
      "outputs": [
        {
          "output_type": "execute_result",
          "data": {
            "text/plain": [
              "array([0.        , 1.        , 1.41421356, 1.73205081, 2.        ,\n",
              "       2.23606798, 2.44948974, 2.64575131, 2.82842712, 3.        ])"
            ]
          },
          "metadata": {
            "tags": []
          },
          "execution_count": 39
        }
      ]
    },
    {
      "cell_type": "code",
      "metadata": {
        "id": "dH7kXrtAcl6t",
        "colab_type": "code",
        "outputId": "1630db90-d8e8-458e-d475-920ff08beea2",
        "colab": {
          "base_uri": "https://localhost:8080/",
          "height": 72
        }
      },
      "source": [
        "np.exp(arr)"
      ],
      "execution_count": 0,
      "outputs": [
        {
          "output_type": "execute_result",
          "data": {
            "text/plain": [
              "array([1.00000000e+00, 2.71828183e+00, 7.38905610e+00, 2.00855369e+01,\n",
              "       5.45981500e+01, 1.48413159e+02, 4.03428793e+02, 1.09663316e+03,\n",
              "       2.98095799e+03, 8.10308393e+03])"
            ]
          },
          "metadata": {
            "tags": []
          },
          "execution_count": 40
        }
      ]
    },
    {
      "cell_type": "code",
      "metadata": {
        "id": "MexvIQS3czZB",
        "colab_type": "code",
        "outputId": "348e03ff-ff03-4a7a-b60c-c46fa49a9858",
        "colab": {
          "base_uri": "https://localhost:8080/",
          "height": 54
        }
      },
      "source": [
        "arr=np.random.randn(8)*10\n",
        "arr"
      ],
      "execution_count": 0,
      "outputs": [
        {
          "output_type": "execute_result",
          "data": {
            "text/plain": [
              "array([  0.47769033,  13.48660176, -16.97463694,  -8.71669306,\n",
              "       -13.406671  ,  -7.24171195,  10.22843257,  -0.31772748])"
            ]
          },
          "metadata": {
            "tags": []
          },
          "execution_count": 42
        }
      ]
    },
    {
      "cell_type": "code",
      "metadata": {
        "id": "tKxWgZVRdHCc",
        "colab_type": "code",
        "outputId": "6666f48f-5c43-4f03-c502-54d5a4d160ea",
        "colab": {
          "base_uri": "https://localhost:8080/",
          "height": 54
        }
      },
      "source": [
        "reminder, whole_part=np.modf(arr)\n",
        "print(reminder,whole_part)"
      ],
      "execution_count": 0,
      "outputs": [
        {
          "output_type": "stream",
          "text": [
            "[ 0.47769033  0.48660176 -0.97463694 -0.71669306 -0.406671   -0.24171195\n",
            "  0.22843257 -0.31772748] [  0.  13. -16.  -8. -13.  -7.  10.  -0.]\n"
          ],
          "name": "stdout"
        }
      ]
    },
    {
      "cell_type": "code",
      "metadata": {
        "id": "WoG2ZH4zdiOY",
        "colab_type": "code",
        "colab": {}
      },
      "source": [
        "#矢量化数组\n",
        "import numpy as np\n",
        "points = np.arange(-5, 5, 0.01)"
      ],
      "execution_count": 0,
      "outputs": []
    },
    {
      "cell_type": "code",
      "metadata": {
        "id": "LbVr8tT16Z8a",
        "colab_type": "code",
        "outputId": "ad15492d-f94f-4aed-8b14-405f4e06657c",
        "colab": {
          "base_uri": "https://localhost:8080/",
          "height": 146
        }
      },
      "source": [
        "xs,ys=np.meshgrid(points,points)\n",
        "ys"
      ],
      "execution_count": 0,
      "outputs": [
        {
          "output_type": "execute_result",
          "data": {
            "text/plain": [
              "array([[-5.  , -5.  , -5.  , ..., -5.  , -5.  , -5.  ],\n",
              "       [-4.99, -4.99, -4.99, ..., -4.99, -4.99, -4.99],\n",
              "       [-4.98, -4.98, -4.98, ..., -4.98, -4.98, -4.98],\n",
              "       ...,\n",
              "       [ 4.97,  4.97,  4.97, ...,  4.97,  4.97,  4.97],\n",
              "       [ 4.98,  4.98,  4.98, ...,  4.98,  4.98,  4.98],\n",
              "       [ 4.99,  4.99,  4.99, ...,  4.99,  4.99,  4.99]])"
            ]
          },
          "metadata": {
            "tags": []
          },
          "execution_count": 8
        }
      ]
    },
    {
      "cell_type": "code",
      "metadata": {
        "id": "5Qo-GCzj6ZfJ",
        "colab_type": "code",
        "outputId": "bcff35ec-54b0-413d-9c88-37956b261c4e",
        "colab": {
          "base_uri": "https://localhost:8080/",
          "height": 35
        }
      },
      "source": [
        "ys.shape"
      ],
      "execution_count": 0,
      "outputs": [
        {
          "output_type": "execute_result",
          "data": {
            "text/plain": [
              "(1000, 1000)"
            ]
          },
          "metadata": {
            "tags": []
          },
          "execution_count": 10
        }
      ]
    },
    {
      "cell_type": "code",
      "metadata": {
        "id": "EF_4zP5c-va-",
        "colab_type": "code",
        "outputId": "d5a042b5-6667-4c5d-da3e-d5a32898d2fb",
        "colab": {
          "base_uri": "https://localhost:8080/",
          "height": 146
        }
      },
      "source": [
        "xs"
      ],
      "execution_count": 0,
      "outputs": [
        {
          "output_type": "execute_result",
          "data": {
            "text/plain": [
              "array([[-5.  , -4.99, -4.98, ...,  4.97,  4.98,  4.99],\n",
              "       [-5.  , -4.99, -4.98, ...,  4.97,  4.98,  4.99],\n",
              "       [-5.  , -4.99, -4.98, ...,  4.97,  4.98,  4.99],\n",
              "       ...,\n",
              "       [-5.  , -4.99, -4.98, ...,  4.97,  4.98,  4.99],\n",
              "       [-5.  , -4.99, -4.98, ...,  4.97,  4.98,  4.99],\n",
              "       [-5.  , -4.99, -4.98, ...,  4.97,  4.98,  4.99]])"
            ]
          },
          "metadata": {
            "tags": []
          },
          "execution_count": 11
        }
      ]
    },
    {
      "cell_type": "code",
      "metadata": {
        "id": "l3TwE9S0-xiP",
        "colab_type": "code",
        "outputId": "04ab7c4b-afe4-4939-cc0d-f19def111c56",
        "colab": {
          "base_uri": "https://localhost:8080/",
          "height": 256
        }
      },
      "source": [
        "z=np.sqrt(xs**2+ys**2)\n",
        "z"
      ],
      "execution_count": 0,
      "outputs": [
        {
          "output_type": "execute_result",
          "data": {
            "text/plain": [
              "array([[7.07106781, 7.06400028, 7.05693985, ..., 7.04988652, 7.05693985,\n",
              "        7.06400028],\n",
              "       [7.06400028, 7.05692568, 7.04985815, ..., 7.04279774, 7.04985815,\n",
              "        7.05692568],\n",
              "       [7.05693985, 7.04985815, 7.04278354, ..., 7.03571603, 7.04278354,\n",
              "        7.04985815],\n",
              "       ...,\n",
              "       [7.04988652, 7.04279774, 7.03571603, ..., 7.0286414 , 7.03571603,\n",
              "        7.04279774],\n",
              "       [7.05693985, 7.04985815, 7.04278354, ..., 7.03571603, 7.04278354,\n",
              "        7.04985815],\n",
              "       [7.06400028, 7.05692568, 7.04985815, ..., 7.04279774, 7.04985815,\n",
              "        7.05692568]])"
            ]
          },
          "metadata": {
            "tags": []
          },
          "execution_count": 12
        }
      ]
    },
    {
      "cell_type": "code",
      "metadata": {
        "id": "cWd4cFfQ_Vpj",
        "colab_type": "code",
        "outputId": "907b839b-afae-466e-e63e-4cc880723147",
        "colab": {
          "base_uri": "https://localhost:8080/",
          "height": 299
        }
      },
      "source": [
        "import matplotlib.pyplot as plt\n",
        "plt.imshow(z, cmap=plt.cm.cool_r); plt.colorbar()\n",
        "plt.title(\"image\")"
      ],
      "execution_count": 0,
      "outputs": [
        {
          "output_type": "execute_result",
          "data": {
            "text/plain": [
              "Text(0.5, 1.0, 'image')"
            ]
          },
          "metadata": {
            "tags": []
          },
          "execution_count": 20
        },
        {
          "output_type": "display_data",
          "data": {
            "image/png": "[encoded data removed]",
            "text/plain": [
              "<Figure size 432x288 with 2 Axes>"
            ]
          },
          "metadata": {
            "tags": []
          }
        }
      ]
    },
    {
      "cell_type": "code",
      "metadata": {
        "id": "4unQ-JwMALlr",
        "colab_type": "code",
        "outputId": "d5d11067-b82c-41e7-8a7d-dbed8142c7b4",
        "colab": {
          "base_uri": "https://localhost:8080/",
          "height": 35
        }
      },
      "source": [
        "#条件逻辑运算\n",
        "In [165]: xarr = np.array([1.1, 1.2, 1.3, 1.4, 1.5])\n",
        "\n",
        "In [166]: yarr = np.array([2.1, 2.2, 2.3, 2.4, 2.5])\n",
        "\n",
        "In [167]: cond = np.array([True, False, True, True, False])\n",
        "result=[(x if c else y)for x,y,c in zip(xarr,yarr,cond)]\n",
        "result"
      ],
      "execution_count": 0,
      "outputs": [
        {
          "output_type": "execute_result",
          "data": {
            "text/plain": [
              "[1.1, 2.2, 1.3, 1.4, 2.5]"
            ]
          },
          "metadata": {
            "tags": []
          },
          "execution_count": 25
        }
      ]
    },
    {
      "cell_type": "code",
      "metadata": {
        "id": "q1yotyoODdZU",
        "colab_type": "code",
        "outputId": "2e6fe8b8-e746-45d1-fd80-f49661b02132",
        "colab": {
          "base_uri": "https://localhost:8080/",
          "height": 35
        }
      },
      "source": [
        "result = np.where(cond, xarr, yarr)\n",
        "result"
      ],
      "execution_count": 0,
      "outputs": [
        {
          "output_type": "execute_result",
          "data": {
            "text/plain": [
              "array([1.1, 2.2, 1.3, 1.4, 2.5])"
            ]
          },
          "metadata": {
            "tags": []
          },
          "execution_count": 26
        }
      ]
    },
    {
      "cell_type": "code",
      "metadata": {
        "id": "5uE-WmkOD7Fw",
        "colab_type": "code",
        "outputId": "e90b7dfb-6698-4a6a-bbc1-8e21c1133a43",
        "colab": {
          "base_uri": "https://localhost:8080/",
          "height": 90
        }
      },
      "source": [
        "#np.where\n",
        "arr=np.random.randn(4,4)\n",
        "arr"
      ],
      "execution_count": 0,
      "outputs": [
        {
          "output_type": "execute_result",
          "data": {
            "text/plain": [
              "array([[-0.02857293,  0.24146458, -0.14527553, -0.6555398 ],\n",
              "       [ 0.95231007, -0.4892066 ,  0.94243708,  1.23084978],\n",
              "       [ 2.38536571,  0.18473967, -0.36640468,  0.50428134],\n",
              "       [-0.80617203,  0.285577  , -0.29547301,  1.32307868]])"
            ]
          },
          "metadata": {
            "tags": []
          },
          "execution_count": 30
        }
      ]
    },
    {
      "cell_type": "code",
      "metadata": {
        "id": "8ePhLupXEFgB",
        "colab_type": "code",
        "outputId": "06ff2408-3948-422a-9383-4cb74229b537",
        "colab": {
          "base_uri": "https://localhost:8080/",
          "height": 90
        }
      },
      "source": [
        "np.where(arr>0,2,-2)"
      ],
      "execution_count": 0,
      "outputs": [
        {
          "output_type": "execute_result",
          "data": {
            "text/plain": [
              "array([[-2,  2, -2, -2],\n",
              "       [ 2, -2,  2,  2],\n",
              "       [ 2,  2, -2,  2],\n",
              "       [-2,  2, -2,  2]])"
            ]
          },
          "metadata": {
            "tags": []
          },
          "execution_count": 32
        }
      ]
    },
    {
      "cell_type": "code",
      "metadata": {
        "id": "RRKlOTXtEdj2",
        "colab_type": "code",
        "outputId": "c209dd24-a3f7-4079-833c-4dbe0fd4e065",
        "colab": {
          "base_uri": "https://localhost:8080/",
          "height": 35
        }
      },
      "source": [
        "arr=np.array([0,1,2,3,4,5,6,7])\n",
        "arr.cumsum()"
      ],
      "execution_count": 0,
      "outputs": [
        {
          "output_type": "execute_result",
          "data": {
            "text/plain": [
              "array([ 0,  1,  3,  6, 10, 15, 21, 28])"
            ]
          },
          "metadata": {
            "tags": []
          },
          "execution_count": 33
        }
      ]
    },
    {
      "cell_type": "code",
      "metadata": {
        "id": "ohuVEzK5GYbp",
        "colab_type": "code",
        "outputId": "0b2b3655-f512-41d7-908d-be869735b331",
        "colab": {
          "base_uri": "https://localhost:8080/",
          "height": 35
        }
      },
      "source": [
        "arr=np.random.randn(100)\n",
        "(arr>0).sum()"
      ],
      "execution_count": 0,
      "outputs": [
        {
          "output_type": "execute_result",
          "data": {
            "text/plain": [
              "51"
            ]
          },
          "metadata": {
            "tags": []
          },
          "execution_count": 35
        }
      ]
    },
    {
      "cell_type": "code",
      "metadata": {
        "id": "sHtrsjXyGhYh",
        "colab_type": "code",
        "outputId": "1ccf1c63-3d88-482a-8ed1-e5273693e64f",
        "colab": {
          "base_uri": "https://localhost:8080/",
          "height": 35
        }
      },
      "source": [
        "bools=np.array([False,True])\n",
        "bools.any()"
      ],
      "execution_count": 0,
      "outputs": [
        {
          "output_type": "execute_result",
          "data": {
            "text/plain": [
              "True"
            ]
          },
          "metadata": {
            "tags": []
          },
          "execution_count": 38
        }
      ]
    },
    {
      "cell_type": "code",
      "metadata": {
        "id": "OfExLwnMGqbz",
        "colab_type": "code",
        "outputId": "2cf1edf9-8dfc-4048-e84f-535b81278afb",
        "colab": {
          "base_uri": "https://localhost:8080/",
          "height": 35
        }
      },
      "source": [
        "bools.all()"
      ],
      "execution_count": 0,
      "outputs": [
        {
          "output_type": "execute_result",
          "data": {
            "text/plain": [
              "False"
            ]
          },
          "metadata": {
            "tags": []
          },
          "execution_count": 39
        }
      ]
    },
    {
      "cell_type": "code",
      "metadata": {
        "id": "WvQOn2amGsrT",
        "colab_type": "code",
        "outputId": "f44d3ce0-18f5-48a3-9154-7dff15f024be",
        "colab": {
          "base_uri": "https://localhost:8080/",
          "height": 384
        }
      },
      "source": [
        "arr.sort()\n",
        "arr"
      ],
      "execution_count": 0,
      "outputs": [
        {
          "output_type": "execute_result",
          "data": {
            "text/plain": [
              "array([-2.22014909, -2.14194705, -2.0786332 , -1.88331692, -1.85402765,\n",
              "       -1.74357741, -1.47947996, -1.4690663 , -1.36816631, -1.36381942,\n",
              "       -1.28507724, -1.15319571, -1.0926656 , -1.01912249, -0.90034182,\n",
              "       -0.88960187, -0.83612234, -0.79219718, -0.78303525, -0.75296801,\n",
              "       -0.74964847, -0.70291096, -0.68468697, -0.66714658, -0.65373051,\n",
              "       -0.61787167, -0.5546432 , -0.53963864, -0.52937553, -0.48573197,\n",
              "       -0.47175008, -0.46833604, -0.45845062, -0.44747518, -0.42904124,\n",
              "       -0.37661299, -0.34288841, -0.32708402, -0.26650708, -0.26044425,\n",
              "       -0.25823801, -0.23551885, -0.2015237 , -0.15628846, -0.14167883,\n",
              "       -0.0879497 , -0.08312439, -0.06716792, -0.05532248,  0.00940968,\n",
              "        0.02455893,  0.03864228,  0.05002197,  0.06116145,  0.12027778,\n",
              "        0.12308171,  0.12799558,  0.14933332,  0.15256979,  0.19297846,\n",
              "        0.21374811,  0.22119362,  0.22608229,  0.26967304,  0.36297884,\n",
              "        0.36395791,  0.43274929,  0.44834014,  0.469298  ,  0.50885528,\n",
              "        0.51216028,  0.53564171,  0.53683848,  0.54019773,  0.54834492,\n",
              "        0.55506662,  0.60763582,  0.68772318,  0.72183966,  0.73499738,\n",
              "        0.77089016,  0.77268381,  0.79105729,  0.83528645,  0.8721771 ,\n",
              "        0.90845137,  0.94411948,  1.01009446,  1.01244139,  1.027995  ,\n",
              "        1.06306137,  1.19359799,  1.2589927 ,  1.27859977,  1.28296732,\n",
              "        1.38625323,  1.45682152,  1.50507642,  1.65074298,  1.7287587 ])"
            ]
          },
          "metadata": {
            "tags": []
          },
          "execution_count": 43
        }
      ]
    },
    {
      "cell_type": "code",
      "metadata": {
        "id": "Tm_6lTWTG0qk",
        "colab_type": "code",
        "outputId": "f42be823-9ab8-4dcb-d261-96c85ad4f948",
        "colab": {
          "base_uri": "https://localhost:8080/",
          "height": 35
        }
      },
      "source": [
        "names = np.array(['Bob', 'Joe', 'Will', 'Bob', 'Will', 'Joe', 'Joe'])\n",
        "np.unique(names)"
      ],
      "execution_count": 0,
      "outputs": [
        {
          "output_type": "execute_result",
          "data": {
            "text/plain": [
              "array(['Bob', 'Joe', 'Will'], dtype='<U4')"
            ]
          },
          "metadata": {
            "tags": []
          },
          "execution_count": 45
        }
      ]
    },
    {
      "cell_type": "code",
      "metadata": {
        "id": "KCP-NQtNJ5Ew",
        "colab_type": "code",
        "outputId": "865d9c1d-a632-43f2-cf19-d7058612fd38",
        "colab": {
          "base_uri": "https://localhost:8080/",
          "height": 184
        }
      },
      "source": [
        "sorted(set(names))\n",
        "help(sorted)"
      ],
      "execution_count": 0,
      "outputs": [
        {
          "output_type": "stream",
          "text": [
            "Help on built-in function sorted in module builtins:\n",
            "\n",
            "sorted(iterable, /, *, key=None, reverse=False)\n",
            "    Return a new list containing all items from the iterable in ascending order.\n",
            "    \n",
            "    A custom key function can be supplied to customize the sort order, and the\n",
            "    reverse flag can be set to request the result in descending order.\n",
            "\n"
          ],
          "name": "stdout"
        }
      ]
    },
    {
      "cell_type": "code",
      "metadata": {
        "id": "qCDK7zWjKR0b",
        "colab_type": "code",
        "outputId": "01a9d36d-c624-4a9a-98b1-32bbdff675ef",
        "colab": {
          "base_uri": "https://localhost:8080/",
          "height": 35
        }
      },
      "source": [
        "#input output\n",
        "arr=np.arange(10)\n",
        "np.save('some_array',arr)\n",
        "np.load(\"some_array.npy\")\n"
      ],
      "execution_count": 0,
      "outputs": [
        {
          "output_type": "execute_result",
          "data": {
            "text/plain": [
              "array([0, 1, 2, 3, 4, 5, 6, 7, 8, 9])"
            ]
          },
          "metadata": {
            "tags": []
          },
          "execution_count": 51
        }
      ]
    },
    {
      "cell_type": "code",
      "metadata": {
        "id": "aOqOnrTHMrts",
        "colab_type": "code",
        "outputId": "11fbd796-f13f-4286-e7d3-77ebfd9e742c",
        "colab": {
          "base_uri": "https://localhost:8080/",
          "height": 35
        }
      },
      "source": [
        "np.savez_compressed('arrays-compressed.npz',a=arr,b=arr)\n",
        "arch=np.load('arrays-compressed.npz')\n",
        "arch['b']"
      ],
      "execution_count": 0,
      "outputs": [
        {
          "output_type": "execute_result",
          "data": {
            "text/plain": [
              "array([0, 1, 2, 3, 4, 5, 6, 7, 8, 9])"
            ]
          },
          "metadata": {
            "tags": []
          },
          "execution_count": 52
        }
      ]
    },
    {
      "cell_type": "code",
      "metadata": {
        "id": "t1jctqT1NO0b",
        "colab_type": "code",
        "outputId": "4f10fb3d-3401-4693-e91d-c6361c0569b8",
        "colab": {
          "base_uri": "https://localhost:8080/",
          "height": 54
        }
      },
      "source": [
        "x = np.array([[1., 2., 3.], [4., 5., 6.]])\n",
        "\n",
        "y = np.array([[6., 23.], [-1, 7], [8, 9]])\n",
        "\n",
        "x.dot(y)"
      ],
      "execution_count": 0,
      "outputs": [
        {
          "output_type": "execute_result",
          "data": {
            "text/plain": [
              "array([[ 28.,  64.],\n",
              "       [ 67., 181.]])"
            ]
          },
          "metadata": {
            "tags": []
          },
          "execution_count": 54
        }
      ]
    },
    {
      "cell_type": "code",
      "metadata": {
        "id": "kFdC2F2yNpz6",
        "colab_type": "code",
        "outputId": "a166764a-2275-4ae8-d174-217320bd6e08",
        "colab": {
          "base_uri": "https://localhost:8080/",
          "height": 54
        }
      },
      "source": [
        "np.dot(x,y)"
      ],
      "execution_count": 0,
      "outputs": [
        {
          "output_type": "execute_result",
          "data": {
            "text/plain": [
              "array([[ 28.,  64.],\n",
              "       [ 67., 181.]])"
            ]
          },
          "metadata": {
            "tags": []
          },
          "execution_count": 56
        }
      ]
    },
    {
      "cell_type": "code",
      "metadata": {
        "id": "73-9R9nLN_PO",
        "colab_type": "code",
        "outputId": "984be301-4050-494f-886e-beedaedc1d3d",
        "colab": {
          "base_uri": "https://localhost:8080/",
          "height": 54
        }
      },
      "source": [
        "x@y"
      ],
      "execution_count": 0,
      "outputs": [
        {
          "output_type": "execute_result",
          "data": {
            "text/plain": [
              "array([[ 28.,  64.],\n",
              "       [ 67., 181.]])"
            ]
          },
          "metadata": {
            "tags": []
          },
          "execution_count": 57
        }
      ]
    },
    {
      "cell_type": "code",
      "metadata": {
        "id": "Zl0ihW1bOMii",
        "colab_type": "code",
        "outputId": "4071f7c7-17a8-4b9e-c2ef-ddb6b819a148",
        "colab": {
          "base_uri": "https://localhost:8080/",
          "height": 90
        }
      },
      "source": [
        "samples=np.random.normal(size=(4,4))\n",
        "samples"
      ],
      "execution_count": 0,
      "outputs": [
        {
          "output_type": "execute_result",
          "data": {
            "text/plain": [
              "array([[ 2.60674107, -1.60504803, -1.42111636,  0.30793381],\n",
              "       [-0.7891183 , -1.47128121,  0.58911774, -1.38116087],\n",
              "       [ 0.87857753, -0.27316996,  1.09334245, -2.41381463],\n",
              "       [ 0.88125845, -0.49773551,  1.56705224, -0.92474795]])"
            ]
          },
          "metadata": {
            "tags": []
          },
          "execution_count": 58
        }
      ]
    },
    {
      "cell_type": "code",
      "metadata": {
        "id": "wPBolvgKPJ0x",
        "colab_type": "code",
        "outputId": "196fc5da-8af3-4861-d09a-32381166a88d",
        "colab": {
          "base_uri": "https://localhost:8080/",
          "height": 54
        }
      },
      "source": [
        "from random import normalvariate\n",
        "N=1000000\n",
        "%timeit samples=[normalvariate(0,1)for _ in range(N)]\n",
        "%timeit np.random.normal(size=N)"
      ],
      "execution_count": 0,
      "outputs": [
        {
          "output_type": "stream",
          "text": [
            "1 loop, best of 3: 691 ms per loop\n",
            "10 loops, best of 3: 44.4 ms per loop\n"
          ],
          "name": "stdout"
        }
      ]
    },
    {
      "cell_type": "code",
      "metadata": {
        "id": "xqXSBSl2P35o",
        "colab_type": "code",
        "outputId": "3fcddfee-5235-49e1-df8a-98a0495a2536",
        "colab": {
          "base_uri": "https://localhost:8080/",
          "height": 283
        }
      },
      "source": [
        "import random\n",
        "position=0\n",
        "walk=[position]\n",
        "steps=1000\n",
        "for i in range(steps):\n",
        "  step=1 if random.randint(0,1) else -1\n",
        "  position += step\n",
        "  walk.append(position)\n",
        "plt.plot(walk[:100])"
      ],
      "execution_count": 0,
      "outputs": [
        {
          "output_type": "execute_result",
          "data": {
            "text/plain": [
              "[<matplotlib.lines.Line2D at 0x7f2b7a9d2898>]"
            ]
          },
          "metadata": {
            "tags": []
          },
          "execution_count": 75
        },
        {
          "output_type": "display_data",
          "data": {
            "image/png": "[encoded data removed]",
            "text/plain": [
              "<Figure size 432x288 with 1 Axes>"
            ]
          },
          "metadata": {
            "tags": []
          }
        }
      ]
    },
    {
      "cell_type": "code",
      "metadata": {
        "id": "dnzR0WiHRACx",
        "colab_type": "code",
        "outputId": "2e68c90a-b7d2-4887-b18b-3b8960ffff8c",
        "colab": {
          "base_uri": "https://localhost:8080/",
          "height": 1000
        }
      },
      "source": [
        "nsteps=1000\n",
        "draws=np.random.randint(0,2,size=nsteps)#产生随机数的最大值，最小值，大小，typetype\n",
        "steps=np.where(draws>0,1,-1)\n",
        "walk=steps.cumsum()\n",
        "walk"
      ],
      "execution_count": 0,
      "outputs": [
        {
          "output_type": "execute_result",
          "data": {
            "text/plain": [
              "array([  1,   0,  -1,  -2,  -1,  -2,  -3,  -4,  -3,  -4,  -5,  -6,  -7,\n",
              "        -6,  -7,  -6,  -7,  -8,  -9, -10, -11, -12, -13, -12, -13, -12,\n",
              "       -11, -10,  -9,  -8,  -9, -10,  -9, -10,  -9,  -8,  -7,  -8,  -7,\n",
              "        -6,  -7,  -6,  -5,  -4,  -3,  -2,  -3,  -4,  -3,  -4,  -3,  -2,\n",
              "        -3,  -2,  -1,  -2,  -3,  -4,  -3,  -2,  -1,  -2,  -3,  -2,  -1,\n",
              "         0,   1,   2,   3,   2,   3,   4,   5,   4,   5,   6,   7,   8,\n",
              "         7,   8,   7,   8,   7,   8,   7,   6,   5,   4,   3,   2,   1,\n",
              "         0,   1,   0,   1,   0,   1,   2,   1,   0,   1,   2,   1,   2,\n",
              "         1,   0,  -1,   0,  -1,   0,   1,   0,   1,   0,   1,   0,  -1,\n",
              "         0,  -1,  -2,  -3,  -4,  -3,  -2,  -1,  -2,  -3,  -4,  -3,  -2,\n",
              "        -1,   0,   1,   2,   1,   2,   3,   2,   3,   4,   5,   4,   5,\n",
              "         4,   3,   4,   5,   6,   7,   8,   7,   6,   5,   6,   5,   6,\n",
              "         7,   8,   9,   8,   7,   8,   9,   8,   7,   6,   5,   6,   7,\n",
              "         8,   9,  10,  11,  12,  11,  10,  11,  12,  13,  12,  13,  14,\n",
              "        13,  14,  15,  14,  13,  12,  11,  12,  13,  12,  13,  12,  13,\n",
              "        12,  13,  14,  13,  14,  13,  12,  11,  12,  13,  12,  11,  10,\n",
              "        11,  10,  11,  10,   9,   8,   7,   6,   7,   6,   7,   8,   9,\n",
              "         8,   9,  10,  11,  12,  11,  12,  13,  14,  13,  14,  15,  16,\n",
              "        17,  16,  17,  18,  19,  20,  21,  20,  19,  18,  19,  18,  19,\n",
              "        20,  19,  18,  17,  18,  19,  20,  19,  18,  19,  20,  19,  18,\n",
              "        19,  20,  21,  22,  21,  22,  21,  20,  19,  18,  17,  16,  17,\n",
              "        18,  17,  18,  17,  16,  15,  16,  17,  16,  15,  14,  13,  12,\n",
              "        13,  12,  13,  12,  11,  12,  11,  10,  11,  12,  13,  14,  13,\n",
              "        12,  11,  12,  13,  12,  11,  10,  11,  10,   9,   8,   7,   8,\n",
              "         9,  10,  11,  10,   9,  10,   9,  10,  11,  12,  13,  14,  13,\n",
              "        12,  13,  12,  13,  12,  13,  14,  15,  14,  15,  16,  15,  14,\n",
              "        15,  14,  15,  14,  15,  14,  13,  12,  11,  12,  13,  14,  13,\n",
              "        14,  15,  14,  13,  14,  15,  14,  13,  12,  13,  14,  15,  14,\n",
              "        15,  16,  15,  16,  15,  14,  15,  16,  15,  14,  15,  14,  15,\n",
              "        16,  17,  16,  17,  18,  17,  16,  15,  16,  17,  16,  15,  14,\n",
              "        13,  12,  13,  12,  13,  12,  13,  14,  13,  12,  11,  12,  11,\n",
              "        12,  11,  10,   9,  10,  11,  12,  11,  12,  11,  12,  11,  12,\n",
              "        13,  14,  13,  12,  11,  10,  11,  12,  11,  10,  11,  12,  13,\n",
              "        12,  11,  10,  11,  10,   9,  10,   9,   8,   9,   8,   7,   8,\n",
              "         7,   8,   9,   8,   9,   8,   9,   8,   9,   8,   9,   8,   7,\n",
              "         8,   7,   6,   5,   4,   5,   4,   5,   4,   5,   6,   7,   8,\n",
              "         7,   8,   9,  10,  11,  10,  11,  10,   9,  10,  11,  10,  11,\n",
              "        12,  13,  14,  15,  16,  15,  16,  17,  16,  15,  16,  17,  18,\n",
              "        17,  18,  17,  18,  19,  20,  19,  20,  21,  22,  21,  22,  23,\n",
              "        24,  23,  24,  23,  24,  23,  24,  25,  26,  27,  28,  27,  28,\n",
              "        27,  28,  29,  28,  29,  30,  31,  32,  33,  32,  31,  30,  31,\n",
              "        32,  33,  32,  31,  30,  31,  30,  29,  30,  31,  32,  31,  32,\n",
              "        33,  32,  33,  34,  33,  32,  33,  32,  31,  32,  31,  30,  31,\n",
              "        32,  31,  32,  31,  32,  31,  32,  33,  34,  35,  36,  37,  36,\n",
              "        35,  34,  33,  32,  33,  34,  35,  36,  35,  34,  35,  36,  37,\n",
              "        36,  37,  38,  39,  40,  39,  40,  41,  40,  39,  40,  39,  40,\n",
              "        39,  38,  39,  40,  41,  40,  41,  42,  41,  40,  41,  40,  41,\n",
              "        40,  39,  38,  39,  38,  37,  38,  39,  38,  37,  38,  37,  38,\n",
              "        37,  36,  35,  36,  37,  38,  37,  36,  37,  38,  37,  38,  37,\n",
              "        38,  39,  38,  37,  36,  35,  36,  37,  36,  37,  38,  37,  38,\n",
              "        37,  38,  37,  38,  39,  38,  39,  40,  41,  40,  41,  42,  43,\n",
              "        42,  43,  44,  43,  44,  43,  44,  43,  44,  45,  44,  43,  44,\n",
              "        45,  44,  45,  44,  43,  42,  43,  42,  43,  44,  45,  46,  45,\n",
              "        46,  45,  46,  47,  48,  49,  48,  47,  46,  47,  48,  49,  50,\n",
              "        51,  52,  51,  52,  51,  52,  53,  52,  51,  52,  51,  50,  49,\n",
              "        50,  51,  50,  51,  52,  53,  52,  51,  50,  51,  52,  53,  54,\n",
              "        55,  54,  53,  54,  55,  56,  55,  56,  55,  56,  55,  56,  57,\n",
              "        56,  57,  56,  57,  56,  57,  58,  59,  58,  59,  60,  59,  58,\n",
              "        59,  60,  61,  62,  63,  64,  63,  62,  61,  62,  63,  62,  61,\n",
              "        62,  63,  64,  63,  64,  63,  64,  63,  62,  63,  62,  63,  62,\n",
              "        63,  62,  61,  60,  61,  62,  63,  64,  65,  64,  63,  64,  65,\n",
              "        66,  65,  64,  63,  64,  63,  64,  65,  64,  65,  64,  65,  66,\n",
              "        65,  66,  65,  64,  63,  64,  65,  64,  65,  64,  65,  64,  63,\n",
              "        64,  63,  62,  61,  62,  61,  62,  61,  60,  61,  62,  61,  60,\n",
              "        59,  60,  61,  60,  61,  60,  61,  60,  61,  62,  63,  62,  61,\n",
              "        62,  63,  64,  63,  64,  63,  62,  61,  62,  63,  62,  63,  64,\n",
              "        65,  64,  65,  66,  65,  64,  63,  64,  65,  66,  65,  66,  67,\n",
              "        68,  69,  70,  71,  70,  69,  70,  71,  72,  73,  72,  73,  74,\n",
              "        75,  76,  77,  76,  77,  78,  79,  78,  77,  76,  75,  76,  77,\n",
              "        76,  75,  76,  77,  76,  75,  76,  75,  76,  75,  74,  75,  74,\n",
              "        73,  74,  75,  76,  75,  76,  77,  76,  75,  74,  75,  74,  75,\n",
              "        74,  73,  74,  73,  72,  73,  72,  73,  74,  75,  74,  73,  74,\n",
              "        73,  74,  75,  74,  75,  74,  75,  74,  73,  74,  75,  76,  77,\n",
              "        78,  79,  80,  81,  80,  81,  82,  81,  82,  83,  82,  83,  82,\n",
              "        83,  84,  85,  84,  85,  86,  87,  86,  85,  86,  87,  88,  89,\n",
              "        90,  89,  88,  87,  86,  87,  88,  87,  88,  89,  88,  87,  88,\n",
              "        87,  86,  87,  88,  87,  88,  87,  88,  87,  86,  85,  84])"
            ]
          },
          "metadata": {
            "tags": []
          },
          "execution_count": 82
        }
      ]
    },
    {
      "cell_type": "code",
      "metadata": {
        "id": "gcohcvuNSEbs",
        "colab_type": "code",
        "outputId": "dae11822-8700-410c-cdbd-6c74f2c95763",
        "colab": {
          "base_uri": "https://localhost:8080/",
          "height": 35
        }
      },
      "source": [
        "walk.min()"
      ],
      "execution_count": 0,
      "outputs": [
        {
          "output_type": "execute_result",
          "data": {
            "text/plain": [
              "-2"
            ]
          },
          "metadata": {
            "tags": []
          },
          "execution_count": 78
        }
      ]
    },
    {
      "cell_type": "code",
      "metadata": {
        "id": "FG6Ad6UjSIRM",
        "colab_type": "code",
        "outputId": "fa46a8cf-dab8-4c22-cb8c-c21081e88ffa",
        "colab": {
          "base_uri": "https://localhost:8080/",
          "height": 35
        }
      },
      "source": [
        "walk.max()"
      ],
      "execution_count": 0,
      "outputs": [
        {
          "output_type": "execute_result",
          "data": {
            "text/plain": [
              "38"
            ]
          },
          "metadata": {
            "tags": []
          },
          "execution_count": 79
        }
      ]
    }
  ]
}