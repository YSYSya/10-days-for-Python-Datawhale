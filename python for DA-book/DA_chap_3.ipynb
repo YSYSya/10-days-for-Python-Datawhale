{
  "nbformat": 4,
  "nbformat_minor": 0,
  "metadata": {
    "colab": {
      "name": "python da-3",
      "provenance": [],
      "collapsed_sections": []
    },
    "kernelspec": {
      "name": "python3",
      "display_name": "Python 3"
    },
    "accelerator": "GPU"
  },
  "cells": [
    {
      "cell_type": "code",
      "metadata": {
        "id": "CdIOoMvQeq3q",
        "colab_type": "code",
        "colab": {}
      },
      "source": [
        "#二分查找/插入\n",
        "import bisect\n",
        "c=[1,4,5,23,532,-2,0]\n",
        "c.sort()\n",
        "#print(c)\n",
        "bisect.bisect(c,500)\n",
        "bisect.insort_right(c,23)\n",
        "\n"
      ],
      "execution_count": 0,
      "outputs": []
    },
    {
      "cell_type": "code",
      "metadata": {
        "id": "sD1plU6leu59",
        "colab_type": "code",
        "outputId": "bd84531c-5e12-4a70-cabd-f03cc0c692d8",
        "colab": {
          "base_uri": "https://localhost:8080/",
          "height": 35
        }
      },
      "source": [
        "print(c)"
      ],
      "execution_count": 0,
      "outputs": [
        {
          "output_type": "stream",
          "text": [
            "[-2, 0, 1, 4, 5, 23, 23, 532]\n"
          ],
          "name": "stdout"
        }
      ]
    },
    {
      "cell_type": "code",
      "metadata": {
        "id": "7PSvDKcXewy0",
        "colab_type": "code",
        "outputId": "8eeb8973-1222-4270-f1a6-c082b7eddb27",
        "colab": {
          "base_uri": "https://localhost:8080/",
          "height": 35
        }
      },
      "source": [
        "c[:3] #从开头 "
      ],
      "execution_count": 0,
      "outputs": [
        {
          "output_type": "execute_result",
          "data": {
            "text/plain": [
              "[-2, 0, 1]"
            ]
          },
          "metadata": {
            "tags": []
          },
          "execution_count": 27
        }
      ]
    },
    {
      "cell_type": "code",
      "metadata": {
        "id": "K5aKAJ5fk7Wd",
        "colab_type": "code",
        "outputId": "1162b2e1-e3eb-4bc0-b432-6604688337bd",
        "colab": {
          "base_uri": "https://localhost:8080/",
          "height": 35
        }
      },
      "source": [
        "c[4:] #到结尾"
      ],
      "execution_count": 0,
      "outputs": [
        {
          "output_type": "execute_result",
          "data": {
            "text/plain": [
              "[5, 23, 23, 532]"
            ]
          },
          "metadata": {
            "tags": []
          },
          "execution_count": 28
        }
      ]
    },
    {
      "cell_type": "code",
      "metadata": {
        "id": "TdP5D16SeyGa",
        "colab_type": "code",
        "outputId": "d5a26e73-d553-4858-9152-584cc834b45f",
        "colab": {
          "base_uri": "https://localhost:8080/",
          "height": 35
        }
      },
      "source": [
        "c[4:]=[1,2,3,4]\n",
        "print(c)"
      ],
      "execution_count": 0,
      "outputs": [
        {
          "output_type": "stream",
          "text": [
            "[-2, 0, 1, 4, 1, 2, 3, 4]\n"
          ],
          "name": "stdout"
        }
      ]
    },
    {
      "cell_type": "code",
      "metadata": {
        "id": "dgItSmJ4llCG",
        "colab_type": "code",
        "outputId": "05cf4179-bb75-4a26-e495-72abff70c0d2",
        "colab": {
          "base_uri": "https://localhost:8080/",
          "height": 54
        }
      },
      "source": [
        "c[4:]=[1,2]\n",
        "print(c)   #list切片少/多赋值，长度会变化\n",
        "c[4:]=[1,2,54,32,12]\n",
        "print(c)"
      ],
      "execution_count": 0,
      "outputs": [
        {
          "output_type": "stream",
          "text": [
            "[-2, 0, 1, 4, 1, 2]\n",
            "[-2, 0, 1, 4, 1, 2, 54, 32, 12]\n"
          ],
          "name": "stdout"
        }
      ]
    },
    {
      "cell_type": "code",
      "metadata": {
        "id": "bKQaehzoloqj",
        "colab_type": "code",
        "outputId": "bcf3c639-832a-445c-bdf7-16c6fb72f951",
        "colab": {
          "base_uri": "https://localhost:8080/",
          "height": 35
        }
      },
      "source": [
        "c[:4]  #序号 0 1 2 3"
      ],
      "execution_count": 0,
      "outputs": [
        {
          "output_type": "execute_result",
          "data": {
            "text/plain": [
              "[-2, 0, 1, 4]"
            ]
          },
          "metadata": {
            "tags": []
          },
          "execution_count": 34
        }
      ]
    },
    {
      "cell_type": "code",
      "metadata": {
        "id": "xhc2UaQMmCcr",
        "colab_type": "code",
        "outputId": "eb03472b-c6b5-4e0d-b1cd-aea578899551",
        "colab": {
          "base_uri": "https://localhost:8080/",
          "height": 35
        }
      },
      "source": [
        "c[-4:]  #序号 -4 -3 -2 -1"
      ],
      "execution_count": 0,
      "outputs": [
        {
          "output_type": "execute_result",
          "data": {
            "text/plain": [
              "[2, 54, 32, 12]"
            ]
          },
          "metadata": {
            "tags": []
          },
          "execution_count": 39
        }
      ]
    },
    {
      "cell_type": "code",
      "metadata": {
        "id": "5ClV8siymkFa",
        "colab_type": "code",
        "outputId": "2b6fb6ff-22ff-48e8-c192-80dfc5862c11",
        "colab": {
          "base_uri": "https://localhost:8080/",
          "height": 35
        }
      },
      "source": [
        "c"
      ],
      "execution_count": 0,
      "outputs": [
        {
          "output_type": "execute_result",
          "data": {
            "text/plain": [
              "[-2, 0, 1, 4, 1, 2, 54, 32, 12]"
            ]
          },
          "metadata": {
            "tags": []
          },
          "execution_count": 40
        }
      ]
    },
    {
      "cell_type": "code",
      "metadata": {
        "id": "UcyGCOV-mHRl",
        "colab_type": "code",
        "outputId": "7dcdff6c-1e9e-44cb-bddf-bb5413ffb440",
        "colab": {
          "base_uri": "https://localhost:8080/",
          "height": 35
        }
      },
      "source": [
        "#[start:end:step]\n",
        "c[1:-2:2]  #依然前闭后开"
      ],
      "execution_count": 0,
      "outputs": [
        {
          "output_type": "execute_result",
          "data": {
            "text/plain": [
              "[0, 4, 2]"
            ]
          },
          "metadata": {
            "tags": []
          },
          "execution_count": 51
        }
      ]
    },
    {
      "cell_type": "code",
      "metadata": {
        "id": "M5JAk0ogmb_F",
        "colab_type": "code",
        "outputId": "e13266ae-75f7-4a5a-d0a8-3e25efeded3f",
        "colab": {
          "base_uri": "https://localhost:8080/",
          "height": 35
        }
      },
      "source": [
        "c[::-1] #逆序"
      ],
      "execution_count": 0,
      "outputs": [
        {
          "output_type": "execute_result",
          "data": {
            "text/plain": [
              "[12, 32, 54, 2, 1, 4, 1, 0, -2]"
            ]
          },
          "metadata": {
            "tags": []
          },
          "execution_count": 53
        }
      ]
    },
    {
      "cell_type": "code",
      "metadata": {
        "id": "uXz04_aRoIht",
        "colab_type": "code",
        "outputId": "a8f548b6-9e83-4f1d-bf01-6627316ee625",
        "colab": {
          "base_uri": "https://localhost:8080/",
          "height": 35
        }
      },
      "source": [
        "lst=['one','two','three']\n",
        "mapping={}\n",
        "for i, v in enumerate(lst):  #enumerate生成以元組為內容的list先返回序号，再返回value\n",
        "  mapping[i]=v\n",
        "mapping"
      ],
      "execution_count": 0,
      "outputs": [
        {
          "output_type": "execute_result",
          "data": {
            "text/plain": [
              "{0: 'one', 1: 'two', 2: 'three'}"
            ]
          },
          "metadata": {
            "tags": []
          },
          "execution_count": 58
        }
      ]
    },
    {
      "cell_type": "code",
      "metadata": {
        "id": "tB-Kw7nVp_eM",
        "colab_type": "code",
        "outputId": "4354d9b4-b8bd-485b-9bc1-68fd601d728b",
        "colab": {
          "base_uri": "https://localhost:8080/",
          "height": 35
        }
      },
      "source": [
        "#zip函数可以处理任意多的序列，元素的个数取决于最短的序列，输出tupple\n",
        "seq1=['food','drink','cool']\n",
        "seq2=lst\n",
        "a=zip(seq1,seq2)\n",
        "print(a,type(a),list(a))\n",
        "c=a"
      ],
      "execution_count": 0,
      "outputs": [
        {
          "output_type": "stream",
          "text": [
            "<zip object at 0x7fee10fc1d08> <class 'zip'> [('food', 'one'), ('drink', 'two'), ('cool', 'three')]\n"
          ],
          "name": "stdout"
        }
      ]
    },
    {
      "cell_type": "code",
      "metadata": {
        "id": "fjLrbgFfrBVa",
        "colab_type": "code",
        "outputId": "59ca85fd-b231-40ae-d1fb-3104bd73c5f5",
        "colab": {
          "base_uri": "https://localhost:8080/",
          "height": 72
        }
      },
      "source": [
        "for i, (a,b) in enumerate(zip(seq1,seq2)):\n",
        "  print('{0}:{1},{2}'.format(i,a,b))\n",
        "c=zip(seq1,seq2)\n"
      ],
      "execution_count": 0,
      "outputs": [
        {
          "output_type": "stream",
          "text": [
            "0:food,one\n",
            "1:drink,two\n",
            "2:cool,three\n"
          ],
          "name": "stdout"
        }
      ]
    },
    {
      "cell_type": "code",
      "metadata": {
        "id": "0aiivDyvtbft",
        "colab_type": "code",
        "outputId": "7d30ce4b-2c13-4bd8-d066-a9edae016543",
        "colab": {
          "base_uri": "https://localhost:8080/",
          "height": 35
        }
      },
      "source": [
        "#解压\n",
        "first,second=zip(*c)\n",
        "print(first,second)"
      ],
      "execution_count": 0,
      "outputs": [
        {
          "output_type": "stream",
          "text": [
            "('food', 'drink', 'cool') ('one', 'two', 'three')\n"
          ],
          "name": "stdout"
        }
      ]
    },
    {
      "cell_type": "code",
      "metadata": {
        "id": "YbVgVN45uMC_",
        "colab_type": "code",
        "outputId": "093f060f-53f1-4e63-d1d9-42f8466f2bf0",
        "colab": {
          "base_uri": "https://localhost:8080/",
          "height": 35
        }
      },
      "source": [
        "words = ['apple', 'bat', 'bar', 'atom', 'book']\n",
        "by_letter={}\n",
        "for word in words:\n",
        "  letter = word[0]\n",
        "  by_letter.setdefault(letter, []).append(word)\n",
        "by_letter"
      ],
      "execution_count": 0,
      "outputs": [
        {
          "output_type": "execute_result",
          "data": {
            "text/plain": [
              "{'a': ['apple', 'atom'], 'b': ['bat', 'bar', 'book']}"
            ]
          },
          "metadata": {
            "tags": []
          },
          "execution_count": 72
        }
      ]
    },
    {
      "cell_type": "code",
      "metadata": {
        "id": "SIrHK5GMwAum",
        "colab_type": "code",
        "outputId": "7173c3ee-5669-401e-ee19-c897fdb1a06c",
        "colab": {
          "base_uri": "https://localhost:8080/",
          "height": 54
        }
      },
      "source": [
        "#or\n",
        "from collections import defaultdict\n",
        "by_letter=defaultdict(list)\n",
        "print(by_letter)\n",
        "for word in words:\n",
        "  by_letter[word[0]].append(word)\n",
        "print(by_letter)"
      ],
      "execution_count": 0,
      "outputs": [
        {
          "output_type": "stream",
          "text": [
            "defaultdict(<class 'list'>, {})\n",
            "defaultdict(<class 'list'>, {'a': ['apple', 'atom'], 'b': ['bat', 'bar', 'book']})\n"
          ],
          "name": "stdout"
        }
      ]
    },
    {
      "cell_type": "code",
      "metadata": {
        "id": "KCbm8YP00N0R",
        "colab_type": "code",
        "outputId": "cd592416-9d5e-460f-d523-da83399d5b87",
        "colab": {
          "base_uri": "https://localhost:8080/",
          "height": 35
        }
      },
      "source": [
        "#字典的值可以是任意Python对象，而键通常是不可变的标量类型（整数、浮点型、字符串）\n",
        "#不可变对象被叫做可hush\n",
        "hash('string')"
      ],
      "execution_count": 0,
      "outputs": [
        {
          "output_type": "execute_result",
          "data": {
            "text/plain": [
              "-5803440647245602905"
            ]
          },
          "metadata": {
            "tags": []
          },
          "execution_count": 79
        }
      ]
    },
    {
      "cell_type": "code",
      "metadata": {
        "id": "YsH5_wOm08fI",
        "colab_type": "code",
        "outputId": "472373b3-04e9-4df9-b2f4-6056d19919e1",
        "colab": {
          "base_uri": "https://localhost:8080/",
          "height": 35
        }
      },
      "source": [
        "hash((1, 2.2, '1',(2, 3)))"
      ],
      "execution_count": 0,
      "outputs": [
        {
          "output_type": "execute_result",
          "data": {
            "text/plain": [
              "-5879527592568090229"
            ]
          },
          "metadata": {
            "tags": []
          },
          "execution_count": 83
        }
      ]
    },
    {
      "cell_type": "code",
      "metadata": {
        "id": "IdeDVmnF03EN",
        "colab_type": "code",
        "outputId": "fff558ea-b2e1-4816-fd24-17b553b4c0af",
        "colab": {
          "base_uri": "https://localhost:8080/",
          "height": 172
        }
      },
      "source": [
        "hash((2,{3:1})) #list 可变"
      ],
      "execution_count": 0,
      "outputs": [
        {
          "output_type": "error",
          "ename": "TypeError",
          "evalue": "ignored",
          "traceback": [
            "\u001b[0;31m---------------------------------------------------------------------------\u001b[0m",
            "\u001b[0;31mTypeError\u001b[0m                                 Traceback (most recent call last)",
            "\u001b[0;32m<ipython-input-86-b36995c91674>\u001b[0m in \u001b[0;36m<module>\u001b[0;34m()\u001b[0m\n\u001b[0;32m----> 1\u001b[0;31m \u001b[0mhash\u001b[0m\u001b[0;34m(\u001b[0m\u001b[0;34m(\u001b[0m\u001b[0;36m2\u001b[0m\u001b[0;34m,\u001b[0m\u001b[0;34m{\u001b[0m\u001b[0;36m3\u001b[0m\u001b[0;34m:\u001b[0m\u001b[0;36m1\u001b[0m\u001b[0;34m}\u001b[0m\u001b[0;34m)\u001b[0m\u001b[0;34m)\u001b[0m\u001b[0;34m\u001b[0m\u001b[0;34m\u001b[0m\u001b[0m\n\u001b[0m",
            "\u001b[0;31mTypeError\u001b[0m: unhashable type: 'dict'"
          ]
        }
      ]
    },
    {
      "cell_type": "code",
      "metadata": {
        "id": "NONrGGh91eWr",
        "colab_type": "code",
        "outputId": "12cc4cd3-8f84-41d4-ef0a-0ce75a706dcd",
        "colab": {
          "base_uri": "https://localhost:8080/",
          "height": 219
        }
      },
      "source": [
        "#列表,字典，集合推导式\n",
        "#result=[expr for val in collection if condition]\n",
        "c=[1,2,22,432,123]\n",
        "result=[]\n",
        "for v in c:\n",
        "  print(v/2)\n",
        "  print(v%2)#判断余数\n",
        "  if v%2==1:\n",
        "    result.append(v)\n",
        "print(result)  "
      ],
      "execution_count": 0,
      "outputs": [
        {
          "output_type": "stream",
          "text": [
            "0.5\n",
            "1\n",
            "1.0\n",
            "0\n",
            "11.0\n",
            "0\n",
            "216.0\n",
            "0\n",
            "61.5\n",
            "1\n",
            "[1, 123]\n"
          ],
          "name": "stdout"
        }
      ]
    },
    {
      "cell_type": "code",
      "metadata": {
        "id": "BwT5L_0XAPRB",
        "colab_type": "code",
        "outputId": "6ccc13ea-e46a-4b37-bdca-a317d36e0988",
        "colab": {
          "base_uri": "https://localhost:8080/",
          "height": 35
        }
      },
      "source": [
        "result=[v for v in c if v%2==0]\n",
        "result"
      ],
      "execution_count": 0,
      "outputs": [
        {
          "output_type": "execute_result",
          "data": {
            "text/plain": [
              "[2, 22, 432]"
            ]
          },
          "metadata": {
            "tags": []
          },
          "execution_count": 19
        }
      ]
    },
    {
      "cell_type": "code",
      "metadata": {
        "id": "oIsWNqVpCQnH",
        "colab_type": "code",
        "outputId": "461d02dd-1f4f-4113-b252-1ffa8a2f946d",
        "colab": {
          "base_uri": "https://localhost:8080/",
          "height": 35
        }
      },
      "source": [
        "words = {\"1\":'apple', \"2\":'bat', \"3\":'bar', \"4\":'atom', \"5\":'book'}\n",
        "dic_com={i:word for i,word in words.items() if word[0]=='a'}\n",
        "dic_com"
      ],
      "execution_count": 0,
      "outputs": [
        {
          "output_type": "execute_result",
          "data": {
            "text/plain": [
              "{'1': 'apple', '4': 'atom'}"
            ]
          },
          "metadata": {
            "tags": []
          },
          "execution_count": 32
        }
      ]
    },
    {
      "cell_type": "code",
      "metadata": {
        "id": "m0SGJ57EDEXc",
        "colab_type": "code",
        "outputId": "b5e0baf5-2caa-456d-e312-32fc27db7a01",
        "colab": {
          "base_uri": "https://localhost:8080/",
          "height": 35
        }
      },
      "source": [
        "#快速兑换字典键—值\n",
        "mca={\"a\":1, \"b\":2, \"c\":3, \"d\":4}\n",
        "dicts={v:k for k,v in mca.items() if k[0]==\"a\"}\n",
        "print(dicts)\n",
        "\n"
      ],
      "execution_count": 0,
      "outputs": [
        {
          "output_type": "stream",
          "text": [
            "{1: 'a'}\n"
          ],
          "name": "stdout"
        }
      ]
    },
    {
      "cell_type": "code",
      "metadata": {
        "id": "lu3e79jNFjrQ",
        "colab_type": "code",
        "outputId": "38e46c0c-2ad6-4d2a-b746-c024b55809c7",
        "colab": {
          "base_uri": "https://localhost:8080/",
          "height": 35
        }
      },
      "source": [
        "#第一个参数 function 以参数序列中的每一个元素调用 function 函数，返回包含每次 function 函数返回值的新列表。\n",
        "#常常结合lambda\n",
        "string=['123123','sad','1','aaaaaaaaaaaa']\n",
        "a=set(map(len,string))\n",
        "a"
      ],
      "execution_count": 0,
      "outputs": [
        {
          "output_type": "execute_result",
          "data": {
            "text/plain": [
              "{1, 3, 6, 12}"
            ]
          },
          "metadata": {
            "tags": []
          },
          "execution_count": 3
        }
      ]
    },
    {
      "cell_type": "code",
      "metadata": {
        "id": "74SQEPTEGvtQ",
        "colab_type": "code",
        "outputId": "99c86d19-affa-4f9f-ca94-ae0dad5480fc",
        "colab": {
          "base_uri": "https://localhost:8080/",
          "height": 35
        }
      },
      "source": [
        "c=map(lambda x,y:x+y,[1,3,1],[3,2,1])\n",
        "print(list(c))"
      ],
      "execution_count": 0,
      "outputs": [
        {
          "output_type": "stream",
          "text": [
            "[4, 5, 2]\n"
          ],
          "name": "stdout"
        }
      ]
    },
    {
      "cell_type": "code",
      "metadata": {
        "id": "eOHfwXH9HFtF",
        "colab_type": "code",
        "outputId": "8f6d32de-11d9-4b89-89ac-ddfa54f32f02",
        "colab": {
          "base_uri": "https://localhost:8080/",
          "height": 35
        }
      },
      "source": [
        "loc_mapping={val:index for index, val in enumerate(string)}\n",
        "loc_mapping"
      ],
      "execution_count": 0,
      "outputs": [
        {
          "output_type": "execute_result",
          "data": {
            "text/plain": [
              "{'1': 2, '123123': 0, 'aaaaaaaaaaaa': 3, 'sad': 1}"
            ]
          },
          "metadata": {
            "tags": []
          },
          "execution_count": 8
        }
      ]
    },
    {
      "cell_type": "code",
      "metadata": {
        "id": "cfiHXHGGIof5",
        "colab_type": "code",
        "outputId": "d04dccd9-630e-4b84-958f-982a890a1721",
        "colab": {
          "base_uri": "https://localhost:8080/",
          "height": 35
        }
      },
      "source": [
        "type(enumerate(string))"
      ],
      "execution_count": 0,
      "outputs": [
        {
          "output_type": "execute_result",
          "data": {
            "text/plain": [
              "enumerate"
            ]
          },
          "metadata": {
            "tags": []
          },
          "execution_count": 9
        }
      ]
    },
    {
      "cell_type": "code",
      "metadata": {
        "id": "YhTGpWkdJCBz",
        "colab_type": "code",
        "outputId": "f76c5a6c-8531-4e13-bada-e40368d92cf6",
        "colab": {
          "base_uri": "https://localhost:8080/",
          "height": 35
        }
      },
      "source": [
        "print(list(enumerate(string)))"
      ],
      "execution_count": 0,
      "outputs": [
        {
          "output_type": "stream",
          "text": [
            "[(0, '123123'), (1, 'sad'), (2, '1'), (3, 'aaaaaaaaaaaa')]\n"
          ],
          "name": "stdout"
        }
      ]
    },
    {
      "cell_type": "code",
      "metadata": {
        "id": "E5Mhm5HNJFt_",
        "colab_type": "code",
        "outputId": "a102dc1c-8b3b-46b3-8dbf-3efccfe40d21",
        "colab": {
          "base_uri": "https://localhost:8080/",
          "height": 35
        }
      },
      "source": [
        "a=list(enumerate(string))\n",
        "type(a[1])"
      ],
      "execution_count": 0,
      "outputs": [
        {
          "output_type": "execute_result",
          "data": {
            "text/plain": [
              "tuple"
            ]
          },
          "metadata": {
            "tags": []
          },
          "execution_count": 14
        }
      ]
    },
    {
      "cell_type": "code",
      "metadata": {
        "id": "inNj6BQ8JS2O",
        "colab_type": "code",
        "outputId": "38387bdf-b69e-4122-cf8a-410c13b86673",
        "colab": {
          "base_uri": "https://localhost:8080/",
          "height": 35
        }
      },
      "source": [
        "#嵌套列表推導式\n",
        "all_data = [['John', 'Emily', 'Michael', 'Mary', 'Steven'],['Maria', 'Juan', 'Javier', 'Natalia', 'Pilar']]\n",
        "names_of_interest = []\n",
        "for names in all_data:\n",
        "  enough_es=[name for name in names if name.count('e')>0]\n",
        "  names_of_interest.extend(enough_es)\n",
        "names_of_interest"
      ],
      "execution_count": 0,
      "outputs": [
        {
          "output_type": "execute_result",
          "data": {
            "text/plain": [
              "['Michael', 'Steven', 'Javier']"
            ]
          },
          "metadata": {
            "tags": []
          },
          "execution_count": 22
        }
      ]
    },
    {
      "cell_type": "code",
      "metadata": {
        "id": "vBY-mU1-LTYK",
        "colab_type": "code",
        "outputId": "3ced527a-7397-483f-edcd-d9bec3e5d684",
        "colab": {
          "base_uri": "https://localhost:8080/",
          "height": 35
        }
      },
      "source": [
        "names_of_interest = []\n",
        "for names in all_data:\n",
        "    enough_es = [name for name in names if name.count('e') >= 2]\n",
        "    names_of_interest.extend(enough_es)\n",
        "names_of_interest"
      ],
      "execution_count": 0,
      "outputs": [
        {
          "output_type": "execute_result",
          "data": {
            "text/plain": [
              "['Steven']"
            ]
          },
          "metadata": {
            "tags": []
          },
          "execution_count": 20
        }
      ]
    },
    {
      "cell_type": "code",
      "metadata": {
        "id": "Dg_kKT0xL3Lx",
        "colab_type": "code",
        "outputId": "04a3a737-af4c-400e-b4b6-87fa37928af5",
        "colab": {
          "base_uri": "https://localhost:8080/",
          "height": 35
        }
      },
      "source": [
        "result=[name for names in all_data for name in names if name.count('e')>1]\n",
        "result"
      ],
      "execution_count": 0,
      "outputs": [
        {
          "output_type": "execute_result",
          "data": {
            "text/plain": [
              "['Steven']"
            ]
          },
          "metadata": {
            "tags": []
          },
          "execution_count": 26
        }
      ]
    },
    {
      "cell_type": "code",
      "metadata": {
        "id": "OEQEnkPoMMZw",
        "colab_type": "code",
        "outputId": "8435ba7a-5fd4-4d5d-a1ec-defbdd6c47c4",
        "colab": {
          "base_uri": "https://localhost:8080/",
          "height": 35
        }
      },
      "source": [
        "#嵌套時注意代碼可讀性\n",
        "some_tuple=((1,2,3),(4,5,6),(7,8,9))\n",
        "result=[[x for x in tup] for tup in some_tuple]\n",
        "result"
      ],
      "execution_count": 0,
      "outputs": [
        {
          "output_type": "execute_result",
          "data": {
            "text/plain": [
              "[[1, 2, 3], [4, 5, 6], [7, 8, 9]]"
            ]
          },
          "metadata": {
            "tags": []
          },
          "execution_count": 27
        }
      ]
    },
    {
      "cell_type": "code",
      "metadata": {
        "id": "2sIxg7pVNE1R",
        "colab_type": "code",
        "outputId": "253131d1-6112-40fa-813f-301e9df4c6a1",
        "colab": {
          "base_uri": "https://localhost:8080/",
          "height": 73
        }
      },
      "source": [
        "#位置参数和关键字参数,可以return多次，return多个数\n",
        "def my_function(x, y, z=1.5):\n",
        "    if z > 1:\n",
        "        return z * (x + y)\n",
        "    else:\n",
        "        return z, x\n",
        "        return z / (x + y)\n",
        "print(my_function(1,1))\n",
        "print(my_function(1,1,z=-1))\n",
        "print(my_function(1,1,3))"
      ],
      "execution_count": 0,
      "outputs": [
        {
          "output_type": "stream",
          "text": [
            "3.0\n",
            "(-1, 1)\n",
            "6\n"
          ],
          "name": "stdout"
        }
      ]
    },
    {
      "cell_type": "code",
      "metadata": {
        "id": "KxHzEoMJGM_9",
        "colab_type": "code",
        "outputId": "a5d5bbae-05b0-4bcb-bbab-f395fdc9cf12",
        "colab": {
          "base_uri": "https://localhost:8080/",
          "height": 73
        }
      },
      "source": [
        "import re\n",
        "#strings.strip() 返回移除字符串头尾指定的字符生成的新字符串,原字符串不改变\n",
        "#re.findall() 根据正则表达式搜索字符串，将所有符合的子字符串放在一给表(list)中返回\n",
        "#re.sub(pattern,relacement,strings)\n",
        "s='00000kobe123jordan4612300000'\n",
        "s.strip('0')\n",
        "print(s.strip('03'))\n",
        "print(s)\n",
        "#re.findall(pattern,string,flags=0)\n",
        "ret = re.findall('\\d+',s)\n",
        "print(ret)"
      ],
      "execution_count": 0,
      "outputs": [
        {
          "output_type": "stream",
          "text": [
            "kobe123jordan4612\n",
            "00000kobe123jordan4612300000\n",
            "['00000', '123', '4612300000']\n"
          ],
          "name": "stdout"
        }
      ]
    },
    {
      "cell_type": "code",
      "metadata": {
        "id": "JTg-xgFYS0Jk",
        "colab_type": "code",
        "outputId": "7e1234b4-9a87-4d79-b49f-d0de770c3d3a",
        "colab": {
          "base_uri": "https://localhost:8080/",
          "height": 279
        }
      },
      "source": [
        "states = ['   Alabama ', 'Georgia!', 'Georgia', 'georgia', 'FlOrIda', 'south   carolina##', 'West virginia?']\n",
        "def clean_strings(strings):\n",
        "    result = []\n",
        "    for value in strings:\n",
        "        value =value.strip()\n",
        "        value = re.sub('[!#?]', '', str(value))\n",
        "        value = value.title() #开头字母大写title();开头字母小写istitle()\n",
        "        print(value,type(value))\n",
        "        result.append(value)\n",
        "    return result\n",
        "\n",
        "clean_strings(states)\n"
      ],
      "execution_count": 0,
      "outputs": [
        {
          "output_type": "stream",
          "text": [
            "Alabama <class 'str'>\n",
            "Georgia <class 'str'>\n",
            "Georgia <class 'str'>\n",
            "Georgia <class 'str'>\n",
            "Florida <class 'str'>\n",
            "South   Carolina <class 'str'>\n",
            "West Virginia <class 'str'>\n"
          ],
          "name": "stdout"
        },
        {
          "output_type": "execute_result",
          "data": {
            "text/plain": [
              "['Alabama',\n",
              " 'Georgia',\n",
              " 'Georgia',\n",
              " 'Georgia',\n",
              " 'Florida',\n",
              " 'South   Carolina',\n",
              " 'West Virginia']"
            ]
          },
          "metadata": {
            "tags": []
          },
          "execution_count": 33
        }
      ]
    },
    {
      "cell_type": "code",
      "metadata": {
        "id": "wMNFAvhbUlhg",
        "colab_type": "code",
        "outputId": "b22bce9c-5a8a-49e0-b405-d2378bec86fb",
        "colab": {
          "base_uri": "https://localhost:8080/",
          "height": 148
        }
      },
      "source": [
        "#方法二：多函数模式使你能在很高的层次上轻松修改字符串的转换方式。此时的clean_strings也更具可复用性\n",
        "def remove_signal(value):\n",
        "    return re.sub('[#!?]','',value)\n",
        "clean_ops=[str.strip,remove_signal,str.title]\n",
        "def clean_strings(strings,ops):\n",
        "    result=[]\n",
        "    for value in strings:\n",
        "        for function in ops:\n",
        "            value=function(value)\n",
        "        result.append(value)\n",
        "    return result\n",
        "clean_strings(states,clean_ops)"
      ],
      "execution_count": 0,
      "outputs": [
        {
          "output_type": "execute_result",
          "data": {
            "text/plain": [
              "['Alabama',\n",
              " 'Georgia',\n",
              " 'Georgia',\n",
              " 'Georgia',\n",
              " 'Florida',\n",
              " 'South   Carolina',\n",
              " 'West Virginia']"
            ]
          },
          "metadata": {
            "tags": []
          },
          "execution_count": 46
        }
      ]
    },
    {
      "cell_type": "code",
      "metadata": {
        "id": "Y6YVjqlrZOps",
        "colab_type": "code",
        "outputId": "febe7ca1-385d-4d11-f7a5-9e1484f0390d",
        "colab": {
          "base_uri": "https://localhost:8080/",
          "height": 36
        }
      },
      "source": [
        "#第一个参数 function 以参数序列中的每一个元素调用 function 函数，返回包含每次 function 函数返回值的新列表\n",
        "\n",
        "result=[]\n",
        "for x in map(remove_signal,states):\n",
        "    result.append(x)\n",
        "print(result)\n"
      ],
      "execution_count": 0,
      "outputs": [
        {
          "output_type": "stream",
          "text": [
            "['   Alabama ', 'Georgia', 'Georgia', 'georgia', 'FlOrIda', 'south   carolina', 'West virginia']\n"
          ],
          "name": "stdout"
        }
      ]
    },
    {
      "cell_type": "code",
      "metadata": {
        "id": "McFajv_wgQrU",
        "colab_type": "code",
        "outputId": "e6e110ef-fe06-447c-8523-525499cd3fc3",
        "colab": {
          "base_uri": "https://localhost:8080/",
          "height": 36
        }
      },
      "source": [
        "#lambda, 用于嵌套函数,与sort联用\n",
        "def apply_to_list(some_list, f):\n",
        "    return [f(x) for x in some_list]\n",
        "\n",
        "ints = [4, 0, 1, 5, 6]\n",
        "apply_to_list(ints, lambda x: x ** 2)"
      ],
      "execution_count": 0,
      "outputs": [
        {
          "output_type": "execute_result",
          "data": {
            "text/plain": [
              "[16, 0, 1, 25, 36]"
            ]
          },
          "metadata": {
            "tags": []
          },
          "execution_count": 49
        }
      ]
    },
    {
      "cell_type": "code",
      "metadata": {
        "id": "hSi4HjmTgxYH",
        "colab_type": "code",
        "outputId": "8fe93601-a953-4679-9cdd-3a8556d7bcc9",
        "colab": {
          "base_uri": "https://localhost:8080/",
          "height": 36
        }
      },
      "source": [
        "strings = ['foo', 'card', 'bar', 'aaaa', 'abab']\n",
        "strings.sort(key=lambda s: len(set(s)))\n",
        "print(strings)"
      ],
      "execution_count": 0,
      "outputs": [
        {
          "output_type": "stream",
          "text": [
            "['aaaa', 'foo', 'abab', 'bar', 'card']\n"
          ],
          "name": "stdout"
        }
      ]
    },
    {
      "cell_type": "code",
      "metadata": {
        "id": "--IE8vkHxeYd",
        "colab_type": "code",
        "outputId": "971d8f58-4293-47ba-9ca9-6719b9cf550f",
        "colab": {
          "base_uri": "https://localhost:8080/",
          "height": 36
        }
      },
      "source": [
        "#currying\n",
        "def add_number(x,y):\n",
        "    return x+y\n",
        "add_five=lambda y:add_number(5,y) #通过调用函数，实现部分参数应用，派生新函数\n",
        "add_five(5)"
      ],
      "execution_count": 0,
      "outputs": [
        {
          "output_type": "execute_result",
          "data": {
            "text/plain": [
              "10"
            ]
          },
          "metadata": {
            "tags": []
          },
          "execution_count": 52
        }
      ]
    },
    {
      "cell_type": "code",
      "metadata": {
        "id": "FoyrwDrSxte9",
        "colab_type": "code",
        "outputId": "1f3c0e81-f2cf-467d-9c30-1b391c533c55",
        "colab": {
          "base_uri": "https://localhost:8080/",
          "height": 36
        }
      },
      "source": [
        "from functools import partial\n",
        "add_five=partial(add_number,5)\n",
        "add_five(3)"
      ],
      "execution_count": 0,
      "outputs": [
        {
          "output_type": "execute_result",
          "data": {
            "text/plain": [
              "8"
            ]
          },
          "metadata": {
            "tags": []
          },
          "execution_count": 53
        }
      ]
    },
    {
      "cell_type": "code",
      "metadata": {
        "id": "lA1GVWR-0NLY",
        "colab_type": "code",
        "outputId": "63561b30-bc4c-4e1b-8654-fd4214778602",
        "colab": {
          "base_uri": "https://localhost:8080/",
          "height": 92
        }
      },
      "source": [
        "#iterator protocol\n",
        "some_dict = {'a': 1, 'b': 2, 'c': 3}\n",
        "for key in some_dict:\n",
        "    print(key)\n",
        "dict_iterator = iter(some_dict) \n",
        "print(dict_iterator)"
      ],
      "execution_count": 0,
      "outputs": [
        {
          "output_type": "stream",
          "text": [
            "a\n",
            "b\n",
            "c\n",
            "<dict_keyiterator object at 0x7f45e3912458>\n"
          ],
          "name": "stdout"
        }
      ]
    },
    {
      "cell_type": "markdown",
      "metadata": {
        "id": "_4EtJC9G1-G3",
        "colab_type": "text"
      },
      "source": [
        "**迭代器**是一种特殊对象，它可以在诸如for循环之类的上下文中向Python解释器输送对象。\n",
        "\n",
        "大部分能接受列表之类的对象的方法也都可以接受任何可迭代对象。\n",
        "\n",
        "比如*min、max、sum*等内置方法以及*list、tuple*等类型构造器："
      ]
    },
    {
      "cell_type": "markdown",
      "metadata": {
        "id": "j87JoYzL2s1r",
        "colab_type": "text"
      },
      "source": [
        "generator是构造新的可迭代对象的一种简单方式。\n",
        "\n",
        "一般的函数执行之后只会返回单个值，而**生成器则是以延迟的方式返回一个值序列**，即每返回一个值之后暂停，直到下一个值被请求时再继续。\n",
        "\n",
        "要创建一个生成器，只需**将函数中的return替换为yeild即可**"
      ]
    },
    {
      "cell_type": "code",
      "metadata": {
        "id": "DQJQhdMC2FEo",
        "colab_type": "code",
        "outputId": "2fd5bbfc-5b5a-4f80-897f-402a37ac449f",
        "colab": {
          "base_uri": "https://localhost:8080/",
          "height": 36
        }
      },
      "source": [
        "def squares(n=10):\n",
        "    print(\"generate squares from 1 to {0}\".format(n**2))\n",
        "    for i in range(n+1):\n",
        "        yield i**2\n",
        "#直接调用没有任何代码被执行，注意与函数的区别\n",
        "gen=squares()\n",
        "gen \n",
        "print(gen)"
      ],
      "execution_count": 0,
      "outputs": [
        {
          "output_type": "stream",
          "text": [
            "<generator object squares at 0x7f45e38b1780>\n"
          ],
          "name": "stdout"
        }
      ]
    },
    {
      "cell_type": "code",
      "metadata": {
        "id": "Z9eqs7tN3pGD",
        "colab_type": "code",
        "outputId": "dc766fff-5eba-41fa-8f68-21d626e4282d",
        "colab": {
          "base_uri": "https://localhost:8080/",
          "height": 55
        }
      },
      "source": [
        "#当从该生成器请求元素时，代码才会被执行\n",
        "for x in gen:\n",
        "    print(x, end=' ')"
      ],
      "execution_count": 0,
      "outputs": [
        {
          "output_type": "stream",
          "text": [
            "generate squares from 1 to 100\n",
            "0 1 4 9 16 25 36 49 64 81 100 "
          ],
          "name": "stdout"
        }
      ]
    },
    {
      "cell_type": "code",
      "metadata": {
        "id": "hjoQQeak4P3c",
        "colab_type": "code",
        "outputId": "63de7044-31aa-422b-b62c-f7130c314917",
        "colab": {
          "base_uri": "https://localhost:8080/",
          "height": 36
        }
      },
      "source": [
        "#generator expression\n",
        "gen=(s ** 2 for s in range(100))\n",
        "gen"
      ],
      "execution_count": 0,
      "outputs": [
        {
          "output_type": "execute_result",
          "data": {
            "text/plain": [
              "<generator object <genexpr> at 0x7f45e391d9e8>"
            ]
          },
          "metadata": {
            "tags": []
          },
          "execution_count": 72
        }
      ]
    },
    {
      "cell_type": "code",
      "metadata": {
        "id": "RMgtY_be4995",
        "colab_type": "code",
        "outputId": "0b18777f-3101-498e-f0f5-37296a679845",
        "colab": {
          "base_uri": "https://localhost:8080/",
          "height": 36
        }
      },
      "source": [
        "sum(s **2 for s in range(100))"
      ],
      "execution_count": 0,
      "outputs": [
        {
          "output_type": "execute_result",
          "data": {
            "text/plain": [
              "328350"
            ]
          },
          "metadata": {
            "tags": []
          },
          "execution_count": 76
        }
      ]
    },
    {
      "cell_type": "code",
      "metadata": {
        "id": "jjaIqWdI5Ehi",
        "colab_type": "code",
        "outputId": "900399f2-ea84-4a56-ae47-2916ca49c45c",
        "colab": {
          "base_uri": "https://localhost:8080/",
          "height": 36
        }
      },
      "source": [
        "dict((i,i**2) for i in range(10))"
      ],
      "execution_count": 0,
      "outputs": [
        {
          "output_type": "execute_result",
          "data": {
            "text/plain": [
              "{0: 0, 1: 1, 2: 4, 3: 9, 4: 16, 5: 25, 6: 36, 7: 49, 8: 64, 9: 81}"
            ]
          },
          "metadata": {
            "tags": []
          },
          "execution_count": 77
        }
      ]
    },
    {
      "cell_type": "markdown",
      "metadata": {
        "id": "loK5yuzL9Uxh",
        "colab_type": "text"
      },
      "source": [
        "## itertools \n",
        "模块提供的迭代器函数有以下几种类型：\n",
        "\n",
        "1. 无限迭代器：生成一个无限序列，比如自然数序列 1, 2, 3, 4, ...；\n",
        "   * count\n",
        "   * repeat\n",
        "   * cycle\n",
        "\n",
        "2. 有限迭代器：接收一个或多个序列（sequence）作为参数，进行组合、分组和过滤等；\n",
        "    * chain()\n",
        "    * compress()\n",
        "    * dropwhile()\n",
        "    * groupby()\n",
        "    * ifilter()\n",
        "    * ifilterfalse()\n",
        "    * islice()\n",
        "    * imap()\n",
        "    * starmap()\n",
        "    * tee()\n",
        "    * takewhile()\n",
        "    * izip()\n",
        "    * izip_longest()\n",
        "3. 组合生成器：序列的排列、组合，求序列的笛卡儿积等；\n",
        "    * product\n",
        "    * permutations\n",
        "    * combinations\n",
        "    * combinations_with_replacement"
      ]
    },
    {
      "cell_type": "code",
      "metadata": {
        "id": "Y5w8JZm554-9",
        "colab_type": "code",
        "outputId": "6eb8b510-c87d-441b-f1d9-49e471fb4aea",
        "colab": {
          "base_uri": "https://localhost:8080/",
          "height": 73
        }
      },
      "source": [
        "#标准库itertools模块中有一组用于许多常见数据算法的生成器。eg:combinations,permutations,groupby,profuct\n",
        "import itertools\n",
        "\n",
        "first_letter = lambda x: x[0]\n",
        "names = ['Alan', 'Adam', 'Wes', 'Will', 'Albert', 'Steven']\n",
        "names.sort(key=str.lower)\n",
        "for letter, names in itertools.groupby(names, first_letter): #groupby可以接受任何序列和一个函数。它根据函数的返回值对序列中的连续元素进行分组\n",
        "    print(letter, list(names)) # names is a generator"
      ],
      "execution_count": 0,
      "outputs": [
        {
          "output_type": "stream",
          "text": [
            "A ['Adam', 'Alan', 'Albert']\n",
            "S ['Steven']\n",
            "W ['Wes', 'Will']\n"
          ],
          "name": "stdout"
        }
      ]
    },
    {
      "cell_type": "code",
      "metadata": {
        "id": "7mrJV6lZ6gGJ",
        "colab_type": "code",
        "outputId": "ca4a5e18-dd92-49be-8f1d-9b97b0d58bbd",
        "colab": {
          "base_uri": "https://localhost:8080/",
          "height": 129
        }
      },
      "source": [
        "#product 用于求多个可迭代对象的笛卡尔积，它跟嵌套的 for 循环等价。\n",
        "from itertools import product\n",
        "for item in product('123','xy'):\n",
        "    print(item)"
      ],
      "execution_count": 0,
      "outputs": [
        {
          "output_type": "stream",
          "text": [
            "('1', 'x')\n",
            "('1', 'y')\n",
            "('2', 'x')\n",
            "('2', 'y')\n",
            "('3', 'x')\n",
            "('3', 'y')\n"
          ],
          "name": "stdout"
        }
      ]
    },
    {
      "cell_type": "code",
      "metadata": {
        "id": "cyjBY_XQ__iC",
        "colab_type": "code",
        "outputId": "7eb6fdb7-9d81-4c29-c348-63e20742fbf8",
        "colab": {
          "base_uri": "https://localhost:8080/",
          "height": 55
        }
      },
      "source": [
        "a=product('xyz','123')\n",
        "print(a)\n",
        "print(list(a))"
      ],
      "execution_count": 0,
      "outputs": [
        {
          "output_type": "stream",
          "text": [
            "<itertools.product object at 0x7f45e39b33f0>\n",
            "[('x', '1'), ('x', '2'), ('x', '3'), ('y', '1'), ('y', '2'), ('y', '3'), ('z', '1'), ('z', '2'), ('z', '3')]\n"
          ],
          "name": "stdout"
        }
      ]
    },
    {
      "cell_type": "code",
      "metadata": {
        "id": "-sbUpOat_ACA",
        "colab_type": "code",
        "outputId": "2ef649f3-4910-4862-a082-c76436a702b6",
        "colab": {
          "base_uri": "https://localhost:8080/",
          "height": 36
        }
      },
      "source": [
        "#permutations\n",
        "from itertools import permutations\n",
        "a=permutations(\"ABC\",2)\n",
        "print(list(a))"
      ],
      "execution_count": 0,
      "outputs": [
        {
          "output_type": "stream",
          "text": [
            "[('A', 'B'), ('A', 'C'), ('B', 'A'), ('B', 'C'), ('C', 'A'), ('C', 'B')]\n"
          ],
          "name": "stdout"
        }
      ]
    },
    {
      "cell_type": "code",
      "metadata": {
        "id": "P9AZoV7i_l-U",
        "colab_type": "code",
        "outputId": "62f3051e-90d4-4ee8-84c8-6797f852e6f1",
        "colab": {
          "base_uri": "https://localhost:8080/",
          "height": 36
        }
      },
      "source": [
        "#combination\n",
        "from itertools import combinations\n",
        "a=combinations(\"ABCD\",2)\n",
        "print(list(a))"
      ],
      "execution_count": 0,
      "outputs": [
        {
          "output_type": "stream",
          "text": [
            "[('A', 'B'), ('A', 'C'), ('A', 'D'), ('B', 'C'), ('B', 'D'), ('C', 'D')]\n"
          ],
          "name": "stdout"
        }
      ]
    },
    {
      "cell_type": "code",
      "metadata": {
        "id": "kdr2fwYpBPTc",
        "colab_type": "code",
        "outputId": "8441b2de-f023-43f4-ff3c-06edf7089932",
        "colab": {
          "base_uri": "https://localhost:8080/",
          "height": 176
        }
      },
      "source": [
        "float('SB')"
      ],
      "execution_count": 0,
      "outputs": [
        {
          "output_type": "error",
          "ename": "ValueError",
          "evalue": "ignored",
          "traceback": [
            "\u001b[0;31m---------------------------------------------------------------------------\u001b[0m",
            "\u001b[0;31mValueError\u001b[0m                                Traceback (most recent call last)",
            "\u001b[0;32m<ipython-input-108-f570b45c3289>\u001b[0m in \u001b[0;36m<module>\u001b[0;34m()\u001b[0m\n\u001b[0;32m----> 1\u001b[0;31m \u001b[0mfloat\u001b[0m\u001b[0;34m(\u001b[0m\u001b[0;34m'SB'\u001b[0m\u001b[0;34m)\u001b[0m\u001b[0;34m\u001b[0m\u001b[0;34m\u001b[0m\u001b[0m\n\u001b[0m",
            "\u001b[0;31mValueError\u001b[0m: could not convert string to float: 'SB'"
          ]
        }
      ]
    },
    {
      "cell_type": "code",
      "metadata": {
        "id": "So2yQZeeBVie",
        "colab_type": "code",
        "outputId": "6f926bd2-9429-43a6-fe65-3a1868312e12",
        "colab": {
          "base_uri": "https://localhost:8080/",
          "height": 176
        }
      },
      "source": [
        "float((1,2))"
      ],
      "execution_count": 0,
      "outputs": [
        {
          "output_type": "error",
          "ename": "TypeError",
          "evalue": "ignored",
          "traceback": [
            "\u001b[0;31m---------------------------------------------------------------------------\u001b[0m",
            "\u001b[0;31mTypeError\u001b[0m                                 Traceback (most recent call last)",
            "\u001b[0;32m<ipython-input-109-a101b3a3d6cd>\u001b[0m in \u001b[0;36m<module>\u001b[0;34m()\u001b[0m\n\u001b[0;32m----> 1\u001b[0;31m \u001b[0mfloat\u001b[0m\u001b[0;34m(\u001b[0m\u001b[0;34m(\u001b[0m\u001b[0;36m1\u001b[0m\u001b[0;34m,\u001b[0m\u001b[0;36m2\u001b[0m\u001b[0;34m)\u001b[0m\u001b[0;34m)\u001b[0m\u001b[0;34m\u001b[0m\u001b[0;34m\u001b[0m\u001b[0m\n\u001b[0m",
            "\u001b[0;31mTypeError\u001b[0m: float() argument must be a string or a number, not 'tuple'"
          ]
        }
      ]
    },
    {
      "cell_type": "code",
      "metadata": {
        "id": "EE9pc6ZFAiTB",
        "colab_type": "code",
        "outputId": "f4b01542-b206-40e8-d90f-ba3014290b56",
        "colab": {
          "base_uri": "https://localhost:8080/",
          "height": 36
        }
      },
      "source": [
        "#处理异常try,except\n",
        "def attemp_float(x):\n",
        "    try:\n",
        "        return float(x)\n",
        "    except:\n",
        "        return x\n",
        "attemp_float('asd')"
      ],
      "execution_count": 0,
      "outputs": [
        {
          "output_type": "execute_result",
          "data": {
            "text/plain": [
              "'asd'"
            ]
          },
          "metadata": {
            "tags": []
          },
          "execution_count": 102
        }
      ]
    },
    {
      "cell_type": "code",
      "metadata": {
        "id": "W7_p5ds7A-HQ",
        "colab_type": "code",
        "outputId": "b8dd4b86-8f57-4ea2-e121-3e6eee763269",
        "colab": {
          "base_uri": "https://localhost:8080/",
          "height": 36
        }
      },
      "source": [
        "attemp_float(1)"
      ],
      "execution_count": 0,
      "outputs": [
        {
          "output_type": "execute_result",
          "data": {
            "text/plain": [
              "1.0"
            ]
          },
          "metadata": {
            "tags": []
          },
          "execution_count": 104
        }
      ]
    },
    {
      "cell_type": "code",
      "metadata": {
        "id": "cYVJHMw0BAjH",
        "colab_type": "code",
        "outputId": "595b44ad-d8ff-4f17-9eb5-6b9619cd498e",
        "colab": {
          "base_uri": "https://localhost:8080/",
          "height": 36
        }
      },
      "source": [
        "attemp_float((1,2))"
      ],
      "execution_count": 0,
      "outputs": [
        {
          "output_type": "execute_result",
          "data": {
            "text/plain": [
              "(1, 2)"
            ]
          },
          "metadata": {
            "tags": []
          },
          "execution_count": 111
        }
      ]
    },
    {
      "cell_type": "code",
      "metadata": {
        "id": "Cw-DxzlrBdPB",
        "colab_type": "code",
        "outputId": "ebb93618-1bf9-4562-c725-0869dd5c2a16",
        "colab": {
          "base_uri": "https://localhost:8080/",
          "height": 36
        }
      },
      "source": [
        "#你可能只想处理ValueError，TypeError错误（输入不是字符串或数值）可能是合理的bug。\n",
        "def attemp_float2(x):\n",
        "    try:\n",
        "        return float(x)\n",
        "    except ValueError:\n",
        "        return x\n",
        "attemp_float2('asd')"
      ],
      "execution_count": 0,
      "outputs": [
        {
          "output_type": "execute_result",
          "data": {
            "text/plain": [
              "'asd'"
            ]
          },
          "metadata": {
            "tags": []
          },
          "execution_count": 113
        }
      ]
    },
    {
      "cell_type": "code",
      "metadata": {
        "id": "4tYOJEOXBzbB",
        "colab_type": "code",
        "outputId": "263b84fb-4e73-4f14-a593-82b0a8b0e977",
        "colab": {
          "base_uri": "https://localhost:8080/",
          "height": 307
        }
      },
      "source": [
        "attemp_float2([123,123])"
      ],
      "execution_count": 0,
      "outputs": [
        {
          "output_type": "error",
          "ename": "TypeError",
          "evalue": "ignored",
          "traceback": [
            "\u001b[0;31m---------------------------------------------------------------------------\u001b[0m",
            "\u001b[0;31mTypeError\u001b[0m                                 Traceback (most recent call last)",
            "\u001b[0;32m<ipython-input-114-546291bf0240>\u001b[0m in \u001b[0;36m<module>\u001b[0;34m()\u001b[0m\n\u001b[0;32m----> 1\u001b[0;31m \u001b[0mattemp_float2\u001b[0m\u001b[0;34m(\u001b[0m\u001b[0;34m[\u001b[0m\u001b[0;36m123\u001b[0m\u001b[0;34m,\u001b[0m\u001b[0;36m123\u001b[0m\u001b[0;34m]\u001b[0m\u001b[0;34m)\u001b[0m\u001b[0;34m\u001b[0m\u001b[0;34m\u001b[0m\u001b[0m\n\u001b[0m",
            "\u001b[0;32m<ipython-input-113-a553b48aba42>\u001b[0m in \u001b[0;36mattemp_float2\u001b[0;34m(x)\u001b[0m\n\u001b[1;32m      1\u001b[0m \u001b[0;32mdef\u001b[0m \u001b[0mattemp_float2\u001b[0m\u001b[0;34m(\u001b[0m\u001b[0mx\u001b[0m\u001b[0;34m)\u001b[0m\u001b[0;34m:\u001b[0m\u001b[0;34m\u001b[0m\u001b[0;34m\u001b[0m\u001b[0m\n\u001b[1;32m      2\u001b[0m     \u001b[0;32mtry\u001b[0m\u001b[0;34m:\u001b[0m\u001b[0;34m\u001b[0m\u001b[0;34m\u001b[0m\u001b[0m\n\u001b[0;32m----> 3\u001b[0;31m         \u001b[0;32mreturn\u001b[0m \u001b[0mfloat\u001b[0m\u001b[0;34m(\u001b[0m\u001b[0mx\u001b[0m\u001b[0;34m)\u001b[0m\u001b[0;34m\u001b[0m\u001b[0;34m\u001b[0m\u001b[0m\n\u001b[0m\u001b[1;32m      4\u001b[0m     \u001b[0;32mexcept\u001b[0m \u001b[0mValueError\u001b[0m\u001b[0;34m:\u001b[0m\u001b[0;34m\u001b[0m\u001b[0;34m\u001b[0m\u001b[0m\n\u001b[1;32m      5\u001b[0m         \u001b[0;32mreturn\u001b[0m \u001b[0mx\u001b[0m\u001b[0;34m\u001b[0m\u001b[0;34m\u001b[0m\u001b[0m\n",
            "\u001b[0;31mTypeError\u001b[0m: float() argument must be a string or a number, not 'list'"
          ]
        }
      ]
    },
    {
      "cell_type": "code",
      "metadata": {
        "id": "FNXJcaOcB5zk",
        "colab_type": "code",
        "colab": {}
      },
      "source": [
        "#可以用元组包含多个异常\n",
        "def attempt_float(x):\n",
        "    try:\n",
        "        return float(x)\n",
        "    except (TypeError, ValueError):\n",
        "        return x"
      ],
      "execution_count": 0,
      "outputs": []
    },
    {
      "cell_type": "code",
      "metadata": {
        "id": "hT42CygACEdH",
        "colab_type": "code",
        "outputId": "58bd9cd5-eced-441d-fe39-8d0e88b5270b",
        "colab": {
          "resources": {
            "http://localhost:8080/nbextensions/google.colab/files.js": {
              "data": "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",
              "ok": true,
              "headers": [
                [
                  "content-type",
                  "application/javascript"
                ]
              ],
              "status": 200,
              "status_text": ""
            }
          },
          "base_uri": "https://localhost:8080/",
          "height": 77
        }
      },
      "source": [
        "#finally\n",
        "from google.colab import files\n",
        "uploaded = files.upload()\n"
      ],
      "execution_count": 0,
      "outputs": [
        {
          "output_type": "display_data",
          "data": {
            "text/html": [
              "\n",
              "     <input type=\"file\" id=\"files-36c8ea1f-80e3-4323-beaa-747bcec66e30\" name=\"files[]\" multiple disabled />\n",
              "     <output id=\"result-36c8ea1f-80e3-4323-beaa-747bcec66e30\">\n",
              "      Upload widget is only available when the cell has been executed in the\n",
              "      current browser session. Please rerun this cell to enable.\n",
              "      </output>\n",
              "      <script src=\"/nbextensions/google.colab/files.js\"></script> "
            ],
            "text/plain": [
              "<IPython.core.display.HTML object>"
            ]
          },
          "metadata": {
            "tags": []
          }
        },
        {
          "output_type": "stream",
          "text": [
            "Saving Lecture 2 STRIPS.csv to Lecture 2 STRIPS.csv\n"
          ],
          "name": "stdout"
        }
      ]
    },
    {
      "cell_type": "code",
      "metadata": {
        "id": "SR9SgqaYCft1",
        "colab_type": "code",
        "outputId": "df74d834-523f-4a82-8478-dede813c6f9b",
        "colab": {
          "base_uri": "https://localhost:8080/",
          "height": 112
        }
      },
      "source": [
        "print(uploaded,'\\n',type(uploaded))\n",
        "for fn in uploaded.keys():\n",
        "    print(fn)\n",
        "    print('User uploaded file \"{name}\" with length {length} bytes'.format( name=fn, length=len(uploaded[fn])))"
      ],
      "execution_count": 0,
      "outputs": [
        {
          "output_type": "stream",
          "text": [
            "{'Lecture 2 STRIPS.csv': b'As of 9/14/17,42992,243,,,,,,,,,,,,,,\\r\\n,Bid,Ask,Chg,Ask yield,,Date text,Datevalue,Days,Years,Yield,Fitted,SqDev,,,,\\r\\n2018 May 15,99.225,99.231,-0.017,1.16,,15-May-18,43235,243,0.67,1.16,1.142991045,0.000289305,,,,\\r\\n2018 Nov 15,98.648,98.659,-0.014,1.16,,15-Nov-18,43419,427,1.17,1.16,1.257329605,0.009473052,,,,\\r\\n2019 Feb 15,98.313,98.327,-0.018,1.2,,15-Feb-19,43511,519,1.42,1.2,1.304603339,0.010941858,,,,\\r\\n2019 Aug 15,97.478,97.496,-0.022,1.33,,15-Aug-19,43692,700,1.92,1.33,1.387549236,0.003311915,,,,\\r\\n2020 Feb 15,96.783,96.806,-0.023,1.35,,15-Feb-20,43876,884,2.42,1.35,1.463050407,0.012780395,,,,\\r\\n2020 Feb 29,96.645,96.668,-0.031,1.38,,29-Feb-20,43890,898,2.46,1.38,1.468526966,0.007837024,,,,\\r\\n2020 May 15,96.33,96.355,-0.033,1.4,,15-May-20,43966,974,2.67,1.4,1.497703177,0.009545911,,,,\\r\\n2020 Aug 15,95.741,95.769,-0.044,1.49,,15-Aug-20,44058,1066,2.92,1.49,1.531889079,0.001754695,,,,\\r\\n2021 Feb 15,94.683,94.715,-0.056,1.6,,15-Feb-21,44242,1250,3.42,1.6,1.597118111,8.31E-06,,,,\\r\\n2021 May 15,94.31,94.344,-0.056,1.6,,15-May-21,44331,1339,3.67,1.6,1.627378271,0.00074957,,,,\\r\\n2021 Aug 15,93.816,93.853,-0.044,1.63,,15-Aug-21,44423,1431,3.92,1.63,1.657883166,0.000777471,,,,\\r\\n2021 Nov 15,93.271,93.31,-0.043,1.67,,15-Nov-21,44515,1523,4.17,1.67,1.687663729,0.000312007,,,,\\r\\n2022 Aug 15,91.503,91.547,-0.06,1.8,,15-Aug-22,44788,1796,4.92,1.8,1.772248677,0.000770136,,,,\\r\\n2022 Nov 15,90.984,91.031,-0.064,1.83,,15-Nov-22,44880,1888,5.17,1.83,1.799602215,0.000924025,,,,\\r\\n2023 Feb 15,90.472,90.521,-0.027,1.85,,15-Feb-23,44972,1980,5.42,1.85,1.826424613,0.000555799,,,,\\r\\n2023 Aug 15,89.384,89.437,-0.045,1.9,,15-Aug-23,45153,2161,5.92,1.9,1.877732784,0.000495829,,,,\\r\\n2024 Nov 15,86.71,86.772,-0.047,1.99,,15-Nov-24,45611,2619,7.18,1.99,1.999691183,9.39E-05,,,,\\r\\n2025 Feb 15,86.141,86.204,-0.039,2.01,,15-Feb-25,45703,2711,7.43,2.01,2.022932292,0.000167244,,,,\\r\\n2025 Aug 15,84.942,85.009,-0.015,2.06,,15-Aug-25,45884,2892,7.92,2.06,2.067505463,5.63E-05,,,,\\r\\n2026 Feb 15,83.755,83.825,0.019,2.11,,15-Feb-26,46068,3076,8.43,2.11,2.111302726,1.70E-06,,,,\\r\\n2026 Aug 15,82.715,82.788,0.002,2.13,,15-Aug-26,46249,3257,8.92,2.13,2.152945743,0.000526507,,,,\\r\\n2026 Nov 15,82.085,82.159,-0.004,2.16,,15-Nov-26,46341,3349,9.18,2.16,2.17357839,0.000184373,,,,\\r\\n2027 Feb 15,81.513,81.589,-0.008,2.17,,15-Feb-27,46433,3441,9.43,2.17,2.193857547,0.000569183,,,,\\r\\n2027 Aug 15,80.488,80.567,0.007,2.19,,15-Aug-27,46614,3622,9.92,2.19,2.232739269,0.001826645,,,,\\r\\n2027 Nov 15,79.865,79.945,unch.,2.21,,15-Nov-27,46706,3714,10.18,2.21,2.251993896,0.001763487,,,,\\r\\n2028 Aug 15,78.134,78.218,0.017,2.26,,15-Aug-28,46980,3988,10.93,2.26,2.30734896,0.002241924,,,,\\r\\n2028 Nov 15,77.609,77.695,0.018,2.27,,15-Nov-28,47072,4080,11.18,2.27,2.325276961,0.003055542,,,,\\r\\n2029 Feb 15,77.1,77.187,0.034,2.28,,15-Feb-29,47164,4172,11.43,2.28,2.34287845,0.003953699,,,,\\r\\n2029 Aug 15,76.063,76.152,0.039,2.3,,15-Aug-29,47345,4353,11.93,2.3,2.376563606,0.005861986,,,,\\r\\n2030 May 15,74.612,74.705,0.032,2.32,,15-May-30,47618,4626,12.67,2.32,2.425034014,0.011032144,,,,\\r\\n2031 Feb 15,73.331,73.428,0.052,2.32,,15-Feb-31,47894,4902,13.43,2.32,2.471224739,0.022868922,,,,\\r\\n2036 Feb 15,63.606,63.722,0.114,2.46,,15-Feb-36,49720,6728,18.43,2.46,2.708103626,0.061555409,,,,\\r\\n2037 Feb 15,61.307,61.424,0.142,2.53,,15-Feb-37,50086,7094,19.44,2.53,2.741599115,0.044774185,,,,\\r\\n2037 May 15,60.6,60.718,0.14,2.55,,15-May-37,50175,7183,19.68,2.55,2.749051093,0.039621338,,,,\\r\\n2038 Feb 15,58.739,58.857,0.152,2.61,,15-Feb-38,50451,7459,20.44,2.61,2.770443837,0.025742225,,,,\\r\\n2038 May 15,58.19,58.308,0.151,2.63,,15-May-38,50540,7548,20.68,2.63,2.776790002,0.021547305,,,,\\r\\n2039 Feb 15,56.466,56.585,0.141,2.68,,15-Feb-39,50816,7824,21.44,2.68,2.794763328,0.013170621,,,,\\r\\n2039 May 15,55.812,55.931,0.152,2.7,,15-May-39,50905,7913,21.68,2.7,2.800009842,0.010001968,,,,\\r\\n2039 Aug 15,55.287,55.406,0.167,2.71,,15-Aug-39,50997,8005,21.93,2.71,2.805152246,0.00905395,,,,\\r\\n2039 Nov 15,54.746,54.866,0.171,2.73,,15-Nov-39,51089,8097,22.18,2.73,2.810009369,0.006401499,,,,\\r\\n2040 Feb 15,54.288,54.408,0.163,2.73,,15-Feb-40,51181,8189,22.44,2.73,2.814581539,0.007154037,,,,\\r\\n2040 May 15,53.79,53.91,0.184,2.74,,15-May-40,51271,8279,22.68,2.74,2.818778887,0.006206113,,,,\\r\\n2040 Aug 15,53.247,53.367,0.146,2.76,,15-Aug-40,51363,8371,22.93,2.76,2.822788263,0.003942366,,,,\\r\\n2040 Nov 15,52.83,52.95,0.15,2.76,,15-Nov-40,51455,8463,23.19,2.76,2.826513596,0.004424059,,,,\\r\\n2041 Feb 15,52.449,52.571,0.171,2.77,,15-Feb-41,51547,8555,23.44,2.77,2.829955172,0.003594623,,,,\\r\\n2041 May 15,51.983,52.104,0.169,2.77,,15-May-41,51636,8644,23.68,2.77,2.833014754,0.003970859,,,,\\r\\n2041 Aug 15,51.527,51.649,0.201,2.78,,15-Aug-41,51728,8736,23.93,2.78,2.835898868,0.003124683,,,,\\r\\n2041 Nov 15,51.094,51.216,0.211,2.79,,15-Nov-41,51820,8828,24.19,2.79,2.838500021,0.002352252,,,,\\r\\n2042 Feb 15,50.659,50.781,0.194,2.8,,15-Feb-42,51912,8920,24.44,2.8,2.840818464,0.001666147,,,,\\r\\n2042 May 15,50.186,50.308,0.191,2.81,,15-May-42,52001,9009,24.68,2.81,2.842792505,0.001075348,,,,\\r\\n2042 Aug 15,49.715,49.837,0.209,2.82,,15-Aug-42,52093,9101,24.93,2.82,2.844555455,0.00060297,,,,\\r\\n2042 Nov 15,49.274,49.397,0.192,2.82,,15-Nov-42,52185,9193,25.19,2.82,2.846036399,0.000677894,,,,\\r\\n2043 Feb 15,48.812,48.934,0.205,2.83,,15-Feb-43,52277,9285,25.44,2.83,2.847235559,0.000297064,,,,\\r\\n2043 May 15,48.351,48.474,0.174,2.84,,15-May-43,52366,9374,25.68,2.84,2.84812767,6.61E-05,,,,\\r\\n2043 Aug 15,47.99,48.113,0.191,2.84,,15-Aug-43,52458,9466,25.93,2.84,2.848773077,7.70E-05,,,,\\r\\n2043 Nov 15,47.694,47.817,0.19,2.84,,15-Nov-43,52550,9558,26.19,2.84,2.849137326,8.35E-05,,,,\\r\\n2044 Feb 15,47.324,47.448,0.192,2.84,,15-Feb-44,52642,9650,26.44,2.84,2.849220612,8.50E-05,,,,\\r\\n2044 May 15,46.966,47.089,0.188,2.84,,15-May-44,52732,9740,26.68,2.84,2.849030408,8.15E-05,,,,\\r\\n2044 Aug 15,46.602,46.725,0.198,2.85,,15-Aug-44,52824,9832,26.94,2.85,2.848558442,2.08E-06,,,,\\r\\n2044 Nov 15,46.194,46.318,0.188,2.85,,15-Nov-44,52916,9924,27.19,2.85,2.847806072,4.81E-06,,,,\\r\\n2045 Feb 15,45.758,45.882,0.21,2.86,,15-Feb-45,53008,10016,27.44,2.86,2.846773475,0.000174941,,,,\\r\\n2045 May 15,45.434,45.558,0.207,2.86,,15-May-45,53097,10105,27.68,2.86,2.845508044,0.000210017,,,,\\r\\n2045 Aug 15,45.042,45.166,0.212,2.87,,15-Aug-45,53189,10197,27.94,2.87,2.84392463,0.000679925,,,,\\r\\n2045 Nov 15,44.704,44.828,0.212,2.87,,15-Nov-45,53281,10289,28.19,2.87,2.842061487,0.000780561,,,,\\r\\n2046 Feb 15,44.334,44.458,0.198,2.87,,15-Feb-46,53373,10381,28.44,2.87,2.839918773,0.00090488,,,,\\r\\n2046 May 15,44.006,44.13,0.202,2.87,,15-May-46,53462,10470,28.68,2.87,2.837580031,0.001051054,,,,\\r\\n2046 Aug 15,43.746,43.871,0.207,2.87,,15-Aug-46,53554,10562,28.94,2.87,2.834887739,0.001232871,,,,\\r\\n2046 Nov 15,43.352,43.477,0.207,2.88,,15-Nov-46,53646,10654,29.19,2.88,2.831916324,0.00231204,,,,\\r\\n2047 May 15,42.766,42.891,0.221,2.87,,15-May-47,53827,10835,29.68,2.87,2.82525617,0.00200201,,,,\\r\\n\"Treasury Note, Stripped Principal\",,,,,,,,,0,,,,,,,\\r\\n2017 Nov 15,99.832,99.833,0.003,1.01,,15-Nov-17,43054,62,0.17,1.01,0.940837159,0.004783499,,,,\\r\\n2017 Nov 30,99.795,99.797,0.001,0.98,,30-Nov-17,43069,77,0.21,0.98,0.968911329,0.000122959,,,,\\r\\n2017 Dec 31,99.713,99.716,-0.001,0.98,,31-Dec-17,43100,108,0.3,0.98,1.014986319,0.001224043,,,,\\r\\n2018 Jan 15,99.694,99.697,-0.004,0.92,,15-Jan-18,43115,123,0.34,0.92,1.033600009,0.012904962,,,,\\r\\n2018 Jan 31,99.652,99.656,0.002,0.92,,31-Jan-18,43131,139,0.38,0.92,1.051653215,0.017332569,,,,\\r\\n2018 Feb 15,99.525,99.529,0.003,1.14,,15-Feb-18,43146,154,0.42,1.14,1.067242207,0.005293696,,,,\\r\\n2018 Feb 15,99.54,99.544,-0.005,1.1,,15-Feb-18,43146,154,0.42,1.1,1.067242207,0.001073073,,,,\\r\\n2018 Feb 28,99.494,99.498,0.003,1.1,,28-Feb-18,43159,167,0.46,1.1,1.079897873,0.000404096,,,,\\r\\n2018 Mar 15,99.487,99.492,-0.007,1.02,,15-Mar-18,43174,182,0.5,1.02,1.093674966,0.005428001,,,,\\r\\n2018 Mar 31,99.398,99.403,unch.,1.11,,31-Mar-18,43190,198,0.54,1.11,1.10754458,6.03E-06,,,,\\r\\n2018 Apr 15,99.431,99.437,-0.008,0.97,,15-Apr-18,43205,213,0.58,0.97,1.119887599,0.022466292,,,,\\r\\n2018 Apr 30,99.276,99.282,-0.013,1.16,,30-Apr-18,43220,228,0.62,1.16,1.131680009,0.000802022,,,,\\r\\n2018 May 15,99.186,99.193,-0.001,1.22,,15-May-18,43235,243,0.67,1.22,1.142991045,0.005930379,,,,\\r\\n2018 May 15,99.252,99.259,-0.009,1.12,,15-May-18,43235,243,0.67,1.12,1.142991045,0.000528588,,,,\\r\\n2018 May 31,99.135,99.142,-0.002,1.22,,31-May-18,43251,259,0.71,1.22,1.154589367,0.004278551,,,,\\r\\n2018 May 31,99.27,99.277,-0.011,1.03,,31-May-18,43251,259,0.71,1.03,1.154589367,0.01552251,,,,\\r\\n2018 Jun 15,99.239,99.246,-0.011,1.01,,15-Jun-18,43266,274,0.75,1.01,1.165074719,0.024048169,,,,\\r\\n2018 Jun 30,99.042,99.05,-0.006,1.21,,30-Jun-18,43281,289,0.79,1.21,1.175224656,0.001209325,,,,\\r\\n2018 Jun 30,99.072,99.08,-0.012,1.17,,30-Jun-18,43281,289,0.79,1.17,1.175224656,2.73E-05,,,,\\r\\n2018 Jul 15,99.141,99.149,-0.012,1.03,,15-Jul-18,43296,304,0.83,1.03,1.185072382,0.024047444,,,,\\r\\n2018 Jul 31,98.945,98.954,-0.014,1.21,,31-Jul-18,43312,320,0.88,1.21,1.195275455,0.000216812,,,,\\r\\n2018 Jul 31,99.098,99.107,-0.014,1.03,,31-Jul-18,43312,320,0.88,1.03,1.195275455,0.027315976,,,,\\r\\n2018 Aug 15,98.835,98.844,-0.012,1.27,,15-Aug-18,43327,335,0.92,1.27,1.204584243,0.004279221,,,,\\r\\n2018 Aug 15,98.947,98.956,-0.014,1.15,,15-Aug-18,43327,335,0.92,1.15,1.204584243,0.00297944,,,,\\r\\n2018 Aug 31,98.816,98.826,-0.008,1.24,,31-Aug-18,43343,351,0.96,1.24,1.21426418,0.000662332,,,,\\r\\n2018 Aug 31,98.87,98.879,-0.014,1.18,,31-Aug-18,43343,351,0.96,1.18,1.21426418,0.001174034,,,,\\r\\n2018 Sep 30,98.712,98.723,-0.012,1.24,,30-Sep-18,43373,381,1.04,1.24,1.231794012,6.73E-05,,,,\\r\\n2018 Oct 31,98.582,98.593,-0.015,1.26,,31-Oct-18,43404,412,1.13,1.26,1.249164296,0.000117412,,,,\\r\\n2018 Oct 31,98.671,98.682,-0.013,1.18,,31-Oct-18,43404,412,1.13,1.18,1.249164296,0.0047837,,,,\\r\\n2018 Oct 31,98.679,98.69,-0.01,1.18,,31-Oct-18,43404,412,1.13,1.18,1.249164296,0.0047837,,,,\\r\\n2018 Nov 15,98.485,98.497,-0.017,1.3,,15-Nov-18,43419,427,1.17,1.3,1.257329605,0.001820763,,,,\\r\\n2018 Nov 15,98.625,98.636,-0.018,1.18,,15-Nov-18,43419,427,1.17,1.18,1.257329605,0.005979868,,,,\\r\\n2018 Nov 30,98.461,98.473,-0.016,1.28,,30-Nov-18,43434,442,1.21,1.28,1.265352608,0.000214546,,,,\\r\\n2018 Nov 30,98.589,98.601,-0.016,1.17,,30-Nov-18,43434,442,1.21,1.17,1.265352608,0.00909212,,,,\\r\\n2018 Nov 30,98.569,98.581,-0.011,1.19,,30-Nov-18,43434,442,1.21,1.19,1.265352608,0.005678016,,,,\\r\\n2018 Dec 15,98.639,98.651,-0.02,1.09,,15-Dec-18,43449,457,1.25,1.09,1.273242321,0.033577748,,,,\\r\\n2018 Dec 31,98.325,98.337,-0.017,1.3,,31-Dec-18,43465,473,1.3,1.3,1.281520258,0.000341501,,,,\\r\\n2018 Dec 31,98.462,98.475,-0.008,1.2,,31-Dec-18,43465,473,1.3,1.2,1.281520258,0.006645553,,,,\\r\\n2018 Dec 31,98.406,98.419,-0.013,1.24,,31-Dec-18,43465,473,1.3,1.24,1.281520258,0.001723932,,,,\\r\\n2019 Jan 15,98.53,98.543,-0.022,1.11,,15-Jan-19,43480,488,1.34,1.11,1.289159447,0.032098107,,,,\\r\\n2019 Jan 31,98.251,98.265,-0.012,1.28,,31-Jan-19,43496,504,1.38,1.28,1.297186118,0.000295363,,,,\\r\\n2019 Jan 31,98.462,98.476,-0.022,1.12,,31-Jan-19,43496,504,1.38,1.12,1.297186118,0.03139492,,,,\\r\\n2019 Feb 15,98.15,98.163,0.002,1.31,,15-Feb-19,43511,519,1.42,1.31,1.304603339,2.91E-05,,,,\\r\\n2019 Feb 28,98.118,98.132,-0.006,1.3,,28-Feb-19,43524,532,1.46,1.3,1.310951613,0.000119938,,,,\\r\\n2019 Feb 28,98.345,98.359,-0.023,1.14,,28-Feb-19,43524,532,1.46,1.14,1.310951613,0.029224454,,,,\\r\\n2019 Mar 31,98.026,98.041,-0.021,1.29,,31-Mar-19,43555,563,1.54,1.29,1.325809892,0.001282348,,,,\\r\\n2019 Mar 31,98.145,98.16,-0.021,1.21,,31-Mar-19,43555,563,1.54,1.21,1.325809892,0.013411931,,,,\\r\\n2019 Apr 30,97.943,97.959,-0.016,1.27,,30-Apr-19,43585,593,1.62,1.27,1.339842823,0.00487802,,,,\\r\\n2019 Apr 30,98.106,98.122,-0.026,1.17,,30-Apr-19,43585,593,1.62,1.17,1.339842823,0.028846584,,,,\\r\\n2019 May 15,97.811,97.827,-0.016,1.32,,15-May-19,43600,608,1.67,1.32,1.34674157,0.000715112,,,,\\r\\n2019 May 15,97.951,97.967,-0.027,1.24,,15-May-19,43600,608,1.67,1.24,1.34674157,0.011393763,,,,\\r\\n2019 May 31,97.777,97.794,-0.017,1.31,,31-May-19,43616,624,1.71,1.31,1.354018928,0.001937666,,,,\\r\\n2019 May 31,97.977,97.994,-0.028,1.19,,31-May-19,43616,624,1.71,1.19,1.354018928,0.026902209,,,,\\r\\n2019 Jun 30,97.702,97.72,-0.019,1.29,,30-Jun-19,43646,654,1.79,1.29,1.367450676,0.005998607,,,,\\r\\n2019 Jun 30,97.801,97.818,-0.021,1.24,,30-Jun-19,43646,654,1.79,1.24,1.367450676,0.016243675,,,,\\r\\n2019 Jul 31,97.57,97.588,-0.017,1.31,,31-Jul-19,43677,685,1.88,1.31,1.381057921,0.005049228,,,,\\r\\n2019 Jul 31,97.59,97.609,-0.029,1.29,,31-Jul-19,43677,685,1.88,1.29,1.381057921,0.008291545,,,,\\r\\n2019 Aug 15,97.448,97.466,-0.026,1.34,,15-Aug-19,43692,700,1.92,1.34,1.387549236,0.00226093,,,,\\r\\n2019 Aug 15,97.545,97.563,-0.031,1.29,,15-Aug-19,43692,700,1.92,1.29,1.387549236,0.009515853,,,,\\r\\n2019 Aug 31,97.461,97.48,-0.02,1.31,,31-Aug-19,43708,716,1.96,1.31,1.394410009,0.00712505,,,,\\r\\n2019 Aug 31,97.461,97.48,-0.03,1.31,,31-Aug-19,43708,716,1.96,1.31,1.394410009,0.00712505,,,,\\r\\n2019 Sep 30,97.341,97.361,-0.024,1.32,,30-Sep-19,43738,746,2.04,1.32,1.407106378,0.007587521,,,,\\r\\n2019 Sep 30,97.306,97.326,-0.031,1.33,,30-Sep-19,43738,746,2.04,1.33,1.407106378,0.005945394,,,,\\r\\n2019 Oct 31,97.189,97.209,-0.027,1.34,,31-Oct-19,43769,777,2.13,1.34,1.420009741,0.006401559,,,,\\r\\n2019 Oct 31,97.156,97.176,-0.032,1.35,,31-Oct-19,43769,777,2.13,1.35,1.420009741,0.004901364,,,,\\r\\n2019 Nov 15,97.182,97.203,-0.036,1.31,,15-Nov-19,43784,792,2.17,1.31,1.426178813,0.013497517,,,,\\r\\n2019 Nov 30,97.067,97.089,-0.021,1.34,,30-Nov-19,43799,807,2.21,1.34,1.432301413,0.008519551,,,,\\r\\n2019 Nov 30,97.025,97.047,-0.034,1.36,,30-Nov-19,43799,807,2.21,1.36,1.432301413,0.005227494,,,,\\r\\n2019 Dec 15,97.013,97.035,-0.037,1.34,,15-Dec-19,43814,822,2.25,1.34,1.438378986,0.009678425,,,,\\r\\n2019 Dec 31,96.923,96.945,-0.035,1.36,,31-Dec-19,43830,838,2.3,1.36,1.444813641,0.007193354,,,,\\r\\n2019 Dec 31,96.935,96.957,-0.036,1.35,,31-Dec-19,43830,838,2.3,1.35,1.444813641,0.008989627,,,,\\r\\n2020 Jan 31,96.536,96.558,-0.036,1.48,,31-Jan-20,43861,869,2.38,1.48,1.45714521,0.000522341,,,,\\r\\n2020 Jan 31,97.013,97.036,-0.031,1.27,,31-Jan-20,43861,869,2.38,1.27,1.45714521,0.03502333,,,,\\r\\n2020 Feb 29,96.638,96.661,-0.038,1.39,,29-Feb-20,43890,898,2.46,1.39,1.468526966,0.006166484,,,,\\r\\n2020 Mar 31,96.28,96.304,-0.039,1.49,,31-Mar-20,43921,929,2.55,1.49,1.480537776,8.95E-05,,,,\\r\\n2020 Mar 31,96.505,96.529,-0.039,1.39,,31-Mar-20,43921,929,2.55,1.39,1.480537776,0.008197089,,,,\\r\\n2020 Apr 30,96.069,96.094,-0.041,1.52,,30-Apr-20,43951,959,2.63,1.52,1.492015649,0.000783124,,,,\\r\\n2020 May 31,95.896,95.922,-0.042,1.54,,31-May-20,43982,990,2.71,1.54,1.503733335,0.001315271,,,,\\r\\n2020 Jun 30,96.136,96.162,-0.04,1.41,,30-Jun-20,44012,1020,2.79,1.41,1.514941428,0.011012703,,,,\\r\\n2020 Jun 30,96.059,96.085,-0.043,1.44,,30-Jun-20,44012,1020,2.79,1.44,1.514941428,0.005616218,,,,\\r\\n2020 Jul 31,96.005,96.032,-0.04,1.41,,31-Jul-20,44043,1051,2.88,1.41,1.526393396,0.013547423,,,,\\r\\n2020 Jul 31,95.86,95.887,-0.045,1.47,,31-Jul-20,44043,1051,2.88,1.47,1.526393396,0.003180215,,,,\\r\\n2020 Aug 31,95.78,95.808,-0.055,1.45,,31-Aug-20,44074,1082,2.96,1.45,1.537719324,0.00769468,,,,\\r\\n2020 Sep 30,95.302,95.331,-0.047,1.58,,30-Sep-20,44104,1112,3.05,1.58,1.548564966,0.000988161,,,,\\r\\n2020 Sep 30,95.598,95.627,-0.047,1.48,,30-Sep-20,44104,1112,3.05,1.48,1.548564966,0.004701155,,,,\\r\\n2020 Oct 31,95.485,95.514,-0.048,1.47,,31-Oct-20,44135,1143,3.13,1.47,1.55965818,0.008038589,,,,\\r\\n2020 Nov 15,95.23,95.26,-0.045,1.54,,15-Nov-20,44150,1158,3.17,1.54,1.564985635,0.000624282,,,,\\r\\n2020 Nov 30,95.315,95.345,-0.046,1.49,,30-Nov-20,44165,1173,3.21,1.49,1.570287518,0.006446085,,,,\\r\\n2020 Nov 30,95.334,95.365,-0.05,1.49,,30-Nov-20,44165,1173,3.21,1.49,1.570287518,0.006446085,,,,\\r\\n2020 Dec 31,95.101,95.132,-0.054,1.52,,31-Dec-20,44196,1204,3.3,1.52,1.581165694,0.003741242,,,,\\r\\n2020 Dec 31,95.159,95.19,-0.051,1.5,,31-Dec-20,44196,1204,3.3,1.5,1.581165694,0.00658787,,,,\\r\\n2021 Jan 31,94.904,94.936,-0.019,1.55,,31-Jan-21,44227,1235,3.38,1.55,1.591940514,0.001759007,,,,\\r\\n2021 Feb 28,94.752,94.785,-0.02,1.55,,28-Feb-21,44255,1263,3.46,1.55,1.601586771,0.002661195,,,,\\r\\n2021 Mar 31,94.564,94.597,-0.02,1.58,,31-Mar-21,44286,1294,3.55,1.58,1.612174608,0.001035205,,,,\\r\\n2021 Apr 30,94.454,94.488,-0.054,1.57,,30-Apr-21,44316,1324,3.63,1.57,1.622331745,0.002738612,,,,\\r\\n2021 May 31,94.269,94.303,-0.021,1.59,,31-May-21,44347,1355,3.71,1.59,1.632738158,0.00182655,,,,\\r\\n2021 Jun 30,94.123,94.158,-0.047,1.59,,30-Jun-21,44377,1385,3.79,1.59,1.642724995,0.002779925,,,,\\r\\n2021 Jul 31,93.936,93.973,-0.023,1.61,,31-Jul-21,44408,1416,3.88,1.61,1.652960518,0.001845606,,,,\\r\\n2021 Aug 31,93.352,93.389,-0.051,1.74,,31-Aug-21,44439,1447,3.96,1.74,1.6631128,0.005911642,,,,\\r\\n2021 Oct 31,93.329,93.367,-0.024,1.67,,31-Oct-21,44500,1508,4.13,1.67,1.682855281,0.000165258,,,,\\r\\n2021 Oct 31,92.972,93.01,-0.053,1.76,,31-Oct-21,44500,1508,4.13,1.76,1.682855281,0.005951308,,,,\\r\\n2021 Nov 30,93.155,93.194,-0.024,1.68,,30-Nov-21,44530,1538,4.21,1.68,1.692454356,0.000155111,,,,\\r\\n2021 Nov 30,92.898,92.937,-0.054,1.75,,30-Nov-21,44530,1538,4.21,1.75,1.692454356,0.003311501,,,,\\r\\n2021 Dec 31,92.946,92.985,-0.024,1.7,,31-Dec-21,44561,1569,4.3,1.7,1.702299391,5.29E-06,,,,\\r\\n2021 Dec 31,92.708,92.748,-0.055,1.76,,31-Dec-21,44561,1569,4.3,1.76,1.702299391,0.00332936,,,,\\r\\n2022 Jan 31,92.798,92.838,-0.025,1.71,,31-Jan-22,44592,1600,4.38,1.71,1.712070923,4.29E-06,,,,\\r\\n2022 Jan 31,92.555,92.596,-0.056,1.77,,31-Jan-22,44592,1600,4.38,1.77,1.712070923,0.003355778,,,,\\r\\n2022 Feb 15,92.653,92.694,-0.061,1.73,,15-Feb-22,44607,1615,4.42,1.73,1.716773188,0.000174949,,,,\\r\\n2022 Feb 28,92.588,92.629,-0.026,1.73,,28-Feb-22,44620,1628,4.46,1.73,1.720835014,8.40E-05,,,,\\r\\n2022 Mar 31,92.421,92.462,-0.026,1.73,,31-Mar-22,44651,1659,4.55,1.73,1.730471112,2.22E-07,,,,\\r\\n2022 Apr 30,92.265,92.307,-0.027,1.74,,30-Apr-22,44681,1689,4.63,1.74,1.739730667,7.25E-08,,,,\\r\\n2022 May 15,92.13,92.172,-0.066,1.75,,15-May-22,44696,1704,4.67,1.75,1.744336612,3.21E-05,,,,\\r\\n2022 May 31,92.1,92.143,-0.027,1.75,,31-May-22,44712,1720,4.71,1.75,1.749232337,5.89E-07,,,,\\r\\n2022 Jun 30,91.901,91.945,-0.027,1.76,,30-Jun-22,44742,1750,4.79,1.76,1.758364339,2.68E-06,,,,\\r\\n2022 Jul 31,91.72,91.764,-0.028,1.77,,31-Jul-22,44773,1781,4.88,1.77,1.76773669,5.12E-06,,,,\\r\\n2022 Aug 31,91.555,91.6,-0.029,1.78,,31-Aug-22,44804,1812,4.96,1.78,1.777045112,8.73E-06,,,,\\r\\n2022 Sep 30,91.382,91.428,-0.029,1.79,,30-Sep-22,44834,1842,5.05,1.79,1.785993454,1.61E-05,,,,\\r\\n2022 Nov 15,90.978,91.024,-0.063,1.83,,15-Nov-22,44880,1888,5.17,1.83,1.799602215,0.000924025,,,,\\r\\n2022 Nov 30,91.04,91.087,-0.03,1.8,,30-Nov-22,44895,1903,5.21,1.8,1.804011005,1.61E-05,,,,\\r\\n2022 Dec 31,90.915,90.963,-0.031,1.8,,31-Dec-22,44926,1934,5.3,1.8,1.813078249,0.000171041,,,,\\r\\n2023 Apr 30,89.855,89.905,-0.032,1.9,,30-Apr-23,45046,2054,5.63,1.9,1.847629873,0.00274263,,,,\\r\\n2023 May 15,89.805,89.855,-0.045,1.9,,15-May-23,45061,2069,5.67,1.9,1.851889212,0.002314648,,,,\\r\\n2023 Aug 15,89.304,89.356,-0.033,1.91,,15-Aug-23,45153,2161,5.92,1.91,1.877732784,0.001041173,,,,\\r\\n2023 Aug 31,89.287,89.34,-0.034,1.9,,31-Aug-23,45169,2177,5.96,1.9,1.882178922,0.000317591,,,,\\r\\n2023 Oct 31,88.892,88.946,-0.035,1.92,,31-Oct-23,45230,2238,6.13,1.92,1.899001147,0.000440952,,,,\\r\\n2023 Nov 15,88.763,88.818,-0.041,1.93,,15-Nov-23,45245,2253,6.17,1.93,1.903106885,0.00072324,,,,\\r\\n2023 Nov 30,88.706,88.76,-0.035,1.93,,30-Nov-23,45260,2268,6.21,1.93,1.90720057,0.000519814,,,,\\r\\n2023 Dec 31,88.464,88.519,-0.036,1.95,,31-Dec-23,45291,2299,6.3,1.95,1.915622929,0.001181783,,,,\\r\\n2024 Feb 15,88.07,88.126,-0.04,1.98,,15-Feb-24,45337,2345,6.42,1.98,1.92802742,0.002701149,,,,\\r\\n2024 May 15,87.471,87.529,-0.038,2.01,,15-May-24,45427,2435,6.67,2.01,1.951980843,0.003366223,,,,\\r\\n2024 Aug 15,86.927,86.987,-0.032,2.03,,15-Aug-24,45519,2527,6.92,2.03,1.976044044,0.002911245,,,,\\r\\n2024 Nov 15,86.339,86.4,-0.039,2.05,,15-Nov-24,45611,2619,7.18,2.05,1.999691183,0.002530977,,,,\\r\\n2025 Feb 15,85.736,85.799,-0.034,2.08,,15-Feb-25,45703,2711,7.43,2.08,2.022932292,0.003256723,,,,\\r\\n2025 May 15,85.151,85.215,-0.042,2.1,,15-May-25,45792,2800,7.67,2.1,2.045037654,0.00302086,,,,\\r\\n2025 Aug 15,84.565,84.631,-0.021,2.12,,15-Aug-25,45884,2892,7.92,2.12,2.067505463,0.002755676,,,,\\r\\n2025 Nov 15,83.996,84.064,-0.023,2.14,,15-Nov-25,45976,2984,8.18,2.14,2.089591576,0.002541009,,,,\\r\\n2026 May 15,82.869,82.94,-0.027,2.17,,15-May-26,46157,3165,8.67,2.17,2.131954866,0.001447432,,,,\\r\\n2026 Aug 15,82.342,82.415,-0.017,2.18,,15-Aug-26,46249,3257,8.92,2.18,2.152945743,0.000731933,,,,\\r\\n2026 Nov 15,81.757,81.832,-0.019,2.2,,15-Nov-26,46341,3349,9.18,2.2,2.17357839,0.000698101,,,,\\r\\nStripped Coupon Interest,,,,,,,,,0,,,,,,,\\r\\n2017 Nov 15,99.829,99.831,unch.,1.02,,15-Nov-17,43054,62,0.17,1.02,0.940837159,0.006266755,,,,\\r\\n2018 Jan 31,99.557,99.561,-0.002,1.18,,31-Jan-18,43131,139,0.38,1.18,1.051653215,0.016472897,,,,\\r\\n2018 Feb 15,99.511,99.515,-0.002,1.17,,15-Feb-18,43146,154,0.42,1.17,1.067242207,0.010559164,,,,\\r\\n2018 Mar 31,99.346,99.351,-0.003,1.21,,31-Mar-18,43190,198,0.54,1.21,1.10754458,0.010497113,,,,\\r\\n2018 Apr 30,99.209,99.215,-0.016,1.26,,30-Apr-18,43220,228,0.62,1.26,1.131680009,0.01646602,,,,\\r\\n2018 May 15,99.169,99.176,-0.017,1.25,,15-May-18,43235,243,0.67,1.25,1.142991045,0.011450916,,,,\\r\\n2018 May 31,99.105,99.112,-0.018,1.26,,31-May-18,43251,259,0.71,1.26,1.154589367,0.011111402,,,,\\r\\n2018 Jun 15,98.581,98.589,unch.,1.91,,15-Jun-18,43266,274,0.75,1.91,1.165074719,0.554913674,,,,\\r\\n2018 Jun 30,99,99.008,-0.021,1.26,,30-Jun-18,43281,289,0.79,1.26,1.175224656,0.007186859,,,,\\r\\n2018 Jul 15,98.478,98.486,unch.,1.84,,15-Jul-18,43296,304,0.83,1.84,1.185072382,0.428930184,,,,\\r\\n2018 Jul 31,98.863,98.871,-0.023,1.3,,31-Jul-18,43312,320,0.88,1.3,1.195275455,0.01096723,,,,\\r\\n2018 Aug 15,98.792,98.8,-0.024,1.32,,15-Aug-18,43327,335,0.92,1.32,1.204584243,0.013320797,,,,\\r\\n2018 Aug 31,98.755,98.764,-0.025,1.3,,31-Aug-18,43343,351,0.96,1.3,1.21426418,0.007350631,,,,\\r\\n2018 Sep 30,98.648,98.658,-0.028,1.3,,30-Sep-18,43373,381,1.04,1.3,1.231794012,0.004652057,,,,\\r\\n2018 Oct 31,98.556,98.567,-0.013,1.29,,31-Oct-18,43404,412,1.13,1.29,1.249164296,0.001667555,,,,\\r\\n2018 Nov 15,98.531,98.542,-0.014,1.26,,15-Nov-18,43419,427,1.17,1.26,1.257329605,7.13E-06,,,,\\r\\n2018 Nov 30,98.451,98.463,-0.014,1.29,,30-Nov-18,43434,442,1.21,1.29,1.265352608,0.000607494,,,,\\r\\n2018 Dec 15,97.979,97.991,unch.,1.63,,15-Dec-18,43449,457,1.25,1.63,1.273242321,0.127276041,,,,\\r\\n2018 Dec 31,98.345,98.358,-0.016,1.29,,31-Dec-18,43465,473,1.3,1.29,1.281520258,7.19E-05,,,,\\r\\n2019 Jan 31,98.128,98.141,-0.016,1.37,,31-Jan-19,43496,504,1.38,1.37,1.297186118,0.005301861,,,,\\r\\n2019 Feb 15,98.103,98.116,-0.017,1.35,,15-Feb-19,43511,519,1.42,1.35,1.304603339,0.002060857,,,,\\r\\n2019 Feb 28,98.015,98.029,-0.018,1.37,,28-Feb-19,43524,532,1.46,1.37,1.310951613,0.003486712,,,,\\r\\n2019 Mar 31,97.904,97.919,-0.019,1.37,,31-Mar-19,43555,563,1.54,1.37,1.325809892,0.001952766,,,,\\r\\n2019 Apr 30,97.774,97.79,-0.026,1.38,,30-Apr-19,43585,593,1.62,1.38,1.339842823,0.001612599,,,,\\r\\n2019 May 15,97.776,97.792,-0.027,1.35,,15-May-19,43600,608,1.67,1.35,1.34674157,1.06E-05,,,,\\r\\n2019 May 31,97.662,97.679,-0.028,1.38,,31-May-19,43616,624,1.71,1.38,1.354018928,0.000675016,,,,\\r\\n2019 Jun 30,97.55,97.567,-0.029,1.38,,30-Jun-19,43646,654,1.79,1.38,1.367450676,0.000157486,,,,\\r\\n2019 Jul 31,97.369,97.387,-0.022,1.42,,31-Jul-19,43677,685,1.88,1.42,1.381057921,0.001516486,,,,\\r\\n2019 Aug 15,97.366,97.385,-0.022,1.39,,15-Aug-19,43692,700,1.92,1.39,1.387549236,6.01E-06,,,,\\r\\n2019 Aug 31,97.257,97.276,-0.023,1.41,,31-Aug-19,43708,716,1.96,1.41,1.394410009,0.000243048,,,,\\r\\n2019 Sep 30,97.14,97.16,-0.023,1.42,,30-Sep-19,43738,746,2.04,1.42,1.407106378,0.000166245,,,,\\r\\n2019 Oct 31,96.865,96.886,-0.025,1.49,,31-Oct-19,43769,777,2.13,1.49,1.420009741,0.004898636,,,,\\r\\n2019 Nov 15,96.903,96.924,-0.025,1.45,,15-Nov-19,43784,792,2.17,1.45,1.426178813,0.000567449,,,,\\r\\n2019 Nov 30,96.961,96.982,-0.02,1.39,,30-Nov-19,43799,807,2.21,1.39,1.432301413,0.00178941,,,,\\r\\n2019 Dec 31,96.812,96.834,-0.036,1.41,,31-Dec-19,43830,838,2.3,1.41,1.444813641,0.00121199,,,,\\r\\n2020 Jan 31,96.503,96.526,-0.028,1.49,,31-Jan-20,43861,869,2.38,1.49,1.45714521,0.001079437,,,,\\r\\n2020 Feb 15,96.632,96.655,-0.023,1.41,,15-Feb-20,43876,884,2.42,1.41,1.463050407,0.002814346,,,,\\r\\n2020 Feb 29,96.533,96.556,-0.031,1.43,,29-Feb-20,43890,898,2.46,1.43,1.468526966,0.001484327,,,,\\r\\n2020 Mar 31,96.471,96.495,-0.024,1.41,,31-Mar-20,43921,929,2.55,1.41,1.480537776,0.004975578,,,,\\r\\n2020 Apr 30,96.388,96.413,-0.032,1.4,,30-Apr-20,43951,959,2.63,1.4,1.492015649,0.00846688,,,,\\r\\n2020 May 15,96.228,96.254,-0.033,1.44,,15-May-20,43966,974,2.67,1.44,1.497703177,0.003329657,,,,\\r\\n2020 May 31,96.237,96.263,-0.034,1.41,,31-May-20,43982,990,2.71,1.41,1.503733335,0.008785938,,,,\\r\\n2020 Jun 30,96.009,96.036,-0.041,1.46,,30-Jun-20,44012,1020,2.79,1.46,1.514941428,0.00301856,,,,\\r\\n2020 Jul 31,95.868,95.895,-0.04,1.46,,31-Jul-20,44043,1051,2.88,1.46,1.526393396,0.004408083,,,,\\r\\n2020 Aug 15,95.645,95.672,-0.043,1.52,,15-Aug-20,44058,1066,2.92,1.52,1.531889079,0.00014135,,,,\\r\\n2020 Aug 31,95.668,95.696,-0.055,1.49,,31-Aug-20,44074,1082,2.96,1.49,1.537719324,0.002277134,,,,\\r\\n2020 Sep 30,95.419,95.448,-0.046,1.54,,30-Sep-20,44104,1112,3.05,1.54,1.548564966,7.34E-05,,,,\\r\\n2020 Oct 31,95.109,95.139,-0.047,1.6,,31-Oct-20,44135,1143,3.13,1.6,1.55965818,0.001627462,,,,\\r\\n2020 Nov 15,95.101,95.13,-0.047,1.58,,15-Nov-20,44150,1158,3.17,1.58,1.564985635,0.000225431,,,,\\r\\n2020 Nov 30,94.991,95.021,-0.048,1.6,,30-Nov-20,44165,1173,3.21,1.6,1.570287518,0.000882832,,,,\\r\\n2020 Dec 31,94.733,94.764,-0.049,1.64,,31-Dec-20,44196,1204,3.3,1.64,1.581165694,0.003461476,,,,\\r\\n2021 Jan 31,94.767,94.799,-0.055,1.59,,31-Jan-21,44227,1235,3.38,1.59,1.591940514,3.77E-06,,,,\\r\\n2021 Feb 15,94.539,94.571,-0.055,1.64,,15-Feb-21,44242,1250,3.42,1.64,1.597118111,0.001838856,,,,\\r\\n2021 Feb 28,94.43,94.462,-0.056,1.65,,28-Feb-21,44255,1263,3.46,1.65,1.601586771,0.002343841,,,,\\r\\n2021 Mar 31,94.381,94.414,-0.02,1.63,,31-Mar-21,44286,1294,3.55,1.63,1.612174608,0.000317745,,,,\\r\\n2021 Apr 30,94.17,94.204,-0.059,1.65,,30-Apr-21,44316,1324,3.63,1.65,1.622331745,0.000765532,,,,\\r\\n2021 May 15,94.13,94.164,-0.055,1.65,,15-May-21,44331,1339,3.67,1.65,1.627378271,0.000511743,,,,\\r\\n2021 May 31,94.144,94.178,-0.056,1.62,,31-May-21,44347,1355,3.71,1.62,1.632738158,0.000162261,,,,\\r\\n2021 Jun 30,94.016,94.052,-0.058,1.62,,30-Jun-21,44377,1385,3.79,1.62,1.642724995,0.000516425,,,,\\r\\n2021 Jul 31,93.743,93.779,-0.059,1.66,,31-Jul-21,44408,1416,3.88,1.66,1.652960518,4.96E-05,,,,\\r\\n2021 Aug 15,93.652,93.689,-0.044,1.67,,15-Aug-21,44423,1431,3.92,1.67,1.657883166,0.000146818,,,,\\r\\n2021 Aug 31,93.742,93.779,-0.045,1.63,,31-Aug-21,44439,1447,3.96,1.63,1.6631128,0.001096457,,,,\\r\\n2021 Sep 30,93.532,93.57,-0.046,1.65,,30-Sep-21,44469,1477,4.05,1.65,1.672860429,0.000522599,,,,\\r\\n2021 Oct 31,93.402,93.44,-0.047,1.65,,31-Oct-21,44500,1508,4.13,1.65,1.682855281,0.00107947,,,,\\r\\n2021 Nov 15,93.05,93.089,-0.042,1.73,,15-Nov-21,44515,1523,4.17,1.73,1.687663729,0.00179236,,,,\\r\\n2021 Nov 30,93.05,93.089,-0.042,1.71,,30-Nov-21,44530,1538,4.21,1.71,1.692454356,0.00030785,,,,\\r\\n2021 Dec 31,92.917,92.957,-0.044,1.71,,31-Dec-21,44561,1569,4.3,1.71,1.702299391,5.93E-05,,,,\\r\\n2022 Jan 31,92.556,92.596,-0.044,1.77,,31-Jan-22,44592,1600,4.38,1.77,1.712070923,0.003355778,,,,\\r\\n2022 Feb 15,92.416,92.456,-0.044,1.78,,15-Feb-22,44607,1615,4.42,1.78,1.716773188,0.00399763,,,,\\r\\n2022 Feb 28,92.419,92.46,-0.045,1.77,,28-Feb-22,44620,1628,4.46,1.77,1.720835014,0.002417196,,,,\\r\\n2022 Mar 31,92.659,92.701,-0.046,1.68,,31-Mar-22,44651,1659,4.55,1.68,1.730471112,0.002547333,,,,\\r\\n2022 Apr 30,92.043,92.085,-0.056,1.79,,30-Apr-22,44681,1689,4.63,1.79,1.739730667,0.002527006,,,,\\r\\n2022 May 15,91.747,91.789,-0.057,1.85,,15-May-22,44696,1704,4.67,1.85,1.744336612,0.011164751,,,,\\r\\n2022 May 31,91.703,91.746,-0.057,1.84,,31-May-22,44712,1720,4.71,1.84,1.749232337,0.008238769,,,,\\r\\n2022 Jun 30,91.705,91.748,-0.027,1.81,,30-Jun-22,44742,1750,4.79,1.81,1.758364339,0.002666241,,,,\\r\\n2022 Jul 31,91.521,91.565,-0.028,1.82,,31-Jul-22,44773,1781,4.88,1.82,1.76773669,0.002731454,,,,\\r\\n2022 Aug 15,91.191,91.235,-0.06,1.88,,15-Aug-22,44788,1796,4.92,1.88,1.772248677,0.011610348,,,,\\r\\n2022 Aug 31,91.043,91.088,-0.06,1.89,,31-Aug-22,44804,1812,4.96,1.89,1.777045112,0.012758807,,,,\\r\\n2022 Sep 30,91.154,91.2,-0.029,1.84,,30-Sep-22,44834,1842,5.05,1.84,1.785993454,0.002916707,,,,\\r\\n2022 Nov 15,90.624,90.67,-0.029,1.9,,15-Nov-22,44880,1888,5.17,1.9,1.799602215,0.010079715,,,,\\r\\n2022 Nov 30,90.805,90.852,-0.03,1.85,,30-Nov-22,44895,1903,5.21,1.85,1.804011005,0.002114988,,,,\\r\\n2022 Dec 31,90.677,90.725,-0.031,1.85,,31-Dec-22,44926,1934,5.3,1.85,1.813078249,0.001363216,,,,\\r\\n2023 Feb 15,89.964,90.012,-0.027,1.95,,15-Feb-23,44972,1980,5.42,1.95,1.826424613,0.015270876,,,,\\r\\n2023 May 15,89.4,89.45,-0.028,1.98,,15-May-23,45061,2069,5.67,1.98,1.851889212,0.016412374,,,,\\r\\n2023 Aug 15,88.836,88.888,-0.045,2,,15-Aug-23,45153,2161,5.92,2,1.877732784,0.014949272,,,,\\r\\n2023 Oct 31,88.623,88.677,-0.035,1.97,,31-Oct-23,45230,2238,6.13,1.97,1.899001147,0.005040837,,,,\\r\\n2023 Nov 15,88.258,88.312,-0.046,2.03,,15-Nov-23,45245,2253,6.17,2.03,1.903106885,0.016101863,,,,\\r\\n2023 Dec 31,88.464,88.519,-0.036,1.95,,31-Dec-23,45291,2299,6.3,1.95,1.915622929,0.001181783,,,,\\r\\n2024 Feb 15,87.659,87.715,-0.048,2.05,,15-Feb-24,45337,2345,6.42,2.05,1.92802742,0.01487731,,,,\\r\\n2024 May 15,87.124,87.182,-0.05,2.07,,15-May-24,45427,2435,6.67,2.07,1.951980843,0.013928521,,,,\\r\\n2024 Aug 15,86.548,86.607,-0.045,2.09,,15-Aug-24,45519,2527,6.92,2.09,1.976044044,0.01298596,,,,\\r\\n2024 Nov 15,86.036,86.097,-0.047,2.1,,15-Nov-24,45611,2619,7.18,2.1,1.999691183,0.010061859,,,,\\r\\n2025 Feb 15,85.402,85.464,-0.037,2.13,,15-Feb-25,45703,2711,7.43,2.13,2.022932292,0.011463494,,,,\\r\\n2025 May 15,84.755,84.82,-0.039,2.16,,15-May-25,45792,2800,7.67,2.16,2.045037654,0.013216341,,,,\\r\\n2025 Aug 15,84.164,84.23,-0.014,2.18,,15-Aug-25,45884,2892,7.92,2.18,2.067505463,0.012655021,,,,\\r\\n2025 Nov 15,83.505,83.572,-0.014,2.21,,15-Nov-25,45976,2984,8.18,2.21,2.089591576,0.014498189,,,,\\r\\n2026 Feb 15,82.922,82.991,0.019,2.23,,15-Feb-26,46068,3076,8.43,2.23,2.111302726,0.014089043,,,,\\r\\n2026 May 15,82.427,82.497,0.02,2.23,,15-May-26,46157,3165,8.67,2.23,2.131954866,0.009612848,,,,\\r\\n2026 Aug 15,81.808,81.88,0.002,2.26,,15-Aug-26,46249,3257,8.92,2.26,2.152945743,0.011460614,,,,\\r\\n2026 Nov 15,81.196,81.27,-0.004,2.28,,15-Nov-26,46341,3349,9.18,2.28,2.17357839,0.011325559,,,,\\r\\n2027 Feb 15,80.551,80.626,-0.008,2.3,,15-Feb-27,46433,3441,9.43,2.3,2.193857547,0.01126622,,,,\\r\\n2027 May 15,79.975,80.052,-0.008,2.32,,15-May-27,46522,3530,9.67,2.32,2.213143148,0.011418387,,,,\\r\\n2027 Aug 15,79.488,79.566,0.007,2.32,,15-Aug-27,46614,3622,9.92,2.32,2.232739269,0.007614435,,,,\\r\\n2027 Nov 15,78.907,78.987,unch.,2.33,,15-Nov-27,46706,3714,10.18,2.33,2.251993896,0.006084952,,,,\\r\\n2028 Feb 15,78.348,78.429,unch.,2.35,,15-Feb-28,46798,3806,10.43,2.35,2.270910488,0.006255151,,,,\\r\\n2028 May 15,77.727,77.808,unch.,2.37,,15-May-28,46888,3896,10.67,2.37,2.289091844,0.00654613,,,,\\r\\n2028 Aug 15,77.17,77.253,0.017,2.38,,15-Aug-28,46980,3988,10.93,2.38,2.30734896,0.005278174,,,,\\r\\n2028 Nov 15,76.504,76.588,0.018,2.4,,15-Nov-28,47072,4080,11.18,2.4,2.325276961,0.005583532,,,,\\r\\n2029 Feb 15,76.02,76.105,0.033,2.41,,15-Feb-29,47164,4172,11.43,2.41,2.34287845,0.004505302,,,,\\r\\n2029 May 15,75.326,75.412,0.034,2.43,,15-May-29,47253,4261,11.67,2.43,2.35959755,0.004956505,,,,\\r\\n2029 Aug 15,74.731,74.819,0.038,2.45,,15-Aug-29,47345,4353,11.93,2.45,2.376563606,0.005392904,,,,\\r\\n2029 Nov 15,74.298,74.387,0.038,2.45,,15-Nov-29,47437,4445,12.18,2.45,2.393209917,0.003225114,,,,\\r\\n2030 Feb 15,73.811,73.902,0.03,2.45,,15-Feb-30,47529,4537,12.43,2.45,2.409538488,0.001637134,,,,\\r\\n2030 May 15,73.339,73.43,0.031,2.45,,15-May-30,47618,4626,12.67,2.45,2.425034014,0.0006233,,,,\\r\\n2030 Aug 15,72.543,72.636,0.031,2.49,,15-Aug-30,47710,4718,12.93,2.49,2.440742862,0.002426266,,,,\\r\\n2030 Nov 15,72.072,72.166,0.05,2.49,,15-Nov-30,47802,4810,13.18,2.49,2.456139244,0.001146551,,,,\\r\\n2031 Feb 15,71.673,71.768,0.051,2.49,,15-Feb-31,47894,4902,13.43,2.49,2.471224739,0.00035251,,,,\\r\\n2031 May 15,71.033,71.128,0.052,2.51,,15-May-31,47983,4991,13.67,2.51,2.485523874,0.000599081,,,,\\r\\n2031 Aug 15,70.507,70.604,0.052,2.52,,15-Aug-31,48075,5083,13.93,2.52,2.500002006,0.00039992,,,,\\r\\n2031 Nov 15,69.987,70.085,0.052,2.53,,15-Nov-31,48167,5175,14.18,2.53,2.51417344,0.00025048,,,,\\r\\n2032 Feb 15,69.469,69.568,0.053,2.53,,15-Feb-32,48259,5267,14.43,2.53,2.528039441,3.84E-06,,,,\\r\\n2032 May 15,68.951,69.051,0.053,2.54,,15-May-32,48349,5357,14.68,2.54,2.541309614,1.72E-06,,,,\\r\\n2032 Aug 15,68.435,68.536,0.054,2.55,,15-Aug-32,48441,5449,14.93,2.55,2.554574862,2.09E-05,,,,\\r\\n2032 Nov 15,67.92,68.022,0.054,2.56,,15-Nov-32,48533,5541,15.18,2.56,2.567538072,5.68E-05,,,,\\r\\n2033 Feb 15,67.406,67.509,0.054,2.57,,15-Feb-33,48625,5633,15.43,2.57,2.580200272,0.000104046,,,,\\r\\n2033 May 15,66.894,66.997,0.055,2.57,,15-May-33,48714,5722,15.68,2.57,2.592164048,0.000491245,,,,\\r\\n2033 Aug 15,66.382,66.487,0.055,2.58,,15-Aug-33,48806,5814,15.93,2.58,2.604236855,0.000587425,,,,\\r\\n2033 Nov 15,65.872,65.977,0.055,2.59,,15-Nov-33,48898,5906,16.18,2.59,2.616011421,0.000676594,,,,\\r\\n2034 Feb 15,65.364,65.469,0.057,2.6,,15-Feb-34,48990,5998,16.43,2.6,2.627488594,0.000755623,,,,\\r\\n2034 May 15,64.856,64.963,0.056,2.61,,15-May-34,49079,6087,16.68,2.61,2.638309269,0.000801415,,,,\\r\\n2034 Aug 15,64.35,64.458,0.056,2.61,,15-Aug-34,49171,6179,16.93,2.61,2.649203682,0.001536929,,,,\\r\\n2034 Nov 15,63.846,63.954,0.057,2.62,,15-Nov-34,49263,6271,17.18,2.62,2.659802999,0.001584279,,,,\\r\\n2035 Feb 15,63.337,63.446,0.057,2.63,,15-Feb-35,49355,6363,17.43,2.63,2.670107928,0.001608646,,,,\\r\\n2035 May 15,62.83,62.94,0.057,2.64,,15-May-35,49444,6452,17.68,2.64,2.679797318,0.001583827,,,,\\r\\n2035 Aug 15,62.319,62.43,0.058,2.65,,15-Aug-35,49536,6544,17.93,2.65,2.689525018,0.001562227,,,,\\r\\n2035 Nov 15,61.809,61.92,0.109,2.66,,15-Nov-35,49628,6636,18.18,2.66,2.698960255,0.001517901,,,,\\r\\n2036 Feb 15,61.474,61.586,0.11,2.65,,15-Feb-36,49720,6728,18.43,2.65,2.708103626,0.003376031,,,,\\r\\n2036 May 15,60.912,61.024,0.111,2.66,,15-May-36,49810,6818,18.68,2.66,2.71676636,0.00322242,,,,\\r\\n2036 Aug 15,60.34,60.452,0.111,2.68,,15-Aug-36,49902,6910,18.93,2.68,2.725334005,0.002055172,,,,\\r\\n2036 Nov 15,59.797,59.91,0.112,2.69,,15-Nov-36,49994,7002,19.18,2.69,2.733611421,0.001901956,,,,\\r\\n2037 Feb 15,59.455,59.569,0.137,2.69,,15-Feb-37,50086,7094,19.44,2.69,2.741599115,0.002662469,,,,\\r\\n2037 May 15,58.861,58.976,0.137,2.7,,15-May-37,50175,7183,19.68,2.7,2.749051093,0.00240601,,,,\\r\\n2037 Aug 15,58.151,58.265,0.137,2.73,,15-Aug-37,50267,7275,19.93,2.73,2.756470193,0.000700671,,,,\\r\\n2037 Nov 15,57.699,57.814,0.148,2.74,,15-Nov-37,50359,7367,20.18,2.74,2.763600963,0.000557005,,,,\\r\\n2038 Feb 15,57.077,57.192,0.148,2.76,,15-Feb-38,50451,7459,20.44,2.76,2.770443837,0.000109074,,,,\\r\\n2038 May 15,56.61,56.725,0.147,2.76,,15-May-38,50540,7548,20.68,2.76,2.776790002,0.000281904,,,,\\r\\n2038 Aug 15,56.106,56.221,0.147,2.77,,15-Aug-38,50632,7640,20.93,2.77,2.783067682,0.000170764,,,,\\r\\n2038 Nov 15,55.64,55.756,0.137,2.78,,15-Nov-38,50724,7732,21.18,2.78,2.789058665,8.21E-05,,,,\\r\\n2039 Feb 15,55.169,55.285,0.138,2.79,,15-Feb-39,50816,7824,21.44,2.79,2.794763328,2.27E-05,,,,\\r\\n2039 May 15,54.69,54.807,0.149,2.8,,15-May-39,50905,7913,21.68,2.8,2.800009842,9.69E-11,,,,\\r\\n2039 Aug 15,54.251,54.368,0.164,2.8,,15-Aug-39,50997,8005,21.93,2.8,2.805152246,2.65E-05,,,,\\r\\n2039 Nov 15,53.738,53.856,0.168,2.81,,15-Nov-39,51089,8097,22.18,2.81,2.810009369,8.78E-11,,,,\\r\\n2040 Feb 15,53.306,53.424,0.16,2.82,,15-Feb-40,51181,8189,22.44,2.82,2.814581539,2.94E-05,,,,\\r\\n2040 May 15,52.86,52.978,0.181,2.82,,15-May-40,51271,8279,22.68,2.82,2.818778887,1.49E-06,,,,\\r\\n2040 Aug 15,52.381,52.5,0.143,2.83,,15-Aug-40,51363,8371,22.93,2.83,2.822788263,5.20E-05,,,,\\r\\n2040 Nov 15,51.962,52.081,0.148,2.84,,15-Nov-40,51455,8463,23.19,2.84,2.826513596,0.000181883,,,,\\r\\n2041 Feb 15,51.489,51.609,0.168,2.85,,15-Feb-41,51547,8555,23.44,2.85,2.829955172,0.000401795,,,,\\r\\n2041 May 15,50.992,51.111,0.166,2.86,,15-May-41,51636,8644,23.68,2.86,2.833014754,0.000728203,,,,\\r\\n2041 Aug 15,50.624,50.743,0.198,2.86,,15-Aug-41,51728,8736,23.93,2.86,2.835898868,0.000580865,,,,\\r\\n2041 Nov 15,50.189,50.309,0.207,2.86,,15-Nov-41,51820,8828,24.19,2.86,2.838500021,0.000462249,,,,\\r\\n2042 Feb 15,49.813,49.932,0.191,2.87,,15-Feb-42,51912,8920,24.44,2.87,2.840818464,0.000851562,,,,\\r\\n2042 May 15,49.339,49.459,0.188,2.88,,15-May-42,52001,9009,24.68,2.88,2.842792505,0.001384398,,,,\\r\\n2042 Aug 15,49.018,49.138,0.206,2.87,,15-Aug-42,52093,9101,24.93,2.87,2.844555455,0.000647425,,,,\\r\\n2042 Nov 15,48.606,48.727,0.19,2.88,,15-Nov-42,52185,9193,25.19,2.88,2.846036399,0.001153526,,,,\\r\\n2043 Feb 15,48.204,48.325,0.202,2.88,,15-Feb-43,52277,9285,25.44,2.88,2.847235559,0.001073509,,,,\\r\\n2043 May 15,47.713,47.834,0.172,2.89,,15-May-43,52366,9374,25.68,2.89,2.84812767,0.001753292,,,,\\r\\n2043 Aug 15,47.26,47.381,0.188,2.9,,15-Aug-43,52458,9466,25.93,2.9,2.848773077,0.002624198,,,,\\r\\n2043 Nov 15,46.841,46.962,0.187,2.91,,15-Nov-43,52550,9558,26.19,2.91,2.849137326,0.003704265,,,,\\r\\n2044 Feb 15,46.53,46.651,0.189,2.91,,15-Feb-44,52642,9650,26.44,2.91,2.849220612,0.003694134,,,,\\r\\n2044 May 15,46.291,46.413,0.184,2.9,,15-May-44,52732,9740,26.68,2.9,2.849030408,0.002597899,,,,\\r\\n2044 Aug 15,45.987,46.11,0.194,2.9,,15-Aug-44,52824,9832,26.94,2.9,2.848558442,0.002646234,,,,\\r\\n2044 Nov 15,45.641,45.763,0.187,2.9,,15-Nov-44,52916,9924,27.19,2.9,2.847806072,0.002724206,,,,\\r\\n2045 Feb 15,45.358,45.48,0.209,2.89,,15-Feb-45,53008,10016,27.44,2.89,2.846773475,0.001868532,,,,\\r\\n2045 May 15,45.003,45.126,0.206,2.9,,15-May-45,53097,10105,27.68,2.9,2.845508044,0.002969373,,,,\\r\\n2045 Aug 15,44.703,44.826,0.211,2.89,,15-Aug-45,53189,10197,27.94,2.89,2.84392463,0.00212294,,,,\\r\\n2045 Nov 15,44.456,44.58,0.21,2.89,,15-Nov-45,53281,10289,28.19,2.89,2.842061487,0.002298101,,,,\\r\\n2046 Feb 15,44.086,44.209,0.196,2.89,,15-Feb-46,53373,10381,28.44,2.89,2.839918773,0.002508129,,,,\\r\\n2046 May 15,43.912,44.037,0.2,2.88,,15-May-46,53462,10470,28.68,2.88,2.837580031,0.001799454,,,,\\r\\n2046 Aug 15,43.497,43.621,0.205,2.89,,15-Aug-46,53554,10562,28.94,2.89,2.834887739,0.003037361,,,,\\r\\n2046 Nov 15,43.166,43.29,0.207,2.89,,15-Nov-46,53646,10654,29.19,2.89,2.831916324,0.003373713,,,,\\r\\n2047 May 15,42.641,42.766,0.22,2.88,,15-May-47,53827,10835,29.68,2.88,2.82525617,0.002996887,,,,\\r\\n'} \n",
            " <class 'dict'>\n",
            "Lecture 2 STRIPS.csv\n",
            "User uploaded file \"Lecture 2 STRIPS.csv\" with length 38120 bytes\n"
          ],
          "name": "stdout"
        }
      ]
    },
    {
      "cell_type": "code",
      "metadata": {
        "id": "tf03XPROCnj8",
        "colab_type": "code",
        "outputId": "d5a77956-4463-4ecf-d006-5599c7431585",
        "colab": {
          "base_uri": "https://localhost:8080/",
          "height": 1000
        }
      },
      "source": [
        "help(dict)"
      ],
      "execution_count": 0,
      "outputs": [
        {
          "output_type": "stream",
          "text": [
            "Help on class dict in module builtins:\n",
            "\n",
            "class dict(object)\n",
            " |  dict() -> new empty dictionary\n",
            " |  dict(mapping) -> new dictionary initialized from a mapping object's\n",
            " |      (key, value) pairs\n",
            " |  dict(iterable) -> new dictionary initialized as if via:\n",
            " |      d = {}\n",
            " |      for k, v in iterable:\n",
            " |          d[k] = v\n",
            " |  dict(**kwargs) -> new dictionary initialized with the name=value pairs\n",
            " |      in the keyword argument list.  For example:  dict(one=1, two=2)\n",
            " |  \n",
            " |  Methods defined here:\n",
            " |  \n",
            " |  __contains__(self, key, /)\n",
            " |      True if D has a key k, else False.\n",
            " |  \n",
            " |  __delitem__(self, key, /)\n",
            " |      Delete self[key].\n",
            " |  \n",
            " |  __eq__(self, value, /)\n",
            " |      Return self==value.\n",
            " |  \n",
            " |  __ge__(self, value, /)\n",
            " |      Return self>=value.\n",
            " |  \n",
            " |  __getattribute__(self, name, /)\n",
            " |      Return getattr(self, name).\n",
            " |  \n",
            " |  __getitem__(...)\n",
            " |      x.__getitem__(y) <==> x[y]\n",
            " |  \n",
            " |  __gt__(self, value, /)\n",
            " |      Return self>value.\n",
            " |  \n",
            " |  __init__(self, /, *args, **kwargs)\n",
            " |      Initialize self.  See help(type(self)) for accurate signature.\n",
            " |  \n",
            " |  __iter__(self, /)\n",
            " |      Implement iter(self).\n",
            " |  \n",
            " |  __le__(self, value, /)\n",
            " |      Return self<=value.\n",
            " |  \n",
            " |  __len__(self, /)\n",
            " |      Return len(self).\n",
            " |  \n",
            " |  __lt__(self, value, /)\n",
            " |      Return self<value.\n",
            " |  \n",
            " |  __ne__(self, value, /)\n",
            " |      Return self!=value.\n",
            " |  \n",
            " |  __new__(*args, **kwargs) from builtins.type\n",
            " |      Create and return a new object.  See help(type) for accurate signature.\n",
            " |  \n",
            " |  __repr__(self, /)\n",
            " |      Return repr(self).\n",
            " |  \n",
            " |  __setitem__(self, key, value, /)\n",
            " |      Set self[key] to value.\n",
            " |  \n",
            " |  __sizeof__(...)\n",
            " |      D.__sizeof__() -> size of D in memory, in bytes\n",
            " |  \n",
            " |  clear(...)\n",
            " |      D.clear() -> None.  Remove all items from D.\n",
            " |  \n",
            " |  copy(...)\n",
            " |      D.copy() -> a shallow copy of D\n",
            " |  \n",
            " |  fromkeys(iterable, value=None, /) from builtins.type\n",
            " |      Returns a new dict with keys from iterable and values equal to value.\n",
            " |  \n",
            " |  get(...)\n",
            " |      D.get(k[,d]) -> D[k] if k in D, else d.  d defaults to None.\n",
            " |  \n",
            " |  items(...)\n",
            " |      D.items() -> a set-like object providing a view on D's items\n",
            " |  \n",
            " |  keys(...)\n",
            " |      D.keys() -> a set-like object providing a view on D's keys\n",
            " |  \n",
            " |  pop(...)\n",
            " |      D.pop(k[,d]) -> v, remove specified key and return the corresponding value.\n",
            " |      If key is not found, d is returned if given, otherwise KeyError is raised\n",
            " |  \n",
            " |  popitem(...)\n",
            " |      D.popitem() -> (k, v), remove and return some (key, value) pair as a\n",
            " |      2-tuple; but raise KeyError if D is empty.\n",
            " |  \n",
            " |  setdefault(...)\n",
            " |      D.setdefault(k[,d]) -> D.get(k,d), also set D[k]=d if k not in D\n",
            " |  \n",
            " |  update(...)\n",
            " |      D.update([E, ]**F) -> None.  Update D from dict/iterable E and F.\n",
            " |      If E is present and has a .keys() method, then does:  for k in E: D[k] = E[k]\n",
            " |      If E is present and lacks a .keys() method, then does:  for k, v in E: D[k] = v\n",
            " |      In either case, this is followed by: for k in F:  D[k] = F[k]\n",
            " |  \n",
            " |  values(...)\n",
            " |      D.values() -> an object providing a view on D's values\n",
            " |  \n",
            " |  ----------------------------------------------------------------------\n",
            " |  Data and other attributes defined here:\n",
            " |  \n",
            " |  __hash__ = None\n",
            "\n"
          ],
          "name": "stdout"
        }
      ]
    },
    {
      "cell_type": "code",
      "metadata": {
        "id": "W1IB8j0lSHL8",
        "colab_type": "code",
        "outputId": "6ad7222b-de20-454f-fb7c-03c012c197c9",
        "colab": {
          "base_uri": "https://localhost:8080/",
          "height": 1000
        }
      },
      "source": [
        "import pandas as pd\n",
        "import io\n",
        "df = pd.read_csv(io.StringIO(uploaded['Lecture 2 STRIPS.csv'].decode('utf-8')))\n",
        "print(df)"
      ],
      "execution_count": 0,
      "outputs": [
        {
          "output_type": "stream",
          "text": [
            "    As of 9/14/17   42992     243  ... Unnamed: 14 Unnamed: 15  Unnamed: 16\n",
            "0             NaN     Bid     Ask  ...         NaN         NaN          NaN\n",
            "1     2018 May 15  99.225  99.231  ...         NaN         NaN          NaN\n",
            "2     2018 Nov 15  98.648  98.659  ...         NaN         NaN          NaN\n",
            "3     2019 Feb 15  98.313  98.327  ...         NaN         NaN          NaN\n",
            "4     2019 Aug 15  97.478  97.496  ...         NaN         NaN          NaN\n",
            "5     2020 Feb 15  96.783  96.806  ...         NaN         NaN          NaN\n",
            "6     2020 Feb 29  96.645  96.668  ...         NaN         NaN          NaN\n",
            "7     2020 May 15   96.33  96.355  ...         NaN         NaN          NaN\n",
            "8     2020 Aug 15  95.741  95.769  ...         NaN         NaN          NaN\n",
            "9     2021 Feb 15  94.683  94.715  ...         NaN         NaN          NaN\n",
            "10    2021 May 15   94.31  94.344  ...         NaN         NaN          NaN\n",
            "11    2021 Aug 15  93.816  93.853  ...         NaN         NaN          NaN\n",
            "12    2021 Nov 15  93.271   93.31  ...         NaN         NaN          NaN\n",
            "13    2022 Aug 15  91.503  91.547  ...         NaN         NaN          NaN\n",
            "14    2022 Nov 15  90.984  91.031  ...         NaN         NaN          NaN\n",
            "15    2023 Feb 15  90.472  90.521  ...         NaN         NaN          NaN\n",
            "16    2023 Aug 15  89.384  89.437  ...         NaN         NaN          NaN\n",
            "17    2024 Nov 15   86.71  86.772  ...         NaN         NaN          NaN\n",
            "18    2025 Feb 15  86.141  86.204  ...         NaN         NaN          NaN\n",
            "19    2025 Aug 15  84.942  85.009  ...         NaN         NaN          NaN\n",
            "20    2026 Feb 15  83.755  83.825  ...         NaN         NaN          NaN\n",
            "21    2026 Aug 15  82.715  82.788  ...         NaN         NaN          NaN\n",
            "22    2026 Nov 15  82.085  82.159  ...         NaN         NaN          NaN\n",
            "23    2027 Feb 15  81.513  81.589  ...         NaN         NaN          NaN\n",
            "24    2027 Aug 15  80.488  80.567  ...         NaN         NaN          NaN\n",
            "25    2027 Nov 15  79.865  79.945  ...         NaN         NaN          NaN\n",
            "26    2028 Aug 15  78.134  78.218  ...         NaN         NaN          NaN\n",
            "27    2028 Nov 15  77.609  77.695  ...         NaN         NaN          NaN\n",
            "28    2029 Feb 15    77.1  77.187  ...         NaN         NaN          NaN\n",
            "29    2029 Aug 15  76.063  76.152  ...         NaN         NaN          NaN\n",
            "..            ...     ...     ...  ...         ...         ...          ...\n",
            "362   2039 Nov 15  53.738  53.856  ...         NaN         NaN          NaN\n",
            "363   2040 Feb 15  53.306  53.424  ...         NaN         NaN          NaN\n",
            "364   2040 May 15   52.86  52.978  ...         NaN         NaN          NaN\n",
            "365   2040 Aug 15  52.381    52.5  ...         NaN         NaN          NaN\n",
            "366   2040 Nov 15  51.962  52.081  ...         NaN         NaN          NaN\n",
            "367   2041 Feb 15  51.489  51.609  ...         NaN         NaN          NaN\n",
            "368   2041 May 15  50.992  51.111  ...         NaN         NaN          NaN\n",
            "369   2041 Aug 15  50.624  50.743  ...         NaN         NaN          NaN\n",
            "370   2041 Nov 15  50.189  50.309  ...         NaN         NaN          NaN\n",
            "371   2042 Feb 15  49.813  49.932  ...         NaN         NaN          NaN\n",
            "372   2042 May 15  49.339  49.459  ...         NaN         NaN          NaN\n",
            "373   2042 Aug 15  49.018  49.138  ...         NaN         NaN          NaN\n",
            "374   2042 Nov 15  48.606  48.727  ...         NaN         NaN          NaN\n",
            "375   2043 Feb 15  48.204  48.325  ...         NaN         NaN          NaN\n",
            "376   2043 May 15  47.713  47.834  ...         NaN         NaN          NaN\n",
            "377   2043 Aug 15   47.26  47.381  ...         NaN         NaN          NaN\n",
            "378   2043 Nov 15  46.841  46.962  ...         NaN         NaN          NaN\n",
            "379   2044 Feb 15   46.53  46.651  ...         NaN         NaN          NaN\n",
            "380   2044 May 15  46.291  46.413  ...         NaN         NaN          NaN\n",
            "381   2044 Aug 15  45.987   46.11  ...         NaN         NaN          NaN\n",
            "382   2044 Nov 15  45.641  45.763  ...         NaN         NaN          NaN\n",
            "383   2045 Feb 15  45.358   45.48  ...         NaN         NaN          NaN\n",
            "384   2045 May 15  45.003  45.126  ...         NaN         NaN          NaN\n",
            "385   2045 Aug 15  44.703  44.826  ...         NaN         NaN          NaN\n",
            "386   2045 Nov 15  44.456   44.58  ...         NaN         NaN          NaN\n",
            "387   2046 Feb 15  44.086  44.209  ...         NaN         NaN          NaN\n",
            "388   2046 May 15  43.912  44.037  ...         NaN         NaN          NaN\n",
            "389   2046 Aug 15  43.497  43.621  ...         NaN         NaN          NaN\n",
            "390   2046 Nov 15  43.166   43.29  ...         NaN         NaN          NaN\n",
            "391   2047 May 15  42.641  42.766  ...         NaN         NaN          NaN\n",
            "\n",
            "[392 rows x 17 columns]\n"
          ],
          "name": "stdout"
        }
      ]
    },
    {
      "cell_type": "code",
      "metadata": {
        "id": "nRyzZZm_TqO1",
        "colab_type": "code",
        "outputId": "4060235e-f72e-4514-c5b4-d717ab8345b3",
        "colab": {
          "base_uri": "https://localhost:8080/",
          "height": 176
        }
      },
      "source": [
        ""
      ],
      "execution_count": 0,
      "outputs": [
        {
          "output_type": "error",
          "ename": "AttributeError",
          "evalue": "ignored",
          "traceback": [
            "\u001b[0;31m---------------------------------------------------------------------------\u001b[0m",
            "\u001b[0;31mAttributeError\u001b[0m                            Traceback (most recent call last)",
            "\u001b[0;32m<ipython-input-11-4d44e6ef2d2f>\u001b[0m in \u001b[0;36m<module>\u001b[0;34m()\u001b[0m\n\u001b[0;32m----> 1\u001b[0;31m \u001b[0muploaded\u001b[0m\u001b[0;34m.\u001b[0m\u001b[0mread\u001b[0m\u001b[0;34m\u001b[0m\u001b[0;34m\u001b[0m\u001b[0m\n\u001b[0m",
            "\u001b[0;31mAttributeError\u001b[0m: 'dict' object has no attribute 'read'"
          ]
        }
      ]
    },
    {
      "cell_type": "code",
      "metadata": {
        "id": "p8D7v90QUpZK",
        "colab_type": "code",
        "colab": {}
      },
      "source": [
        ""
      ],
      "execution_count": 0,
      "outputs": []
    }
  ]
}
