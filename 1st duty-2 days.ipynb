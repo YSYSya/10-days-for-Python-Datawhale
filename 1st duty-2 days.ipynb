{
 "cells": [
  {
   "cell_type": "markdown",
   "metadata": {},
   "source": [
    "# 1.The Interpreter and Software Development Environment\n",
    "[Reference](https://www.jianshu.com/p/effd1aa4dc3c)\n",
    "## a)anaconda\n",
    "Q:Why I need anaconda?\n",
    "A:Anaconda worked hand-in-hand with pip, and easy_install -  all these applications provide a localized environment to install python  applications in the directory where “pip” is located.\n",
    "## b) Pycharm\n",
    "[Pycharm Tips](https://www.zhihu.com/search?type=content&q=pycharm)\n",
    "## c) Interpreter \n",
    "1. The Python interpreter is the application that runs your python script.\n",
    "2. Python is an interpreted language. Instructions are read, evaluated and result is returned for each instruction in a sequence. Who does that? An interpreter.\n",
    "Unlike compiled languages, in which whole context is passed through a compiler, which in return gives a translational unit.\n",
    "---"
   ]
  },
  {
   "cell_type": "markdown",
   "metadata": {},
   "source": [
    "# 2.First test\n",
    "## a) print and input\n"
   ]
  },
  {
   "cell_type": "markdown",
   "metadata": {},
   "source": [
    "print:"
   ]
  },
  {
   "cell_type": "code",
   "execution_count": 1,
   "metadata": {},
   "outputs": [
    {
     "name": "stdout",
     "output_type": "stream",
     "text": [
      "I want an offer.\n",
      "I want an offer.\n",
      "I want an offer.\n",
      "I want 1 offer.\n",
      "I'am a student'\n"
     ]
    }
   ],
   "source": [
    "print(\"I want an offer.\")\n",
    "text='offer.'\n",
    "print(\"I want an %s\" % (text))\n",
    "who='I'\n",
    "print(\"%s want an %s\" % (who,text)) \n",
    "num=1\n",
    "print(\"%s want %d %s\" % (who,num,text))\n",
    "print(\"I\\'am a student'\") # the kind of cited quotes should be different with the outer one"
   ]
  },
  {
   "cell_type": "markdown",
   "metadata": {},
   "source": [
    "input:"
   ]
  },
  {
   "cell_type": "code",
   "execution_count": null,
   "metadata": {},
   "outputs": [],
   "source": [
    "a=input(\"What do you want now?\")"
   ]
  },
  {
   "cell_type": "markdown",
   "metadata": {},
   "source": [
    "Q:why input can only be executed once?\n",
    "\n",
    "---"
   ]
  },
  {
   "cell_type": "markdown",
   "metadata": {},
   "source": [
    "# 3.Basic Tutorials\n",
    "\n",
    "## a） Variables and Datatypes\n",
    "### Python Variables, Constants and Literals\n",
    "Python is completely object oriented, and not  \"statically typed\". You do not need to declare variables before using  them, or declare their type. Every variable in Python is an object.\n",
    "**In Python we don't assign values to the variables, whereas Python gives the reference of the object (value) to the variable.**\n",
    "\n",
    "#### 1.Variable\n",
    "\n",
    "In most of the programming languages a variable is a named location used to store data in the memory. Each variable must have a unique name called identifier. It is helpful to think of variables as container that hold data which can be changed later throughout programming.\n",
    "\n",
    "#### 2.Constants\n",
    "\n",
    "A constant is a type of variable whose value cannot be changed. It is helpful to think of constants as containers that hold information which cannot be changed later.\n",
    "\n",
    "In Python, constants are usually declared and assigned on a module. Here, the module means a new file containing variables, functions etc which is imported to main file. Inside the module, constants are written in all **capital letters and underscores** separating the words.\n",
    "\n",
    "#### 3.Rules and Naming convention for variables and constants\n",
    "\n",
    "1. Create a name that makes sense. Suppose, vowel makes more sense than v.\n",
    "2. Use camelCase notation to declare a variable. It starts with lowercase letter. For example:\n",
    "```\n",
    "myName\n",
    "myAge\n",
    "myAddress\n",
    "```\n",
    "3. Use capital letters where possible to declare a constant. For example:\n",
    "```\n",
    "PI\n",
    "G\n",
    "MASS\n",
    "TEMP\n",
    "```\n",
    "4. Never use special symbols like !, @, #, %, etc.\n",
    "5. Don't start name with a digit.\n",
    "6. Constants are put into Python modules and meant not be changed.\n",
    "7. Constant and variable names should have combination of letters in lowercase (a to z) or uppercase (A to Z) or digits (0 to 9) or an underscore (_). For example:\n",
    "```\n",
    "snake_case\n",
    "MACRO_CASE\n",
    "camelCase\n",
    "CapWords\n",
    "```\n",
    "#### 4.Literals\n",
    "\n",
    "Literal is a raw data given in a variable or constant. In Python, there are various types of literals they are as follows:\n",
    "\n",
    "1. Numeric Literals\n",
    "\n",
    "\n",
    "\n",
    "Numeric Literals are immutable (unchangeable). Numeric literals can belong to 3 different numerical types Integer, Float and Complex.\n",
    "\n",
    "[more information](https://www.programiz.com/python-programming/variables-constants-literals)"
   ]
  },
  {
   "cell_type": "code",
   "execution_count": 3,
   "metadata": {},
   "outputs": [
    {
     "name": "stdout",
     "output_type": "stream",
     "text": [
      "10 100 200 300\n",
      "10.5 150.0\n",
      "3.14j 3.14 0.0\n"
     ]
    }
   ],
   "source": [
    "a = 0b1010    #Binary Literals\n",
    "b = 100       #Decimal Literal \n",
    "c = 0o310     #Octal Literal\n",
    "d = 0x12c     #Hexadecimal Literal\n",
    "\n",
    "#Float Literal\n",
    "float_1 = 10.5 \n",
    "float_2 = 1.5e2\n",
    "\n",
    "#Complex Literal \n",
    "x = 3.14j\n",
    "\n",
    "print(a, b, c, d)\n",
    "print(float_1, float_2)\n",
    "print(x, x.imag, x.real)"
   ]
  },
  {
   "cell_type": "markdown",
   "metadata": {},
   "source": [
    "2. Boolean literals\n",
    "\n",
    "\n",
    "\n",
    "A Boolean literal can have any of the two values: True or False."
   ]
  },
  {
   "cell_type": "code",
   "execution_count": 7,
   "metadata": {},
   "outputs": [
    {
     "name": "stdout",
     "output_type": "stream",
     "text": [
      "True\n",
      "True\n"
     ]
    }
   ],
   "source": [
    "print(1==True)  #True represents the value as 1\n",
    "print(0==False) #False represents the value as 0"
   ]
  },
  {
   "cell_type": "markdown",
   "metadata": {},
   "source": [
    "3. Special literals\n",
    "\n",
    "\n",
    "\n",
    "Python contains one special literal i.e. None. We use it to specify to that field that is not created.\n",
    "\n",
    "[more information](https://www.programiz.com/python-programming/variables-constants-literals)"
   ]
  },
  {
   "cell_type": "markdown",
   "metadata": {},
   "source": [
    "### Datatypes\n",
    "#### Numbers\n",
    "\n",
    "\n",
    "\n",
    "Integers, floating point numbers and complex numbers falls under Python numbers category. They are defined as int, float and complex class in Python.\n",
    "\n",
    "We can use the type() function to know which class a variable or a value belongs to and the isinstance() function to check if an object belongs to a particular class."
   ]
  },
  {
   "cell_type": "code",
   "execution_count": 9,
   "metadata": {},
   "outputs": [
    {
     "name": "stdout",
     "output_type": "stream",
     "text": [
      "5 is of type <class 'int'>\n",
      "2.0 is of type <class 'float'>\n",
      "(1+2j) is complex number? True\n"
     ]
    }
   ],
   "source": [
    "a = 5\n",
    "print(a, \"is of type\", type(a))\n",
    "\n",
    "a = 2.0\n",
    "print(a, \"is of type\", type(a))\n",
    "\n",
    "a = 1+2j\n",
    "print(a, \"is complex number?\", isinstance(1+2j,complex)) "
   ]
  },
  {
   "cell_type": "markdown",
   "metadata": {},
   "source": [
    "#### Strings\n",
    "\n",
    "Strings are defined either with a single quote or a double quotes.\n",
    "Assignments can be done on more than one variable \"simultaneously\" on the same line like this \n",
    "a, b = 3, 4\n",
    "\n",
    "#### Lists     \n",
    "\n",
    "List is an ordered sequence of items. It is one of the most used datatype in Python and is very flexible. All the items in a list do not need to be of the same type.Lists are mutable, meaning, value of elements of a list can be altered.\n",
    "\n",
    "#### Tuple\n",
    "\n",
    "Tuple is an ordered sequence of items same as list.The only difference is that tuples are immutable. Tuples once created cannot be modified.\n",
    "Tuples are used to write-protect data and are usually faster than list as it cannot change dynamically.\n",
    "It is defined within parentheses () where items are separated by commas.\n",
    "\n",
    "#### Strings\n",
    "\n",
    "String is sequence of Unicode characters. We can use single quotes or double quotes to represent strings. Multi-line strings can be denoted using triple quotes, ''' or \"\"\".\n",
    "#### Set\n",
    "\n",
    "Set is an unordered collection of unique items. Set is defined by values separated by comma inside braces { }. Items in a set are not ordered."
   ]
  },
  {
   "cell_type": "code",
   "execution_count": 11,
   "metadata": {},
   "outputs": [
    {
     "name": "stdout",
     "output_type": "stream",
     "text": [
      "{1, 2, 3, 4, 5}\n"
     ]
    },
    {
     "ename": "TypeError",
     "evalue": "'set' object does not support indexing",
     "output_type": "error",
     "traceback": [
      "\u001b[1;31m---------------------------------------------------------------------------\u001b[0m",
      "\u001b[1;31mTypeError\u001b[0m                                 Traceback (most recent call last)",
      "\u001b[1;32m<ipython-input-11-af1bf2857702>\u001b[0m in \u001b[0;36m<module>\u001b[1;34m()\u001b[0m\n\u001b[0;32m      1\u001b[0m \u001b[0ma\u001b[0m\u001b[1;33m=\u001b[0m\u001b[1;33m{\u001b[0m\u001b[1;36m1\u001b[0m\u001b[1;33m,\u001b[0m\u001b[1;36m2\u001b[0m\u001b[1;33m,\u001b[0m\u001b[1;36m2\u001b[0m\u001b[1;33m,\u001b[0m\u001b[1;36m2\u001b[0m\u001b[1;33m,\u001b[0m\u001b[1;36m3\u001b[0m\u001b[1;33m,\u001b[0m\u001b[1;36m4\u001b[0m\u001b[1;33m,\u001b[0m\u001b[1;36m5\u001b[0m\u001b[1;33m}\u001b[0m\u001b[1;33m\u001b[0m\u001b[0m\n\u001b[0;32m      2\u001b[0m \u001b[0mprint\u001b[0m\u001b[1;33m(\u001b[0m\u001b[0ma\u001b[0m\u001b[1;33m)\u001b[0m    \u001b[1;31m# unordered collection of unique item\u001b[0m\u001b[1;33m\u001b[0m\u001b[0m\n\u001b[1;32m----> 3\u001b[1;33m \u001b[0mprint\u001b[0m\u001b[1;33m(\u001b[0m\u001b[0ma\u001b[0m\u001b[1;33m[\u001b[0m\u001b[1;36m1\u001b[0m\u001b[1;33m]\u001b[0m\u001b[1;33m)\u001b[0m \u001b[1;31m# Since indexing has no meaning. Hence the slicing operator [] does not work.\u001b[0m\u001b[1;33m\u001b[0m\u001b[0m\n\u001b[0m",
      "\u001b[1;31mTypeError\u001b[0m: 'set' object does not support indexing"
     ]
    }
   ],
   "source": [
    "a={1,2,2,2,3,4,5}\n",
    "print(a)    # unordered collection of unique item\n",
    "print(a[1]) # Since indexing has no meaning. Hence the slicing operator [] does not work."
   ]
  },
  {
   "cell_type": "markdown",
   "metadata": {},
   "source": [
    "#### Dictionary\n",
    "\n",
    "Dictionary is an unordered collection of key-value pairs.\n",
    "\n",
    "It is generally used when we have a huge amount of data. Dictionaries are optimized for retrieving data. We must know the key to retrieve the value.\n",
    "\n",
    "In Python, dictionaries are defined within braces {} with each item being a pair in the form key:value. Key and value can be of any type."
   ]
  },
  {
   "cell_type": "markdown",
   "metadata": {},
   "source": [
    "## b) Annotation\n",
    "### 1. single row\n",
    "\n",
    "#annotation\n",
    "\n",
    "### 2. multiple row\n",
    "\n",
    "'''\n",
    "\n",
    "annotation\n",
    "\n",
    "'''\n",
    "\n",
    "or\n",
    "\n",
    "\"\"\"\n",
    "\n",
    "annotation\n",
    "\n",
    "\"\"\"\n",
    "\n",
    "## c) colon\n",
    "### 1. as a section In list, dict, tupple, array\n",
    "**eg:**"
   ]
  },
  {
   "cell_type": "code",
   "execution_count": 13,
   "metadata": {
    "scrolled": true
   },
   "outputs": [
    {
     "name": "stdout",
     "output_type": "stream",
     "text": [
      "[1, 2, 3, 4]\n",
      "[1, 2, 3, 4]\n",
      "True\n",
      "False\n",
      "[1, 2, 3, 4]\n",
      "[1, 2, 3, 4]\n",
      "[2, 3, 4]\n",
      "[2, 3, 4]\n",
      "[1, 3]\n"
     ]
    }
   ],
   "source": [
    "a=[1,2,3,4]\n",
    "print(a)\n",
    "print(a[:])\n",
    "print(a==a[:])\n",
    "print(a is a[:])# a[:] is a copy of a. They have the same value but are not same things.\n",
    "print(a[0:4])  #index strat from \n",
    "print(a[:4])   #from 1st to 4th\n",
    "print(a[1:])   #from 2nd to last\n",
    "print(a[1:4])  #including first but no last\n",
    "print(a[::2])  #[start:end:step]"
   ]
  },
  {
   "cell_type": "code",
   "execution_count": 15,
   "metadata": {},
   "outputs": [
    {
     "name": "stdout",
     "output_type": "stream",
     "text": [
      "range(0, 10)\n",
      "<class 'range'>\n",
      "[0, 1, 2, 3, 4, 5, 6, 7, 8, 9]\n"
     ]
    },
    {
     "data": {
      "text/plain": [
       "list"
      ]
     },
     "execution_count": 15,
     "metadata": {},
     "output_type": "execute_result"
    }
   ],
   "source": [
    "b=range(10)\n",
    "print(b)\n",
    "print(type(b)) #b is not a list just a maker \n",
    "b=list(b) #Forced Conversion\n",
    "print(b)\n",
    "type(b)"
   ]
  },
  {
   "cell_type": "markdown",
   "metadata": {},
   "source": [
    "### 2. Syntax: a strat of code block\n",
    "Python uses indentation to define code blocks, instead of brackets. The standard Python indentation is 4 spaces, although tabs and any other space size will work, as long as it is consistent. Notice that code blocks do not need any termination.\n",
    "After a colon, the same indentation means the same block. So please be serious about this and it will be easy to use Tab key.\n",
    "\n"
   ]
  },
  {
   "cell_type": "markdown",
   "metadata": {},
   "source": [
    "## d) 学会使用dir( )及和help( )\n",
    "\n",
    "1. dir() function\n",
    "\n",
    "dir() is a powerful inbuilt function in Python3, which returns list of the attributes and methods of any object (say functions , modules, strings, lists, dictionaries etc.) \n",
    "\n",
    "\n",
    "\n",
    "+ dir() Parameters\n",
    "\n",
    "\n",
    "\n",
    "The dir() takes maximum of one object.\n",
    "object (optional) - dir() attempts to return all attributes of this object.\n",
    "+ Return Value from dir()\n",
    "\n",
    "\n",
    "\n",
    "The dir() tries to return a list of valid attributes of the object.\n",
    "If the object has __dir__() method, the method will be called and must return the list of attributes.\n",
    "If the object doesn't have __dir__() method, this method tries to find information from the __dict__ attribute (if defined), and from type object. In this case, the list returned from dir() may not be complete.\n",
    "If object is not passed to the dir() method, it returns the list of names in the current local scope.\n",
    "2. help() function\n",
    "\n",
    "The help() method calls the built-in Python help system.\n",
    "\n",
    "\n",
    "\n",
    "+ help() Parameters\n",
    "\n",
    "\n",
    "\n",
    "The help() method takes maximum of one parameter.\n",
    "object (optional) - you want to generate the help of the given object\n",
    "+ How help() works in Python?\n",
    "\n",
    "\n",
    "\n",
    "The help() method is used for interactive use. Tell you how to use all attributes of this object. It's recommenced to  try it in your interpreter when you need help to write Python program  and use Python modules.\n"
   ]
  },
  {
   "cell_type": "code",
   "execution_count": 2,
   "metadata": {},
   "outputs": [
    {
     "name": "stdout",
     "output_type": "stream",
     "text": [
      "['__add__', '__class__', '__contains__', '__delattr__', '__delitem__', '__dir__', '__doc__', '__eq__', '__format__', '__ge__', '__getattribute__', '__getitem__', '__gt__', '__hash__', '__iadd__', '__imul__', '__init__', '__init_subclass__', '__iter__', '__le__', '__len__', '__lt__', '__mul__', '__ne__', '__new__', '__reduce__', '__reduce_ex__', '__repr__', '__reversed__', '__rmul__', '__setattr__', '__setitem__', '__sizeof__', '__str__', '__subclasshook__', 'append', 'clear', 'copy', 'count', 'extend', 'index', 'insert', 'pop', 'remove', 'reverse', 'sort']\n",
      "Help on class list in module builtins:\n",
      "\n",
      "class list(object)\n",
      " |  list(iterable=(), /)\n",
      " |  \n",
      " |  Built-in mutable sequence.\n",
      " |  \n",
      " |  If no argument is given, the constructor creates a new empty list.\n",
      " |  The argument must be an iterable if specified.\n",
      " |  \n",
      " |  Methods defined here:\n",
      " |  \n",
      " |  __add__(self, value, /)\n",
      " |      Return self+value.\n",
      " |  \n",
      " |  __contains__(self, key, /)\n",
      " |      Return key in self.\n",
      " |  \n",
      " |  __delitem__(self, key, /)\n",
      " |      Delete self[key].\n",
      " |  \n",
      " |  __eq__(self, value, /)\n",
      " |      Return self==value.\n",
      " |  \n",
      " |  __ge__(self, value, /)\n",
      " |      Return self>=value.\n",
      " |  \n",
      " |  __getattribute__(self, name, /)\n",
      " |      Return getattr(self, name).\n",
      " |  \n",
      " |  __getitem__(...)\n",
      " |      x.__getitem__(y) <==> x[y]\n",
      " |  \n",
      " |  __gt__(self, value, /)\n",
      " |      Return self>value.\n",
      " |  \n",
      " |  __iadd__(self, value, /)\n",
      " |      Implement self+=value.\n",
      " |  \n",
      " |  __imul__(self, value, /)\n",
      " |      Implement self*=value.\n",
      " |  \n",
      " |  __init__(self, /, *args, **kwargs)\n",
      " |      Initialize self.  See help(type(self)) for accurate signature.\n",
      " |  \n",
      " |  __iter__(self, /)\n",
      " |      Implement iter(self).\n",
      " |  \n",
      " |  __le__(self, value, /)\n",
      " |      Return self<=value.\n",
      " |  \n",
      " |  __len__(self, /)\n",
      " |      Return len(self).\n",
      " |  \n",
      " |  __lt__(self, value, /)\n",
      " |      Return self<value.\n",
      " |  \n",
      " |  __mul__(self, value, /)\n",
      " |      Return self*value.\n",
      " |  \n",
      " |  __ne__(self, value, /)\n",
      " |      Return self!=value.\n",
      " |  \n",
      " |  __repr__(self, /)\n",
      " |      Return repr(self).\n",
      " |  \n",
      " |  __reversed__(self, /)\n",
      " |      Return a reverse iterator over the list.\n",
      " |  \n",
      " |  __rmul__(self, value, /)\n",
      " |      Return value*self.\n",
      " |  \n",
      " |  __setitem__(self, key, value, /)\n",
      " |      Set self[key] to value.\n",
      " |  \n",
      " |  __sizeof__(self, /)\n",
      " |      Return the size of the list in memory, in bytes.\n",
      " |  \n",
      " |  append(self, object, /)\n",
      " |      Append object to the end of the list.\n",
      " |  \n",
      " |  clear(self, /)\n",
      " |      Remove all items from list.\n",
      " |  \n",
      " |  copy(self, /)\n",
      " |      Return a shallow copy of the list.\n",
      " |  \n",
      " |  count(self, value, /)\n",
      " |      Return number of occurrences of value.\n",
      " |  \n",
      " |  extend(self, iterable, /)\n",
      " |      Extend list by appending elements from the iterable.\n",
      " |  \n",
      " |  index(self, value, start=0, stop=9223372036854775807, /)\n",
      " |      Return first index of value.\n",
      " |      \n",
      " |      Raises ValueError if the value is not present.\n",
      " |  \n",
      " |  insert(self, index, object, /)\n",
      " |      Insert object before index.\n",
      " |  \n",
      " |  pop(self, index=-1, /)\n",
      " |      Remove and return item at index (default last).\n",
      " |      \n",
      " |      Raises IndexError if list is empty or index is out of range.\n",
      " |  \n",
      " |  remove(self, value, /)\n",
      " |      Remove first occurrence of value.\n",
      " |      \n",
      " |      Raises ValueError if the value is not present.\n",
      " |  \n",
      " |  reverse(self, /)\n",
      " |      Reverse *IN PLACE*.\n",
      " |  \n",
      " |  sort(self, /, *, key=None, reverse=False)\n",
      " |      Stable sort *IN PLACE*.\n",
      " |  \n",
      " |  ----------------------------------------------------------------------\n",
      " |  Static methods defined here:\n",
      " |  \n",
      " |  __new__(*args, **kwargs) from builtins.type\n",
      " |      Create and return a new object.  See help(type) for accurate signature.\n",
      " |  \n",
      " |  ----------------------------------------------------------------------\n",
      " |  Data and other attributes defined here:\n",
      " |  \n",
      " |  __hash__ = None\n",
      "\n",
      "None\n"
     ]
    }
   ],
   "source": [
    "print(dir(list))\n",
    "print(help(list))"
   ]
  },
  {
   "cell_type": "markdown",
   "metadata": {},
   "source": [
    "## e) import\n",
    "To use any package in your code, you must first make it accessible. You  have to import it. You can't use anything in Python before it is  defined. Some things are built in, for example the basic types (like int, float,  etc) can be used whenever you want. But most things you will want to do  will need a little more than that. \n"
   ]
  },
  {
   "cell_type": "code",
   "execution_count": 16,
   "metadata": {},
   "outputs": [
    {
     "data": {
      "text/plain": [
       "3.141592653589793"
      ]
     },
     "execution_count": 16,
     "metadata": {},
     "output_type": "execute_result"
    }
   ],
   "source": [
    "import math\n",
    "math.pi"
   ]
  },
  {
   "cell_type": "code",
   "execution_count": 17,
   "metadata": {},
   "outputs": [
    {
     "data": {
      "text/plain": [
       "3.141592653589793"
      ]
     },
     "execution_count": 17,
     "metadata": {},
     "output_type": "execute_result"
    }
   ],
   "source": [
    "from math import pi\n",
    "pi"
   ]
  },
  {
   "cell_type": "markdown",
   "metadata": {},
   "source": [
    "## f) pep8\n",
    " PEPs are Python Enhancement Proposals,  and they describe and document the way python language evolves. They  also provide a reference point (and a standard) for the pythonic way to  write code. This is just the style guide for Python Code. \n",
    "[Python PEP8 编码规范中文版](https://blog.csdn.net/ratsniper/article/details/78954852)\n",
    "\n",
    "[Python PEP8 English edition](https://legacy.python.org/dev/peps/pep-0008/)"
   ]
  },
  {
   "cell_type": "markdown",
   "metadata": {},
   "source": [
    "# 4. python operator\n",
    "\n",
    "\n",
    "## b) Arithmetic operators\n",
    "\n",
    "Arithmetic operators are used to perform mathematical operations like addition, subtraction, multiplication etc.\n",
    "\n",
    "\n",
    "Operator|Meaning|Example\n",
    ":-|:--:|-\n",
    "+ |Add two operands or unary plus |x + y +2\n",
    "- |Subtract right operand from the left or unary minus |x - y -2\n",
    "* |Multiply two operands \t|x * y\n",
    "/ |Divide left operand by the right one (always results into float) \t|x / y\n",
    "% |Modulus - remainder of the division of left operand by the right \t|x % y (remainder of x/y)\n",
    "// |Floor division - division that results into whole number adjusted to the left in the number line \t|x // y\n",
    "** |Exponent - left operand raised to the power of right \t|x**y (x to the power y)\n",
    "\n"
   ]
  },
  {
   "cell_type": "code",
   "execution_count": 18,
   "metadata": {},
   "outputs": [
    {
     "name": "stdout",
     "output_type": "stream",
     "text": [
      "125\n",
      "1\n",
      "2\n"
     ]
    }
   ],
   "source": [
    "import math\n",
    "a=5\n",
    "b=3\n",
    "c=a**b\n",
    "d=a//b\n",
    "e=a%b\n",
    "print(c)\n",
    "print(d)\n",
    "print(e)"
   ]
  },
  {
   "cell_type": "markdown",
   "metadata": {},
   "source": [
    "## c) Comparison operators\n",
    "Operator|Meaning|Example\n",
    "---|:--:|---\n",
    "> \t|Greater that - True if left operand is greater than the right \t|x > y\n",
    "< \t|Less that - True if left operand is less than the right \t|x < y\n",
    "== \t|Equal to - True if both operands are equal \t|x == y\n",
    "!= \t|Not equal to - True if operands are not equal \t|x != y\n",
    ">= \t|Greater than or equal to - True if left operand is greater than or equal to the right \t|x >= y\n",
    "<= \t|Less than or equal to - True if left operand is less than or equal to the right \t|x <= y\n",
    "\n",
    "## d)Logical operators\n",
    "\n",
    "Operator  |Meaning \t|Example\n",
    "---|:--:|---\n",
    "and |True if both the operands are true \t|x and y\n",
    "or \t|True if either of the operands is true \t|x or y\n",
    "not |True if operand is false (complements the operand) \t|not x\n",
    "\n",
    "### Assignment operators\n",
    "\n",
    "Assignment operators are used in Python to assign values to variables.\n",
    "\n",
    "Assignment operators in Python Operator |Example \t|Equivatent to\n",
    ":-|:-:|:-\n",
    "= \t|x = 5 \t|x = 5\n",
    "+= \t|x += 5 \t|x = x + 5\n",
    "-= \t|x -= 5 \tx = x - 5\n",
    "\\*= \t|x *= 5 \t|x = x * 5\n",
    "/= \t|x /= 5 \t|x = x / 5\n",
    "%= \t|x %= 5 \t|x = x % 5\n",
    "//= \t|x //= 5 \t|x = x // 5\n",
    "\\**= \t|x \\**= 5 \t|x = x ** 5\n",
    "&= \t|x &= 5 \t|x = x & 5\n",
    "|= \t|x |= 5 \t|x = x | 5\n",
    "^= \t|x ^= 5 \t|x = x ^ 5\n",
    "\\>>= \t|x >>= 5 \t|x = x >> 5\n",
    "<<= \t|x <<= 5 \t|x = x << 5\n",
    "\n",
    "### Identity operators\n",
    "\n",
    "**is** and **is not** are the identity operators in Python. They are used to check if two values (or variables) are located on the same part of the **memory**. Two variables that are equal does not imply that they are identical."
   ]
  },
  {
   "cell_type": "code",
   "execution_count": 19,
   "metadata": {},
   "outputs": [
    {
     "name": "stdout",
     "output_type": "stream",
     "text": [
      "True\n",
      "True\n",
      "True\n",
      "True\n",
      "True\n",
      "False\n"
     ]
    }
   ],
   "source": [
    "x1=5\n",
    "x2=5\n",
    "y1=\"hello\"\n",
    "y2=\"hello\"\n",
    "print(x1==x2)     #x1 and y1 are integers of same values\n",
    "print(x1 is x2)   # And they are equal as well as identical.\n",
    "print(y1==y2)\n",
    "print(y1 is y2) # Same is the case with x2 and y2 (strings).\n",
    "z1=[1,2,3]\n",
    "z2=[1,2,3]      #But x3 and y3 are list.\n",
    "print(z1==z2)   #They are equal but not identical.\n",
    "print(z1 is z2) #Because interpreter locates them separately in memory although they are equal."
   ]
  },
  {
   "cell_type": "markdown",
   "metadata": {},
   "source": [
    "### Membership operators\n",
    "\n",
    "in and not in are the membership operators in Python. They are used to test whether a value or variable is found in a sequence (string, list, tuple, set and dictionary).\n",
    "\n",
    "In a dictionary we can **only test for presence of key**, not the value.\n"
   ]
  },
  {
   "cell_type": "markdown",
   "metadata": {},
   "source": [
    "### Bitwise operators(opyional)\n",
    "\n",
    "Bitwise operators act on operands as if they were string of binary digits. It operates bit by bit, hence the name."
   ]
  },
  {
   "cell_type": "markdown",
   "metadata": {},
   "source": [
    "##  Python Operator Precedence\n",
    "\n",
    "from high to low\n",
    "\n",
    "|Operator        |Description|\n",
    "|--|--|\n",
    "|() \t            |Parentheses (grouping)|\n",
    "|f(args...)     \t|Function call|\n",
    "|x[index:index] \t|Slicing|\n",
    "|x[index] \t    |Subscription|\n",
    "|x.attribute \t|Attribute reference|\n",
    "|** \t            |Exponentiation|\n",
    "|~x \t            |Bitwise not|\n",
    "|+x, -x \t        |Positive, negative|\n",
    "|\\*, /, % \t    |Multiplication, division, remainder|\n",
    "|+, - \t        |Addition, subtraction|\n",
    "|<<, >> \t        |Bitwise shifts|\n",
    "|& \t           |Bitwise AND|\n",
    "|^ \t            |Bitwise XOR|\n",
    "|| \t            |Bitwise OR|\n",
    "|in, not in, is, is not, <, <=,  >,  >=,<>, !=, == \t\t|Comparisons, membership, identity|\n",
    "|not x \t|Boolean NOT|\n",
    "|and \t|Boolean AND|\n",
    "|or \t    |Boolean OR|\n",
    "|lambda \t|Lambda expression|"
   ]
  }
 ],
 "metadata": {
  "kernelspec": {
   "display_name": "Python 3",
   "language": "python",
   "name": "python3"
  },
  "language_info": {
   "codemirror_mode": {
    "name": "ipython",
    "version": 3
   },
   "file_extension": ".py",
   "mimetype": "text/x-python",
   "name": "python",
   "nbconvert_exporter": "python",
   "pygments_lexer": "ipython3",
   "version": "3.7.0"
  }
 },
 "nbformat": 4,
 "nbformat_minor": 2
}
