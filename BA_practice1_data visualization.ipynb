{
  "nbformat": 4,
  "nbformat_minor": 0,
  "metadata": {
    "colab": {
      "name": "BA-assignment1.ipynb",
      "provenance": [],
      "collapsed_sections": []
    },
    "kernelspec": {
      "name": "python3",
      "display_name": "Python 3"
    }
  },
  "cells": [
    {
      "cell_type": "code",
      "metadata": {
        "id": "Z-H5YpcYVlMA",
        "colab_type": "code",
        "outputId": "7c7ca3db-a9a6-4d5d-d4bd-f6956bfe8aca",
        "colab": {
          "resources": {
            "http://localhost:8080/nbextensions/google.colab/files.js": {
              "data": "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",
              "ok": true,
              "headers": [
                [
                  "content-type",
                  "application/javascript"
                ]
              ],
              "status": 200,
              "status_text": ""
            }
          },
          "base_uri": "https://localhost:8080/",
          "height": 94
        }
      },
      "source": [
        "from google.colab import files\n",
        "\n",
        "uploaded = files.upload()\n",
        "\n",
        "for fn in uploaded.keys():\n",
        "  print('User uploaded file \"{name}\" with length {length} bytes'.format(\n",
        "      name=fn, length=len(uploaded[fn])))"
      ],
      "execution_count": 0,
      "outputs": [
        {
          "output_type": "display_data",
          "data": {
            "text/html": [
              "\n",
              "     <input type=\"file\" id=\"files-2e32501a-a7b0-44c8-848f-69c3924bf125\" name=\"files[]\" multiple disabled />\n",
              "     <output id=\"result-2e32501a-a7b0-44c8-848f-69c3924bf125\">\n",
              "      Upload widget is only available when the cell has been executed in the\n",
              "      current browser session. Please rerun this cell to enable.\n",
              "      </output>\n",
              "      <script src=\"/nbextensions/google.colab/files.js\"></script> "
            ],
            "text/plain": [
              "<IPython.core.display.HTML object>"
            ]
          },
          "metadata": {
            "tags": []
          }
        },
        {
          "output_type": "stream",
          "text": [
            "Saving HeavenlyChocolate.csv to HeavenlyChocolate (1).csv\n",
            "User uploaded file \"HeavenlyChocolate.csv\" with length 1730 bytes\n"
          ],
          "name": "stdout"
        }
      ]
    },
    {
      "cell_type": "code",
      "metadata": {
        "id": "1jWbFwqCWMn3",
        "colab_type": "code",
        "outputId": "0e9b11ff-d5dc-4a90-d70e-3099268b4296",
        "colab": {
          "base_uri": "https://localhost:8080/",
          "height": 1000
        }
      },
      "source": [
        "import pandas as pd\n",
        "from pandas import DataFrame,Series\n",
        "data=pd.read_csv('HeavenlyChocolate.csv')\n",
        "data"
      ],
      "execution_count": 0,
      "outputs": [
        {
          "output_type": "execute_result",
          "data": {
            "text/html": [
              "<div>\n",
              "<style scoped>\n",
              "    .dataframe tbody tr th:only-of-type {\n",
              "        vertical-align: middle;\n",
              "    }\n",
              "\n",
              "    .dataframe tbody tr th {\n",
              "        vertical-align: top;\n",
              "    }\n",
              "\n",
              "    .dataframe thead th {\n",
              "        text-align: right;\n",
              "    }\n",
              "</style>\n",
              "<table border=\"1\" class=\"dataframe\">\n",
              "  <thead>\n",
              "    <tr style=\"text-align: right;\">\n",
              "      <th></th>\n",
              "      <th>Customer</th>\n",
              "      <th>Day</th>\n",
              "      <th>Browser</th>\n",
              "      <th>Time (min)</th>\n",
              "      <th>Pages Viewed</th>\n",
              "      <th>Amount Spent ($)</th>\n",
              "    </tr>\n",
              "  </thead>\n",
              "  <tbody>\n",
              "    <tr>\n",
              "      <th>0</th>\n",
              "      <td>1</td>\n",
              "      <td>Mon</td>\n",
              "      <td>Internet Explorer</td>\n",
              "      <td>12.0</td>\n",
              "      <td>4</td>\n",
              "      <td>54.52</td>\n",
              "    </tr>\n",
              "    <tr>\n",
              "      <th>1</th>\n",
              "      <td>2</td>\n",
              "      <td>Wed</td>\n",
              "      <td>Other</td>\n",
              "      <td>19.5</td>\n",
              "      <td>6</td>\n",
              "      <td>94.90</td>\n",
              "    </tr>\n",
              "    <tr>\n",
              "      <th>2</th>\n",
              "      <td>3</td>\n",
              "      <td>Mon</td>\n",
              "      <td>Internet Explorer</td>\n",
              "      <td>8.5</td>\n",
              "      <td>4</td>\n",
              "      <td>26.68</td>\n",
              "    </tr>\n",
              "    <tr>\n",
              "      <th>3</th>\n",
              "      <td>4</td>\n",
              "      <td>Tue</td>\n",
              "      <td>Firefox</td>\n",
              "      <td>11.4</td>\n",
              "      <td>2</td>\n",
              "      <td>44.73</td>\n",
              "    </tr>\n",
              "    <tr>\n",
              "      <th>4</th>\n",
              "      <td>5</td>\n",
              "      <td>Wed</td>\n",
              "      <td>Internet Explorer</td>\n",
              "      <td>11.3</td>\n",
              "      <td>4</td>\n",
              "      <td>66.27</td>\n",
              "    </tr>\n",
              "    <tr>\n",
              "      <th>5</th>\n",
              "      <td>6</td>\n",
              "      <td>Sat</td>\n",
              "      <td>Firefox</td>\n",
              "      <td>10.5</td>\n",
              "      <td>6</td>\n",
              "      <td>67.80</td>\n",
              "    </tr>\n",
              "    <tr>\n",
              "      <th>6</th>\n",
              "      <td>7</td>\n",
              "      <td>Sun</td>\n",
              "      <td>Internet Explorer</td>\n",
              "      <td>11.4</td>\n",
              "      <td>2</td>\n",
              "      <td>36.04</td>\n",
              "    </tr>\n",
              "    <tr>\n",
              "      <th>7</th>\n",
              "      <td>8</td>\n",
              "      <td>Fri</td>\n",
              "      <td>Firefox</td>\n",
              "      <td>4.3</td>\n",
              "      <td>6</td>\n",
              "      <td>55.96</td>\n",
              "    </tr>\n",
              "    <tr>\n",
              "      <th>8</th>\n",
              "      <td>9</td>\n",
              "      <td>Wed</td>\n",
              "      <td>Firefox</td>\n",
              "      <td>12.7</td>\n",
              "      <td>3</td>\n",
              "      <td>70.94</td>\n",
              "    </tr>\n",
              "    <tr>\n",
              "      <th>9</th>\n",
              "      <td>10</td>\n",
              "      <td>Tue</td>\n",
              "      <td>Internet Explorer</td>\n",
              "      <td>24.7</td>\n",
              "      <td>7</td>\n",
              "      <td>68.73</td>\n",
              "    </tr>\n",
              "    <tr>\n",
              "      <th>10</th>\n",
              "      <td>11</td>\n",
              "      <td>Sat</td>\n",
              "      <td>Other</td>\n",
              "      <td>13.3</td>\n",
              "      <td>6</td>\n",
              "      <td>54.04</td>\n",
              "    </tr>\n",
              "    <tr>\n",
              "      <th>11</th>\n",
              "      <td>12</td>\n",
              "      <td>Sun</td>\n",
              "      <td>Firefox</td>\n",
              "      <td>14.3</td>\n",
              "      <td>5</td>\n",
              "      <td>48.05</td>\n",
              "    </tr>\n",
              "    <tr>\n",
              "      <th>12</th>\n",
              "      <td>13</td>\n",
              "      <td>Sun</td>\n",
              "      <td>Other</td>\n",
              "      <td>11.7</td>\n",
              "      <td>7</td>\n",
              "      <td>64.16</td>\n",
              "    </tr>\n",
              "    <tr>\n",
              "      <th>13</th>\n",
              "      <td>14</td>\n",
              "      <td>Mon</td>\n",
              "      <td>Firefox</td>\n",
              "      <td>24.4</td>\n",
              "      <td>10</td>\n",
              "      <td>158.51</td>\n",
              "    </tr>\n",
              "    <tr>\n",
              "      <th>14</th>\n",
              "      <td>15</td>\n",
              "      <td>Fri</td>\n",
              "      <td>Internet Explorer</td>\n",
              "      <td>8.4</td>\n",
              "      <td>3</td>\n",
              "      <td>84.12</td>\n",
              "    </tr>\n",
              "    <tr>\n",
              "      <th>15</th>\n",
              "      <td>16</td>\n",
              "      <td>Thu</td>\n",
              "      <td>Internet Explorer</td>\n",
              "      <td>9.6</td>\n",
              "      <td>4</td>\n",
              "      <td>59.20</td>\n",
              "    </tr>\n",
              "    <tr>\n",
              "      <th>16</th>\n",
              "      <td>17</td>\n",
              "      <td>Thu</td>\n",
              "      <td>Internet Explorer</td>\n",
              "      <td>23.3</td>\n",
              "      <td>7</td>\n",
              "      <td>91.62</td>\n",
              "    </tr>\n",
              "    <tr>\n",
              "      <th>17</th>\n",
              "      <td>18</td>\n",
              "      <td>Mon</td>\n",
              "      <td>Internet Explorer</td>\n",
              "      <td>14.0</td>\n",
              "      <td>7</td>\n",
              "      <td>126.40</td>\n",
              "    </tr>\n",
              "    <tr>\n",
              "      <th>18</th>\n",
              "      <td>19</td>\n",
              "      <td>Fri</td>\n",
              "      <td>Other</td>\n",
              "      <td>5.6</td>\n",
              "      <td>4</td>\n",
              "      <td>68.45</td>\n",
              "    </tr>\n",
              "    <tr>\n",
              "      <th>19</th>\n",
              "      <td>20</td>\n",
              "      <td>Wed</td>\n",
              "      <td>Internet Explorer</td>\n",
              "      <td>15.1</td>\n",
              "      <td>5</td>\n",
              "      <td>32.69</td>\n",
              "    </tr>\n",
              "    <tr>\n",
              "      <th>20</th>\n",
              "      <td>21</td>\n",
              "      <td>Sat</td>\n",
              "      <td>Firefox</td>\n",
              "      <td>16.3</td>\n",
              "      <td>5</td>\n",
              "      <td>78.58</td>\n",
              "    </tr>\n",
              "    <tr>\n",
              "      <th>21</th>\n",
              "      <td>22</td>\n",
              "      <td>Tue</td>\n",
              "      <td>Internet Explorer</td>\n",
              "      <td>10.2</td>\n",
              "      <td>6</td>\n",
              "      <td>74.43</td>\n",
              "    </tr>\n",
              "    <tr>\n",
              "      <th>22</th>\n",
              "      <td>23</td>\n",
              "      <td>Sun</td>\n",
              "      <td>Internet Explorer</td>\n",
              "      <td>8.0</td>\n",
              "      <td>3</td>\n",
              "      <td>32.73</td>\n",
              "    </tr>\n",
              "    <tr>\n",
              "      <th>23</th>\n",
              "      <td>24</td>\n",
              "      <td>Tue</td>\n",
              "      <td>Firefox</td>\n",
              "      <td>8.0</td>\n",
              "      <td>2</td>\n",
              "      <td>48.66</td>\n",
              "    </tr>\n",
              "    <tr>\n",
              "      <th>24</th>\n",
              "      <td>25</td>\n",
              "      <td>Fri</td>\n",
              "      <td>Firefox</td>\n",
              "      <td>9.6</td>\n",
              "      <td>3</td>\n",
              "      <td>54.66</td>\n",
              "    </tr>\n",
              "    <tr>\n",
              "      <th>25</th>\n",
              "      <td>26</td>\n",
              "      <td>Wed</td>\n",
              "      <td>Internet Explorer</td>\n",
              "      <td>11.0</td>\n",
              "      <td>2</td>\n",
              "      <td>40.54</td>\n",
              "    </tr>\n",
              "    <tr>\n",
              "      <th>26</th>\n",
              "      <td>27</td>\n",
              "      <td>Sat</td>\n",
              "      <td>Internet Explorer</td>\n",
              "      <td>16.9</td>\n",
              "      <td>5</td>\n",
              "      <td>34.69</td>\n",
              "    </tr>\n",
              "    <tr>\n",
              "      <th>27</th>\n",
              "      <td>28</td>\n",
              "      <td>Sat</td>\n",
              "      <td>Firefox</td>\n",
              "      <td>6.0</td>\n",
              "      <td>4</td>\n",
              "      <td>27.91</td>\n",
              "    </tr>\n",
              "    <tr>\n",
              "      <th>28</th>\n",
              "      <td>29</td>\n",
              "      <td>Fri</td>\n",
              "      <td>Firefox</td>\n",
              "      <td>32.9</td>\n",
              "      <td>10</td>\n",
              "      <td>155.30</td>\n",
              "    </tr>\n",
              "    <tr>\n",
              "      <th>29</th>\n",
              "      <td>30</td>\n",
              "      <td>Mon</td>\n",
              "      <td>Other</td>\n",
              "      <td>11.8</td>\n",
              "      <td>9</td>\n",
              "      <td>120.25</td>\n",
              "    </tr>\n",
              "    <tr>\n",
              "      <th>30</th>\n",
              "      <td>31</td>\n",
              "      <td>Thu</td>\n",
              "      <td>Internet Explorer</td>\n",
              "      <td>7.1</td>\n",
              "      <td>2</td>\n",
              "      <td>41.20</td>\n",
              "    </tr>\n",
              "    <tr>\n",
              "      <th>31</th>\n",
              "      <td>32</td>\n",
              "      <td>Fri</td>\n",
              "      <td>Firefox</td>\n",
              "      <td>18.0</td>\n",
              "      <td>8</td>\n",
              "      <td>134.40</td>\n",
              "    </tr>\n",
              "    <tr>\n",
              "      <th>32</th>\n",
              "      <td>33</td>\n",
              "      <td>Sun</td>\n",
              "      <td>Internet Explorer</td>\n",
              "      <td>11.8</td>\n",
              "      <td>4</td>\n",
              "      <td>37.17</td>\n",
              "    </tr>\n",
              "    <tr>\n",
              "      <th>33</th>\n",
              "      <td>34</td>\n",
              "      <td>Fri</td>\n",
              "      <td>Internet Explorer</td>\n",
              "      <td>9.1</td>\n",
              "      <td>3</td>\n",
              "      <td>52.09</td>\n",
              "    </tr>\n",
              "    <tr>\n",
              "      <th>34</th>\n",
              "      <td>35</td>\n",
              "      <td>Tue</td>\n",
              "      <td>Internet Explorer</td>\n",
              "      <td>7.8</td>\n",
              "      <td>5</td>\n",
              "      <td>71.81</td>\n",
              "    </tr>\n",
              "    <tr>\n",
              "      <th>35</th>\n",
              "      <td>36</td>\n",
              "      <td>Mon</td>\n",
              "      <td>Firefox</td>\n",
              "      <td>16.5</td>\n",
              "      <td>5</td>\n",
              "      <td>59.99</td>\n",
              "    </tr>\n",
              "    <tr>\n",
              "      <th>36</th>\n",
              "      <td>37</td>\n",
              "      <td>Thu</td>\n",
              "      <td>Firefox</td>\n",
              "      <td>6.2</td>\n",
              "      <td>4</td>\n",
              "      <td>84.17</td>\n",
              "    </tr>\n",
              "    <tr>\n",
              "      <th>37</th>\n",
              "      <td>38</td>\n",
              "      <td>Sat</td>\n",
              "      <td>Internet Explorer</td>\n",
              "      <td>11.3</td>\n",
              "      <td>4</td>\n",
              "      <td>55.58</td>\n",
              "    </tr>\n",
              "    <tr>\n",
              "      <th>38</th>\n",
              "      <td>39</td>\n",
              "      <td>Tue</td>\n",
              "      <td>Internet Explorer</td>\n",
              "      <td>10.6</td>\n",
              "      <td>2</td>\n",
              "      <td>39.06</td>\n",
              "    </tr>\n",
              "    <tr>\n",
              "      <th>39</th>\n",
              "      <td>40</td>\n",
              "      <td>Wed</td>\n",
              "      <td>Internet Explorer</td>\n",
              "      <td>5.0</td>\n",
              "      <td>5</td>\n",
              "      <td>36.48</td>\n",
              "    </tr>\n",
              "    <tr>\n",
              "      <th>40</th>\n",
              "      <td>41</td>\n",
              "      <td>Tue</td>\n",
              "      <td>Other</td>\n",
              "      <td>15.9</td>\n",
              "      <td>4</td>\n",
              "      <td>67.44</td>\n",
              "    </tr>\n",
              "    <tr>\n",
              "      <th>41</th>\n",
              "      <td>42</td>\n",
              "      <td>Sat</td>\n",
              "      <td>Internet Explorer</td>\n",
              "      <td>18.1</td>\n",
              "      <td>7</td>\n",
              "      <td>60.14</td>\n",
              "    </tr>\n",
              "    <tr>\n",
              "      <th>42</th>\n",
              "      <td>43</td>\n",
              "      <td>Fri</td>\n",
              "      <td>Firefox</td>\n",
              "      <td>10.8</td>\n",
              "      <td>4</td>\n",
              "      <td>70.38</td>\n",
              "    </tr>\n",
              "    <tr>\n",
              "      <th>43</th>\n",
              "      <td>44</td>\n",
              "      <td>Mon</td>\n",
              "      <td>Internet Explorer</td>\n",
              "      <td>13.3</td>\n",
              "      <td>7</td>\n",
              "      <td>110.65</td>\n",
              "    </tr>\n",
              "    <tr>\n",
              "      <th>44</th>\n",
              "      <td>45</td>\n",
              "      <td>Mon</td>\n",
              "      <td>Internet Explorer</td>\n",
              "      <td>30.1</td>\n",
              "      <td>6</td>\n",
              "      <td>104.23</td>\n",
              "    </tr>\n",
              "    <tr>\n",
              "      <th>45</th>\n",
              "      <td>46</td>\n",
              "      <td>Fri</td>\n",
              "      <td>Firefox</td>\n",
              "      <td>13.7</td>\n",
              "      <td>4</td>\n",
              "      <td>68.17</td>\n",
              "    </tr>\n",
              "    <tr>\n",
              "      <th>46</th>\n",
              "      <td>47</td>\n",
              "      <td>Thu</td>\n",
              "      <td>Internet Explorer</td>\n",
              "      <td>8.1</td>\n",
              "      <td>2</td>\n",
              "      <td>17.84</td>\n",
              "    </tr>\n",
              "    <tr>\n",
              "      <th>47</th>\n",
              "      <td>48</td>\n",
              "      <td>Fri</td>\n",
              "      <td>Internet Explorer</td>\n",
              "      <td>9.7</td>\n",
              "      <td>5</td>\n",
              "      <td>103.15</td>\n",
              "    </tr>\n",
              "    <tr>\n",
              "      <th>48</th>\n",
              "      <td>49</td>\n",
              "      <td>Mon</td>\n",
              "      <td>Other</td>\n",
              "      <td>7.3</td>\n",
              "      <td>6</td>\n",
              "      <td>52.15</td>\n",
              "    </tr>\n",
              "    <tr>\n",
              "      <th>49</th>\n",
              "      <td>50</td>\n",
              "      <td>Fri</td>\n",
              "      <td>Internet Explorer</td>\n",
              "      <td>13.4</td>\n",
              "      <td>3</td>\n",
              "      <td>98.75</td>\n",
              "    </tr>\n",
              "  </tbody>\n",
              "</table>\n",
              "</div>"
            ],
            "text/plain": [
              "    Customer  Day  ... Pages Viewed  Amount Spent ($)\n",
              "0          1  Mon  ...            4             54.52\n",
              "1          2  Wed  ...            6             94.90\n",
              "2          3  Mon  ...            4             26.68\n",
              "3          4  Tue  ...            2             44.73\n",
              "4          5  Wed  ...            4             66.27\n",
              "5          6  Sat  ...            6             67.80\n",
              "6          7  Sun  ...            2             36.04\n",
              "7          8  Fri  ...            6             55.96\n",
              "8          9  Wed  ...            3             70.94\n",
              "9         10  Tue  ...            7             68.73\n",
              "10        11  Sat  ...            6             54.04\n",
              "11        12  Sun  ...            5             48.05\n",
              "12        13  Sun  ...            7             64.16\n",
              "13        14  Mon  ...           10            158.51\n",
              "14        15  Fri  ...            3             84.12\n",
              "15        16  Thu  ...            4             59.20\n",
              "16        17  Thu  ...            7             91.62\n",
              "17        18  Mon  ...            7            126.40\n",
              "18        19  Fri  ...            4             68.45\n",
              "19        20  Wed  ...            5             32.69\n",
              "20        21  Sat  ...            5             78.58\n",
              "21        22  Tue  ...            6             74.43\n",
              "22        23  Sun  ...            3             32.73\n",
              "23        24  Tue  ...            2             48.66\n",
              "24        25  Fri  ...            3             54.66\n",
              "25        26  Wed  ...            2             40.54\n",
              "26        27  Sat  ...            5             34.69\n",
              "27        28  Sat  ...            4             27.91\n",
              "28        29  Fri  ...           10            155.30\n",
              "29        30  Mon  ...            9            120.25\n",
              "30        31  Thu  ...            2             41.20\n",
              "31        32  Fri  ...            8            134.40\n",
              "32        33  Sun  ...            4             37.17\n",
              "33        34  Fri  ...            3             52.09\n",
              "34        35  Tue  ...            5             71.81\n",
              "35        36  Mon  ...            5             59.99\n",
              "36        37  Thu  ...            4             84.17\n",
              "37        38  Sat  ...            4             55.58\n",
              "38        39  Tue  ...            2             39.06\n",
              "39        40  Wed  ...            5             36.48\n",
              "40        41  Tue  ...            4             67.44\n",
              "41        42  Sat  ...            7             60.14\n",
              "42        43  Fri  ...            4             70.38\n",
              "43        44  Mon  ...            7            110.65\n",
              "44        45  Mon  ...            6            104.23\n",
              "45        46  Fri  ...            4             68.17\n",
              "46        47  Thu  ...            2             17.84\n",
              "47        48  Fri  ...            5            103.15\n",
              "48        49  Mon  ...            6             52.15\n",
              "49        50  Fri  ...            3             98.75\n",
              "\n",
              "[50 rows x 6 columns]"
            ]
          },
          "metadata": {
            "tags": []
          },
          "execution_count": 11
        }
      ]
    },
    {
      "cell_type": "code",
      "metadata": {
        "id": "uroE6_lKXyNo",
        "colab_type": "code",
        "outputId": "6077253a-17fd-446b-a19b-5a5d96073ae9",
        "colab": {
          "base_uri": "https://localhost:8080/",
          "height": 71
        }
      },
      "source": [
        "data.columns"
      ],
      "execution_count": 0,
      "outputs": [
        {
          "output_type": "execute_result",
          "data": {
            "text/plain": [
              "Index(['Customer', 'Day', 'Browser', 'Time (min)', 'Pages Viewed',\n",
              "       'Amount Spent ($)'],\n",
              "      dtype='object')"
            ]
          },
          "metadata": {
            "tags": []
          },
          "execution_count": 12
        }
      ]
    },
    {
      "cell_type": "code",
      "metadata": {
        "id": "P56we5f5XvWo",
        "colab_type": "code",
        "outputId": "3911c164-20bb-4b36-ce85-87ea533976e3",
        "colab": {
          "base_uri": "https://localhost:8080/",
          "height": 283
        }
      },
      "source": [
        "import matplotlib.pyplot as plt\n",
        "import matplotlib.colors\n",
        "%matplotlib inline\n",
        "data.plot()"
      ],
      "execution_count": 0,
      "outputs": [
        {
          "output_type": "execute_result",
          "data": {
            "text/plain": [
              "<matplotlib.axes._subplots.AxesSubplot at 0x7f0283d83f28>"
            ]
          },
          "metadata": {
            "tags": []
          },
          "execution_count": 13
        },
        {
          "output_type": "display_data",
          "data": {
            "image/png": "[encoded data removed]",
            "text/plain": [
              "<Figure size 432x288 with 1 Axes>"
            ]
          },
          "metadata": {
            "tags": []
          }
        }
      ]
    },
    {
      "cell_type": "code",
      "metadata": {
        "id": "JV5zG4TmqA5W",
        "colab_type": "code",
        "outputId": "48807dc2-da92-44e3-d170-d41f15ee114b",
        "colab": {
          "base_uri": "https://localhost:8080/",
          "height": 294
        }
      },
      "source": [
        "import numpy  as np\n",
        "data.iloc[:,3:].describe()"
      ],
      "execution_count": 0,
      "outputs": [
        {
          "output_type": "execute_result",
          "data": {
            "text/html": [
              "<div>\n",
              "<style scoped>\n",
              "    .dataframe tbody tr th:only-of-type {\n",
              "        vertical-align: middle;\n",
              "    }\n",
              "\n",
              "    .dataframe tbody tr th {\n",
              "        vertical-align: top;\n",
              "    }\n",
              "\n",
              "    .dataframe thead th {\n",
              "        text-align: right;\n",
              "    }\n",
              "</style>\n",
              "<table border=\"1\" class=\"dataframe\">\n",
              "  <thead>\n",
              "    <tr style=\"text-align: right;\">\n",
              "      <th></th>\n",
              "      <th>Time (min)</th>\n",
              "      <th>Pages Viewed</th>\n",
              "      <th>Amount Spent ($)</th>\n",
              "    </tr>\n",
              "  </thead>\n",
              "  <tbody>\n",
              "    <tr>\n",
              "      <th>count</th>\n",
              "      <td>50.000000</td>\n",
              "      <td>50.000000</td>\n",
              "      <td>50.000000</td>\n",
              "    </tr>\n",
              "    <tr>\n",
              "      <th>mean</th>\n",
              "      <td>12.810000</td>\n",
              "      <td>4.820000</td>\n",
              "      <td>68.128200</td>\n",
              "    </tr>\n",
              "    <tr>\n",
              "      <th>std</th>\n",
              "      <td>6.063314</td>\n",
              "      <td>2.037305</td>\n",
              "      <td>32.343758</td>\n",
              "    </tr>\n",
              "    <tr>\n",
              "      <th>min</th>\n",
              "      <td>4.300000</td>\n",
              "      <td>2.000000</td>\n",
              "      <td>17.840000</td>\n",
              "    </tr>\n",
              "    <tr>\n",
              "      <th>25%</th>\n",
              "      <td>8.650000</td>\n",
              "      <td>3.250000</td>\n",
              "      <td>45.560000</td>\n",
              "    </tr>\n",
              "    <tr>\n",
              "      <th>50%</th>\n",
              "      <td>11.400000</td>\n",
              "      <td>4.500000</td>\n",
              "      <td>62.150000</td>\n",
              "    </tr>\n",
              "    <tr>\n",
              "      <th>75%</th>\n",
              "      <td>14.900000</td>\n",
              "      <td>6.000000</td>\n",
              "      <td>82.735000</td>\n",
              "    </tr>\n",
              "    <tr>\n",
              "      <th>max</th>\n",
              "      <td>32.900000</td>\n",
              "      <td>10.000000</td>\n",
              "      <td>158.510000</td>\n",
              "    </tr>\n",
              "  </tbody>\n",
              "</table>\n",
              "</div>"
            ],
            "text/plain": [
              "       Time (min)  Pages Viewed  Amount Spent ($)\n",
              "count   50.000000     50.000000         50.000000\n",
              "mean    12.810000      4.820000         68.128200\n",
              "std      6.063314      2.037305         32.343758\n",
              "min      4.300000      2.000000         17.840000\n",
              "25%      8.650000      3.250000         45.560000\n",
              "50%     11.400000      4.500000         62.150000\n",
              "75%     14.900000      6.000000         82.735000\n",
              "max     32.900000     10.000000        158.510000"
            ]
          },
          "metadata": {
            "tags": []
          },
          "execution_count": 14
        }
      ]
    },
    {
      "cell_type": "code",
      "metadata": {
        "id": "ebhoQjDPpUz7",
        "colab_type": "code",
        "outputId": "986643c9-badd-4c10-9f67-ee445a4bddd4",
        "colab": {
          "base_uri": "https://localhost:8080/",
          "height": 299
        }
      },
      "source": [
        "fig = plt.figure()\n",
        "ax = fig.add_subplot(111)\n",
        "ax.bar(data['Customer'],data['Time (min)'], color='b')\n",
        "ax.axhline(12.81, color=\"g\")\n",
        "ax.set_title('Time of individual customer')"
      ],
      "execution_count": 0,
      "outputs": [
        {
          "output_type": "execute_result",
          "data": {
            "text/plain": [
              "Text(0.5, 1.0, 'Time of individual customer')"
            ]
          },
          "metadata": {
            "tags": []
          },
          "execution_count": 15
        },
        {
          "output_type": "display_data",
          "data": {
            "image/png": "[encoded data removed]",
            "text/plain": [
              "<Figure size 432x288 with 1 Axes>"
            ]
          },
          "metadata": {
            "tags": []
          }
        }
      ]
    },
    {
      "cell_type": "code",
      "metadata": {
        "id": "erE65rLbss_s",
        "colab_type": "code",
        "outputId": "eebf8fac-fb01-43a5-883b-82fd1dfdb887",
        "colab": {
          "base_uri": "https://localhost:8080/",
          "height": 299
        }
      },
      "source": [
        "fig = plt.figure()\n",
        "bx =fig.add_subplot(111)\n",
        "bx.bar(data['Customer'],data['Pages Viewed'],)\n",
        "bx.axhline(4.82)\n",
        "bx.set_title('Pages viewed of individual customer')"
      ],
      "execution_count": 0,
      "outputs": [
        {
          "output_type": "execute_result",
          "data": {
            "text/plain": [
              "Text(0.5, 1.0, 'Pages viewed of individual customer')"
            ]
          },
          "metadata": {
            "tags": []
          },
          "execution_count": 16
        },
        {
          "output_type": "display_data",
          "data": {
            "image/png": "[encoded data removed]",
            "text/plain": [
              "<Figure size 432x288 with 1 Axes>"
            ]
          },
          "metadata": {
            "tags": []
          }
        }
      ]
    },
    {
      "cell_type": "code",
      "metadata": {
        "id": "NJegSnB1hMjQ",
        "colab_type": "code",
        "outputId": "45c18a08-8e22-4d5a-8b31-c02993592ddd",
        "colab": {
          "base_uri": "https://localhost:8080/",
          "height": 263
        }
      },
      "source": [
        "df_week=data.groupby(data.Day)\n",
        "df1=pd.DataFrame(df_week.Customer.count(),index=['Mon','Tue','Wed','Thu','Fri','Sat','Sun'])\n",
        "df1"
      ],
      "execution_count": 0,
      "outputs": [
        {
          "output_type": "execute_result",
          "data": {
            "text/html": [
              "<div>\n",
              "<style scoped>\n",
              "    .dataframe tbody tr th:only-of-type {\n",
              "        vertical-align: middle;\n",
              "    }\n",
              "\n",
              "    .dataframe tbody tr th {\n",
              "        vertical-align: top;\n",
              "    }\n",
              "\n",
              "    .dataframe thead th {\n",
              "        text-align: right;\n",
              "    }\n",
              "</style>\n",
              "<table border=\"1\" class=\"dataframe\">\n",
              "  <thead>\n",
              "    <tr style=\"text-align: right;\">\n",
              "      <th></th>\n",
              "      <th>Customer</th>\n",
              "    </tr>\n",
              "  </thead>\n",
              "  <tbody>\n",
              "    <tr>\n",
              "      <th>Mon</th>\n",
              "      <td>9</td>\n",
              "    </tr>\n",
              "    <tr>\n",
              "      <th>Tue</th>\n",
              "      <td>7</td>\n",
              "    </tr>\n",
              "    <tr>\n",
              "      <th>Wed</th>\n",
              "      <td>6</td>\n",
              "    </tr>\n",
              "    <tr>\n",
              "      <th>Thu</th>\n",
              "      <td>5</td>\n",
              "    </tr>\n",
              "    <tr>\n",
              "      <th>Fri</th>\n",
              "      <td>11</td>\n",
              "    </tr>\n",
              "    <tr>\n",
              "      <th>Sat</th>\n",
              "      <td>7</td>\n",
              "    </tr>\n",
              "    <tr>\n",
              "      <th>Sun</th>\n",
              "      <td>5</td>\n",
              "    </tr>\n",
              "  </tbody>\n",
              "</table>\n",
              "</div>"
            ],
            "text/plain": [
              "     Customer\n",
              "Mon         9\n",
              "Tue         7\n",
              "Wed         6\n",
              "Thu         5\n",
              "Fri        11\n",
              "Sat         7\n",
              "Sun         5"
            ]
          },
          "metadata": {
            "tags": []
          },
          "execution_count": 17
        }
      ]
    },
    {
      "cell_type": "code",
      "metadata": {
        "id": "gxH7TKzFjCxh",
        "colab_type": "code",
        "outputId": "bd1a9ff2-45f9-44e1-fad4-5856cd54045a",
        "colab": {
          "base_uri": "https://localhost:8080/",
          "height": 263
        }
      },
      "source": [
        "df2=pd.DataFrame(df_week['Amount Spent ($)'].sum(),index=['Mon','Tue','Wed','Thu','Fri','Sat','Sun'])\n",
        "df2.columns=Series(['Amount'])\n",
        "df2"
      ],
      "execution_count": 0,
      "outputs": [
        {
          "output_type": "execute_result",
          "data": {
            "text/html": [
              "<div>\n",
              "<style scoped>\n",
              "    .dataframe tbody tr th:only-of-type {\n",
              "        vertical-align: middle;\n",
              "    }\n",
              "\n",
              "    .dataframe tbody tr th {\n",
              "        vertical-align: top;\n",
              "    }\n",
              "\n",
              "    .dataframe thead th {\n",
              "        text-align: right;\n",
              "    }\n",
              "</style>\n",
              "<table border=\"1\" class=\"dataframe\">\n",
              "  <thead>\n",
              "    <tr style=\"text-align: right;\">\n",
              "      <th></th>\n",
              "      <th>Amount</th>\n",
              "    </tr>\n",
              "  </thead>\n",
              "  <tbody>\n",
              "    <tr>\n",
              "      <th>Mon</th>\n",
              "      <td>813.38</td>\n",
              "    </tr>\n",
              "    <tr>\n",
              "      <th>Tue</th>\n",
              "      <td>414.86</td>\n",
              "    </tr>\n",
              "    <tr>\n",
              "      <th>Wed</th>\n",
              "      <td>341.82</td>\n",
              "    </tr>\n",
              "    <tr>\n",
              "      <th>Thu</th>\n",
              "      <td>294.03</td>\n",
              "    </tr>\n",
              "    <tr>\n",
              "      <th>Fri</th>\n",
              "      <td>945.43</td>\n",
              "    </tr>\n",
              "    <tr>\n",
              "      <th>Sat</th>\n",
              "      <td>378.74</td>\n",
              "    </tr>\n",
              "    <tr>\n",
              "      <th>Sun</th>\n",
              "      <td>218.15</td>\n",
              "    </tr>\n",
              "  </tbody>\n",
              "</table>\n",
              "</div>"
            ],
            "text/plain": [
              "     Amount\n",
              "Mon  813.38\n",
              "Tue  414.86\n",
              "Wed  341.82\n",
              "Thu  294.03\n",
              "Fri  945.43\n",
              "Sat  378.74\n",
              "Sun  218.15"
            ]
          },
          "metadata": {
            "tags": []
          },
          "execution_count": 18
        }
      ]
    },
    {
      "cell_type": "code",
      "metadata": {
        "id": "KmHUKDvSkd9z",
        "colab_type": "code",
        "outputId": "bc50c0a3-d0a5-48a1-8c26-5a496343bad4",
        "colab": {
          "base_uri": "https://localhost:8080/",
          "height": 263
        }
      },
      "source": [
        "df3=pd.DataFrame(df_week['Amount Spent ($)'].mean(),index=['Mon','Tue','Wed','Thu','Fri','Sat','Sun'],dtype=np.float16)\n",
        "df3.columns=Series(['Average'])\n",
        "df3"
      ],
      "execution_count": 0,
      "outputs": [
        {
          "output_type": "execute_result",
          "data": {
            "text/html": [
              "<div>\n",
              "<style scoped>\n",
              "    .dataframe tbody tr th:only-of-type {\n",
              "        vertical-align: middle;\n",
              "    }\n",
              "\n",
              "    .dataframe tbody tr th {\n",
              "        vertical-align: top;\n",
              "    }\n",
              "\n",
              "    .dataframe thead th {\n",
              "        text-align: right;\n",
              "    }\n",
              "</style>\n",
              "<table border=\"1\" class=\"dataframe\">\n",
              "  <thead>\n",
              "    <tr style=\"text-align: right;\">\n",
              "      <th></th>\n",
              "      <th>Average</th>\n",
              "    </tr>\n",
              "  </thead>\n",
              "  <tbody>\n",
              "    <tr>\n",
              "      <th>Mon</th>\n",
              "      <td>90.37500</td>\n",
              "    </tr>\n",
              "    <tr>\n",
              "      <th>Tue</th>\n",
              "      <td>59.28125</td>\n",
              "    </tr>\n",
              "    <tr>\n",
              "      <th>Wed</th>\n",
              "      <td>56.96875</td>\n",
              "    </tr>\n",
              "    <tr>\n",
              "      <th>Thu</th>\n",
              "      <td>58.81250</td>\n",
              "    </tr>\n",
              "    <tr>\n",
              "      <th>Fri</th>\n",
              "      <td>85.93750</td>\n",
              "    </tr>\n",
              "    <tr>\n",
              "      <th>Sat</th>\n",
              "      <td>54.09375</td>\n",
              "    </tr>\n",
              "    <tr>\n",
              "      <th>Sun</th>\n",
              "      <td>43.62500</td>\n",
              "    </tr>\n",
              "  </tbody>\n",
              "</table>\n",
              "</div>"
            ],
            "text/plain": [
              "      Average\n",
              "Mon  90.37500\n",
              "Tue  59.28125\n",
              "Wed  56.96875\n",
              "Thu  58.81250\n",
              "Fri  85.93750\n",
              "Sat  54.09375\n",
              "Sun  43.62500"
            ]
          },
          "metadata": {
            "tags": []
          },
          "execution_count": 19
        }
      ]
    },
    {
      "cell_type": "code",
      "metadata": {
        "id": "UW7NpeymtJQ1",
        "colab_type": "code",
        "outputId": "afaa2b50-a712-4647-f0ca-4e2781b763fe",
        "colab": {
          "base_uri": "https://localhost:8080/",
          "height": 625
        }
      },
      "source": [
        "fig=plt.figure()\n",
        "fig.set_size_inches(10,10)\n",
        "a=fig.add_subplot(311)\n",
        "a.set_title('customer amount for each day of week')\n",
        "a.bar(df1.index,df1.Customer)\n",
        "b=fig.add_subplot(313)\n",
        "b.set_title('trasaction amount for each day of week')\n",
        "b.bar(df2.index,df2.Amount,color='purple')\n",
        "c=fig.add_subplot(312)\n",
        "c.set_title('mean amount for each day of week')\n",
        "c.bar(df3.index,df3.Average,color='g')\n"
      ],
      "execution_count": 0,
      "outputs": [
        {
          "output_type": "execute_result",
          "data": {
            "text/plain": [
              "<BarContainer object of 7 artists>"
            ]
          },
          "metadata": {
            "tags": []
          },
          "execution_count": 20
        },
        {
          "output_type": "display_data",
          "data": {
            "image/png": "[encoded data removed]",
            "text/plain": [
              "<Figure size 720x720 with 3 Axes>"
            ]
          },
          "metadata": {
            "tags": []
          }
        }
      ]
    },
    {
      "cell_type": "code",
      "metadata": {
        "id": "lEQCmR9E6nSk",
        "colab_type": "code",
        "outputId": "44e3c911-249a-4738-c087-e4f7d158d626",
        "colab": {
          "base_uri": "https://localhost:8080/",
          "height": 171
        }
      },
      "source": [
        "df_browser=data.groupby('Browser')\n",
        "df_bc=DataFrame(df_browser.Customer.count())\n",
        "df_bc"
      ],
      "execution_count": 0,
      "outputs": [
        {
          "output_type": "execute_result",
          "data": {
            "text/html": [
              "<div>\n",
              "<style scoped>\n",
              "    .dataframe tbody tr th:only-of-type {\n",
              "        vertical-align: middle;\n",
              "    }\n",
              "\n",
              "    .dataframe tbody tr th {\n",
              "        vertical-align: top;\n",
              "    }\n",
              "\n",
              "    .dataframe thead th {\n",
              "        text-align: right;\n",
              "    }\n",
              "</style>\n",
              "<table border=\"1\" class=\"dataframe\">\n",
              "  <thead>\n",
              "    <tr style=\"text-align: right;\">\n",
              "      <th></th>\n",
              "      <th>Customer</th>\n",
              "    </tr>\n",
              "    <tr>\n",
              "      <th>Browser</th>\n",
              "      <th></th>\n",
              "    </tr>\n",
              "  </thead>\n",
              "  <tbody>\n",
              "    <tr>\n",
              "      <th>Firefox</th>\n",
              "      <td>16</td>\n",
              "    </tr>\n",
              "    <tr>\n",
              "      <th>Internet Explorer</th>\n",
              "      <td>27</td>\n",
              "    </tr>\n",
              "    <tr>\n",
              "      <th>Other</th>\n",
              "      <td>7</td>\n",
              "    </tr>\n",
              "  </tbody>\n",
              "</table>\n",
              "</div>"
            ],
            "text/plain": [
              "                   Customer\n",
              "Browser                    \n",
              "Firefox                  16\n",
              "Internet Explorer        27\n",
              "Other                     7"
            ]
          },
          "metadata": {
            "tags": []
          },
          "execution_count": 21
        }
      ]
    },
    {
      "cell_type": "code",
      "metadata": {
        "id": "54CDUJNY7XnQ",
        "colab_type": "code",
        "outputId": "752e493d-9fd6-4960-e4cc-4905fc6ba7ca",
        "colab": {
          "base_uri": "https://localhost:8080/",
          "height": 171
        }
      },
      "source": [
        "df_ba=DataFrame(df_browser['Amount Spent ($)'].sum())\n",
        "df_ba.columns=Series(['Amount'])\n",
        "df_ba"
      ],
      "execution_count": 0,
      "outputs": [
        {
          "output_type": "execute_result",
          "data": {
            "text/html": [
              "<div>\n",
              "<style scoped>\n",
              "    .dataframe tbody tr th:only-of-type {\n",
              "        vertical-align: middle;\n",
              "    }\n",
              "\n",
              "    .dataframe tbody tr th {\n",
              "        vertical-align: top;\n",
              "    }\n",
              "\n",
              "    .dataframe thead th {\n",
              "        text-align: right;\n",
              "    }\n",
              "</style>\n",
              "<table border=\"1\" class=\"dataframe\">\n",
              "  <thead>\n",
              "    <tr style=\"text-align: right;\">\n",
              "      <th></th>\n",
              "      <th>Amount</th>\n",
              "    </tr>\n",
              "    <tr>\n",
              "      <th>Browser</th>\n",
              "      <th></th>\n",
              "    </tr>\n",
              "  </thead>\n",
              "  <tbody>\n",
              "    <tr>\n",
              "      <th>Firefox</th>\n",
              "      <td>1228.21</td>\n",
              "    </tr>\n",
              "    <tr>\n",
              "      <th>Internet Explorer</th>\n",
              "      <td>1656.81</td>\n",
              "    </tr>\n",
              "    <tr>\n",
              "      <th>Other</th>\n",
              "      <td>521.39</td>\n",
              "    </tr>\n",
              "  </tbody>\n",
              "</table>\n",
              "</div>"
            ],
            "text/plain": [
              "                    Amount\n",
              "Browser                   \n",
              "Firefox            1228.21\n",
              "Internet Explorer  1656.81\n",
              "Other               521.39"
            ]
          },
          "metadata": {
            "tags": []
          },
          "execution_count": 22
        }
      ]
    },
    {
      "cell_type": "code",
      "metadata": {
        "id": "LzGZmUgZ78Zo",
        "colab_type": "code",
        "outputId": "53177eb1-81d1-428b-e789-ca8843b171e1",
        "colab": {
          "base_uri": "https://localhost:8080/",
          "height": 171
        }
      },
      "source": [
        "df_bm=DataFrame(df_browser['Amount Spent ($)'].mean(),dtype=float)\n",
        "df_bm.columns=Series(['Average'])\n",
        "df_bm"
      ],
      "execution_count": 0,
      "outputs": [
        {
          "output_type": "execute_result",
          "data": {
            "text/html": [
              "<div>\n",
              "<style scoped>\n",
              "    .dataframe tbody tr th:only-of-type {\n",
              "        vertical-align: middle;\n",
              "    }\n",
              "\n",
              "    .dataframe tbody tr th {\n",
              "        vertical-align: top;\n",
              "    }\n",
              "\n",
              "    .dataframe thead th {\n",
              "        text-align: right;\n",
              "    }\n",
              "</style>\n",
              "<table border=\"1\" class=\"dataframe\">\n",
              "  <thead>\n",
              "    <tr style=\"text-align: right;\">\n",
              "      <th></th>\n",
              "      <th>Average</th>\n",
              "    </tr>\n",
              "    <tr>\n",
              "      <th>Browser</th>\n",
              "      <th></th>\n",
              "    </tr>\n",
              "  </thead>\n",
              "  <tbody>\n",
              "    <tr>\n",
              "      <th>Firefox</th>\n",
              "      <td>76.763125</td>\n",
              "    </tr>\n",
              "    <tr>\n",
              "      <th>Internet Explorer</th>\n",
              "      <td>61.363333</td>\n",
              "    </tr>\n",
              "    <tr>\n",
              "      <th>Other</th>\n",
              "      <td>74.484286</td>\n",
              "    </tr>\n",
              "  </tbody>\n",
              "</table>\n",
              "</div>"
            ],
            "text/plain": [
              "                     Average\n",
              "Browser                     \n",
              "Firefox            76.763125\n",
              "Internet Explorer  61.363333\n",
              "Other              74.484286"
            ]
          },
          "metadata": {
            "tags": []
          },
          "execution_count": 23
        }
      ]
    },
    {
      "cell_type": "code",
      "metadata": {
        "id": "nMF8zBWt8Q__",
        "colab_type": "code",
        "outputId": "b237dbf5-c73d-45e2-b505-7b53e5b626f7",
        "colab": {
          "base_uri": "https://localhost:8080/",
          "height": 354
        }
      },
      "source": [
        "fig=plt.figure()\n",
        "fig.set_size_inches(13,5) \n",
        "a=fig.add_subplot(131)\n",
        "a.set_title('customer amount for each type of browser')\n",
        "a.bar(df_bc.index,df_bc.Customer)\n",
        "b=fig.add_subplot(133)\n",
        "b.set_title('trasaction amount for each  type of browser')\n",
        "b.bar(df_ba.index,df_ba.Amount,color='purple')\n",
        "c=fig.add_subplot(132)\n",
        "c.set_title('mean amount for each  type of browser')\n",
        "c.bar(df_bm.index,df_bm.Average,color='g')"
      ],
      "execution_count": 0,
      "outputs": [
        {
          "output_type": "execute_result",
          "data": {
            "text/plain": [
              "<BarContainer object of 3 artists>"
            ]
          },
          "metadata": {
            "tags": []
          },
          "execution_count": 24
        },
        {
          "output_type": "display_data",
          "data": {
            "image/png": "[encoded data removed]",
            "text/plain": [
              "<Figure size 936x360 with 3 Axes>"
            ]
          },
          "metadata": {
            "tags": []
          }
        }
      ]
    },
    {
      "cell_type": "code",
      "metadata": {
        "id": "xpYBRi9u8_VG",
        "colab_type": "code",
        "outputId": "ecc35898-bbbc-41f3-ef14-6fb29f603b8f",
        "colab": {
          "base_uri": "https://localhost:8080/",
          "height": 313
        }
      },
      "source": [
        "plt.scatter(data['Time (min)'],data['Amount Spent ($)'])\n",
        "plt.xlabel('Viewed Time')\n",
        "plt.ylabel('Doller Amount')\n",
        "plt.title('the relationship between the time spend on web and doller amount spend')"
      ],
      "execution_count": 0,
      "outputs": [
        {
          "output_type": "execute_result",
          "data": {
            "text/plain": [
              "Text(0.5, 1.0, 'the relationship between the time spend on web and doller amount spend')"
            ]
          },
          "metadata": {
            "tags": []
          },
          "execution_count": 25
        },
        {
          "output_type": "display_data",
          "data": {
            "image/png": "[encoded data removed]",
            "text/plain": [
              "<Figure size 432x288 with 1 Axes>"
            ]
          },
          "metadata": {
            "tags": []
          }
        }
      ]
    },
    {
      "cell_type": "code",
      "metadata": {
        "id": "oRlkE1URh5si",
        "colab_type": "code",
        "outputId": "b14139ef-b1bc-43c1-b8d6-f912849de770",
        "colab": {
          "base_uri": "https://localhost:8080/",
          "height": 313
        }
      },
      "source": [
        "plt.scatter(data['Pages Viewed'],data['Amount Spent ($)'])\n",
        "plt.xlabel('Pages Viewed')\n",
        "plt.ylabel('Doller Amount')\n",
        "plt.title('the relationship between the Pages Viewed and doller amount spend')"
      ],
      "execution_count": 0,
      "outputs": [
        {
          "output_type": "execute_result",
          "data": {
            "text/plain": [
              "Text(0.5, 1.0, 'the relationship between the Pages Viewed and doller amount spend')"
            ]
          },
          "metadata": {
            "tags": []
          },
          "execution_count": 42
        },
        {
          "output_type": "display_data",
          "data": {
            "image/png": "[encoded data removed]",
            "text/plain": [
              "<Figure size 432x288 with 1 Axes>"
            ]
          },
          "metadata": {
            "tags": []
          }
        }
      ]
    },
    {
      "cell_type": "code",
      "metadata": {
        "id": "6wX7cOLgiQVi",
        "colab_type": "code",
        "outputId": "00c1f18c-3af9-4495-ed9d-15ac33a9581f",
        "colab": {
          "base_uri": "https://localhost:8080/",
          "height": 313
        }
      },
      "source": [
        "plt.scatter(data['Pages Viewed'],data['Time (min)'])\n",
        "plt.xlabel('Pages Viewed')\n",
        "plt.ylabel('Time Viewed')\n",
        "plt.title('the relationship between the Pages Viewed and Time Viewed')"
      ],
      "execution_count": 0,
      "outputs": [
        {
          "output_type": "execute_result",
          "data": {
            "text/plain": [
              "Text(0.5, 1.0, 'the relationship between the Pages Viewed and Time Viewed')"
            ]
          },
          "metadata": {
            "tags": []
          },
          "execution_count": 44
        },
        {
          "output_type": "display_data",
          "data": {
            "image/png": "[encoded data removed]",
            "text/plain": [
              "<Figure size 432x288 with 1 Axes>"
            ]
          },
          "metadata": {
            "tags": []
          }
        }
      ]
    },
    {
      "cell_type": "code",
      "metadata": {
        "id": "RrSezQMNgr1w",
        "colab_type": "code",
        "outputId": "c485e60f-155a-40b4-88a8-501368504831",
        "colab": {
          "base_uri": "https://localhost:8080/",
          "height": 1000
        }
      },
      "source": [
        "data2=DataFrame(data.iloc[:,3:])\n",
        "data2"
      ],
      "execution_count": 0,
      "outputs": [
        {
          "output_type": "execute_result",
          "data": {
            "text/html": [
              "<div>\n",
              "<style scoped>\n",
              "    .dataframe tbody tr th:only-of-type {\n",
              "        vertical-align: middle;\n",
              "    }\n",
              "\n",
              "    .dataframe tbody tr th {\n",
              "        vertical-align: top;\n",
              "    }\n",
              "\n",
              "    .dataframe thead th {\n",
              "        text-align: right;\n",
              "    }\n",
              "</style>\n",
              "<table border=\"1\" class=\"dataframe\">\n",
              "  <thead>\n",
              "    <tr style=\"text-align: right;\">\n",
              "      <th></th>\n",
              "      <th>Time (min)</th>\n",
              "      <th>Pages Viewed</th>\n",
              "      <th>Amount Spent ($)</th>\n",
              "    </tr>\n",
              "  </thead>\n",
              "  <tbody>\n",
              "    <tr>\n",
              "      <th>0</th>\n",
              "      <td>12.0</td>\n",
              "      <td>4</td>\n",
              "      <td>54.52</td>\n",
              "    </tr>\n",
              "    <tr>\n",
              "      <th>1</th>\n",
              "      <td>19.5</td>\n",
              "      <td>6</td>\n",
              "      <td>94.90</td>\n",
              "    </tr>\n",
              "    <tr>\n",
              "      <th>2</th>\n",
              "      <td>8.5</td>\n",
              "      <td>4</td>\n",
              "      <td>26.68</td>\n",
              "    </tr>\n",
              "    <tr>\n",
              "      <th>3</th>\n",
              "      <td>11.4</td>\n",
              "      <td>2</td>\n",
              "      <td>44.73</td>\n",
              "    </tr>\n",
              "    <tr>\n",
              "      <th>4</th>\n",
              "      <td>11.3</td>\n",
              "      <td>4</td>\n",
              "      <td>66.27</td>\n",
              "    </tr>\n",
              "    <tr>\n",
              "      <th>5</th>\n",
              "      <td>10.5</td>\n",
              "      <td>6</td>\n",
              "      <td>67.80</td>\n",
              "    </tr>\n",
              "    <tr>\n",
              "      <th>6</th>\n",
              "      <td>11.4</td>\n",
              "      <td>2</td>\n",
              "      <td>36.04</td>\n",
              "    </tr>\n",
              "    <tr>\n",
              "      <th>7</th>\n",
              "      <td>4.3</td>\n",
              "      <td>6</td>\n",
              "      <td>55.96</td>\n",
              "    </tr>\n",
              "    <tr>\n",
              "      <th>8</th>\n",
              "      <td>12.7</td>\n",
              "      <td>3</td>\n",
              "      <td>70.94</td>\n",
              "    </tr>\n",
              "    <tr>\n",
              "      <th>9</th>\n",
              "      <td>24.7</td>\n",
              "      <td>7</td>\n",
              "      <td>68.73</td>\n",
              "    </tr>\n",
              "    <tr>\n",
              "      <th>10</th>\n",
              "      <td>13.3</td>\n",
              "      <td>6</td>\n",
              "      <td>54.04</td>\n",
              "    </tr>\n",
              "    <tr>\n",
              "      <th>11</th>\n",
              "      <td>14.3</td>\n",
              "      <td>5</td>\n",
              "      <td>48.05</td>\n",
              "    </tr>\n",
              "    <tr>\n",
              "      <th>12</th>\n",
              "      <td>11.7</td>\n",
              "      <td>7</td>\n",
              "      <td>64.16</td>\n",
              "    </tr>\n",
              "    <tr>\n",
              "      <th>13</th>\n",
              "      <td>24.4</td>\n",
              "      <td>10</td>\n",
              "      <td>158.51</td>\n",
              "    </tr>\n",
              "    <tr>\n",
              "      <th>14</th>\n",
              "      <td>8.4</td>\n",
              "      <td>3</td>\n",
              "      <td>84.12</td>\n",
              "    </tr>\n",
              "    <tr>\n",
              "      <th>15</th>\n",
              "      <td>9.6</td>\n",
              "      <td>4</td>\n",
              "      <td>59.20</td>\n",
              "    </tr>\n",
              "    <tr>\n",
              "      <th>16</th>\n",
              "      <td>23.3</td>\n",
              "      <td>7</td>\n",
              "      <td>91.62</td>\n",
              "    </tr>\n",
              "    <tr>\n",
              "      <th>17</th>\n",
              "      <td>14.0</td>\n",
              "      <td>7</td>\n",
              "      <td>126.40</td>\n",
              "    </tr>\n",
              "    <tr>\n",
              "      <th>18</th>\n",
              "      <td>5.6</td>\n",
              "      <td>4</td>\n",
              "      <td>68.45</td>\n",
              "    </tr>\n",
              "    <tr>\n",
              "      <th>19</th>\n",
              "      <td>15.1</td>\n",
              "      <td>5</td>\n",
              "      <td>32.69</td>\n",
              "    </tr>\n",
              "    <tr>\n",
              "      <th>20</th>\n",
              "      <td>16.3</td>\n",
              "      <td>5</td>\n",
              "      <td>78.58</td>\n",
              "    </tr>\n",
              "    <tr>\n",
              "      <th>21</th>\n",
              "      <td>10.2</td>\n",
              "      <td>6</td>\n",
              "      <td>74.43</td>\n",
              "    </tr>\n",
              "    <tr>\n",
              "      <th>22</th>\n",
              "      <td>8.0</td>\n",
              "      <td>3</td>\n",
              "      <td>32.73</td>\n",
              "    </tr>\n",
              "    <tr>\n",
              "      <th>23</th>\n",
              "      <td>8.0</td>\n",
              "      <td>2</td>\n",
              "      <td>48.66</td>\n",
              "    </tr>\n",
              "    <tr>\n",
              "      <th>24</th>\n",
              "      <td>9.6</td>\n",
              "      <td>3</td>\n",
              "      <td>54.66</td>\n",
              "    </tr>\n",
              "    <tr>\n",
              "      <th>25</th>\n",
              "      <td>11.0</td>\n",
              "      <td>2</td>\n",
              "      <td>40.54</td>\n",
              "    </tr>\n",
              "    <tr>\n",
              "      <th>26</th>\n",
              "      <td>16.9</td>\n",
              "      <td>5</td>\n",
              "      <td>34.69</td>\n",
              "    </tr>\n",
              "    <tr>\n",
              "      <th>27</th>\n",
              "      <td>6.0</td>\n",
              "      <td>4</td>\n",
              "      <td>27.91</td>\n",
              "    </tr>\n",
              "    <tr>\n",
              "      <th>28</th>\n",
              "      <td>32.9</td>\n",
              "      <td>10</td>\n",
              "      <td>155.30</td>\n",
              "    </tr>\n",
              "    <tr>\n",
              "      <th>29</th>\n",
              "      <td>11.8</td>\n",
              "      <td>9</td>\n",
              "      <td>120.25</td>\n",
              "    </tr>\n",
              "    <tr>\n",
              "      <th>30</th>\n",
              "      <td>7.1</td>\n",
              "      <td>2</td>\n",
              "      <td>41.20</td>\n",
              "    </tr>\n",
              "    <tr>\n",
              "      <th>31</th>\n",
              "      <td>18.0</td>\n",
              "      <td>8</td>\n",
              "      <td>134.40</td>\n",
              "    </tr>\n",
              "    <tr>\n",
              "      <th>32</th>\n",
              "      <td>11.8</td>\n",
              "      <td>4</td>\n",
              "      <td>37.17</td>\n",
              "    </tr>\n",
              "    <tr>\n",
              "      <th>33</th>\n",
              "      <td>9.1</td>\n",
              "      <td>3</td>\n",
              "      <td>52.09</td>\n",
              "    </tr>\n",
              "    <tr>\n",
              "      <th>34</th>\n",
              "      <td>7.8</td>\n",
              "      <td>5</td>\n",
              "      <td>71.81</td>\n",
              "    </tr>\n",
              "    <tr>\n",
              "      <th>35</th>\n",
              "      <td>16.5</td>\n",
              "      <td>5</td>\n",
              "      <td>59.99</td>\n",
              "    </tr>\n",
              "    <tr>\n",
              "      <th>36</th>\n",
              "      <td>6.2</td>\n",
              "      <td>4</td>\n",
              "      <td>84.17</td>\n",
              "    </tr>\n",
              "    <tr>\n",
              "      <th>37</th>\n",
              "      <td>11.3</td>\n",
              "      <td>4</td>\n",
              "      <td>55.58</td>\n",
              "    </tr>\n",
              "    <tr>\n",
              "      <th>38</th>\n",
              "      <td>10.6</td>\n",
              "      <td>2</td>\n",
              "      <td>39.06</td>\n",
              "    </tr>\n",
              "    <tr>\n",
              "      <th>39</th>\n",
              "      <td>5.0</td>\n",
              "      <td>5</td>\n",
              "      <td>36.48</td>\n",
              "    </tr>\n",
              "    <tr>\n",
              "      <th>40</th>\n",
              "      <td>15.9</td>\n",
              "      <td>4</td>\n",
              "      <td>67.44</td>\n",
              "    </tr>\n",
              "    <tr>\n",
              "      <th>41</th>\n",
              "      <td>18.1</td>\n",
              "      <td>7</td>\n",
              "      <td>60.14</td>\n",
              "    </tr>\n",
              "    <tr>\n",
              "      <th>42</th>\n",
              "      <td>10.8</td>\n",
              "      <td>4</td>\n",
              "      <td>70.38</td>\n",
              "    </tr>\n",
              "    <tr>\n",
              "      <th>43</th>\n",
              "      <td>13.3</td>\n",
              "      <td>7</td>\n",
              "      <td>110.65</td>\n",
              "    </tr>\n",
              "    <tr>\n",
              "      <th>44</th>\n",
              "      <td>30.1</td>\n",
              "      <td>6</td>\n",
              "      <td>104.23</td>\n",
              "    </tr>\n",
              "    <tr>\n",
              "      <th>45</th>\n",
              "      <td>13.7</td>\n",
              "      <td>4</td>\n",
              "      <td>68.17</td>\n",
              "    </tr>\n",
              "    <tr>\n",
              "      <th>46</th>\n",
              "      <td>8.1</td>\n",
              "      <td>2</td>\n",
              "      <td>17.84</td>\n",
              "    </tr>\n",
              "    <tr>\n",
              "      <th>47</th>\n",
              "      <td>9.7</td>\n",
              "      <td>5</td>\n",
              "      <td>103.15</td>\n",
              "    </tr>\n",
              "    <tr>\n",
              "      <th>48</th>\n",
              "      <td>7.3</td>\n",
              "      <td>6</td>\n",
              "      <td>52.15</td>\n",
              "    </tr>\n",
              "    <tr>\n",
              "      <th>49</th>\n",
              "      <td>13.4</td>\n",
              "      <td>3</td>\n",
              "      <td>98.75</td>\n",
              "    </tr>\n",
              "  </tbody>\n",
              "</table>\n",
              "</div>"
            ],
            "text/plain": [
              "    Time (min)  Pages Viewed  Amount Spent ($)\n",
              "0         12.0             4             54.52\n",
              "1         19.5             6             94.90\n",
              "2          8.5             4             26.68\n",
              "3         11.4             2             44.73\n",
              "4         11.3             4             66.27\n",
              "5         10.5             6             67.80\n",
              "6         11.4             2             36.04\n",
              "7          4.3             6             55.96\n",
              "8         12.7             3             70.94\n",
              "9         24.7             7             68.73\n",
              "10        13.3             6             54.04\n",
              "11        14.3             5             48.05\n",
              "12        11.7             7             64.16\n",
              "13        24.4            10            158.51\n",
              "14         8.4             3             84.12\n",
              "15         9.6             4             59.20\n",
              "16        23.3             7             91.62\n",
              "17        14.0             7            126.40\n",
              "18         5.6             4             68.45\n",
              "19        15.1             5             32.69\n",
              "20        16.3             5             78.58\n",
              "21        10.2             6             74.43\n",
              "22         8.0             3             32.73\n",
              "23         8.0             2             48.66\n",
              "24         9.6             3             54.66\n",
              "25        11.0             2             40.54\n",
              "26        16.9             5             34.69\n",
              "27         6.0             4             27.91\n",
              "28        32.9            10            155.30\n",
              "29        11.8             9            120.25\n",
              "30         7.1             2             41.20\n",
              "31        18.0             8            134.40\n",
              "32        11.8             4             37.17\n",
              "33         9.1             3             52.09\n",
              "34         7.8             5             71.81\n",
              "35        16.5             5             59.99\n",
              "36         6.2             4             84.17\n",
              "37        11.3             4             55.58\n",
              "38        10.6             2             39.06\n",
              "39         5.0             5             36.48\n",
              "40        15.9             4             67.44\n",
              "41        18.1             7             60.14\n",
              "42        10.8             4             70.38\n",
              "43        13.3             7            110.65\n",
              "44        30.1             6            104.23\n",
              "45        13.7             4             68.17\n",
              "46         8.1             2             17.84\n",
              "47         9.7             5            103.15\n",
              "48         7.3             6             52.15\n",
              "49        13.4             3             98.75"
            ]
          },
          "metadata": {
            "tags": []
          },
          "execution_count": 39
        }
      ]
    },
    {
      "cell_type": "code",
      "metadata": {
        "id": "e_a7C8MAhnUV",
        "colab_type": "code",
        "outputId": "e5a4a007-6769-4ee0-9199-35f0f14981b8",
        "colab": {
          "base_uri": "https://localhost:8080/",
          "height": 140
        }
      },
      "source": [
        "data2.cov()"
      ],
      "execution_count": 0,
      "outputs": [
        {
          "output_type": "execute_result",
          "data": {
            "text/html": [
              "<div>\n",
              "<style scoped>\n",
              "    .dataframe tbody tr th:only-of-type {\n",
              "        vertical-align: middle;\n",
              "    }\n",
              "\n",
              "    .dataframe tbody tr th {\n",
              "        vertical-align: top;\n",
              "    }\n",
              "\n",
              "    .dataframe thead th {\n",
              "        text-align: right;\n",
              "    }\n",
              "</style>\n",
              "<table border=\"1\" class=\"dataframe\">\n",
              "  <thead>\n",
              "    <tr style=\"text-align: right;\">\n",
              "      <th></th>\n",
              "      <th>Time (min)</th>\n",
              "      <th>Pages Viewed</th>\n",
              "      <th>Amount Spent ($)</th>\n",
              "    </tr>\n",
              "  </thead>\n",
              "  <tbody>\n",
              "    <tr>\n",
              "      <th>Time (min)</th>\n",
              "      <td>36.763776</td>\n",
              "      <td>7.356939</td>\n",
              "      <td>113.753345</td>\n",
              "    </tr>\n",
              "    <tr>\n",
              "      <th>Pages Viewed</th>\n",
              "      <td>7.356939</td>\n",
              "      <td>4.150612</td>\n",
              "      <td>47.685384</td>\n",
              "    </tr>\n",
              "    <tr>\n",
              "      <th>Amount Spent ($)</th>\n",
              "      <td>113.753345</td>\n",
              "      <td>47.685384</td>\n",
              "      <td>1046.118672</td>\n",
              "    </tr>\n",
              "  </tbody>\n",
              "</table>\n",
              "</div>"
            ],
            "text/plain": [
              "                  Time (min)  Pages Viewed  Amount Spent ($)\n",
              "Time (min)         36.763776      7.356939        113.753345\n",
              "Pages Viewed        7.356939      4.150612         47.685384\n",
              "Amount Spent ($)  113.753345     47.685384       1046.118672"
            ]
          },
          "metadata": {
            "tags": []
          },
          "execution_count": 40
        }
      ]
    },
    {
      "cell_type": "code",
      "metadata": {
        "id": "euGrRIwzhsZJ",
        "colab_type": "code",
        "outputId": "d6f98eaf-2431-4be5-c9b8-371fab23f116",
        "colab": {
          "base_uri": "https://localhost:8080/",
          "height": 140
        }
      },
      "source": [
        "data2.corr()"
      ],
      "execution_count": 0,
      "outputs": [
        {
          "output_type": "execute_result",
          "data": {
            "text/html": [
              "<div>\n",
              "<style scoped>\n",
              "    .dataframe tbody tr th:only-of-type {\n",
              "        vertical-align: middle;\n",
              "    }\n",
              "\n",
              "    .dataframe tbody tr th {\n",
              "        vertical-align: top;\n",
              "    }\n",
              "\n",
              "    .dataframe thead th {\n",
              "        text-align: right;\n",
              "    }\n",
              "</style>\n",
              "<table border=\"1\" class=\"dataframe\">\n",
              "  <thead>\n",
              "    <tr style=\"text-align: right;\">\n",
              "      <th></th>\n",
              "      <th>Time (min)</th>\n",
              "      <th>Pages Viewed</th>\n",
              "      <th>Amount Spent ($)</th>\n",
              "    </tr>\n",
              "  </thead>\n",
              "  <tbody>\n",
              "    <tr>\n",
              "      <th>Time (min)</th>\n",
              "      <td>1.000000</td>\n",
              "      <td>0.595568</td>\n",
              "      <td>0.580048</td>\n",
              "    </tr>\n",
              "    <tr>\n",
              "      <th>Pages Viewed</th>\n",
              "      <td>0.595568</td>\n",
              "      <td>1.000000</td>\n",
              "      <td>0.723667</td>\n",
              "    </tr>\n",
              "    <tr>\n",
              "      <th>Amount Spent ($)</th>\n",
              "      <td>0.580048</td>\n",
              "      <td>0.723667</td>\n",
              "      <td>1.000000</td>\n",
              "    </tr>\n",
              "  </tbody>\n",
              "</table>\n",
              "</div>"
            ],
            "text/plain": [
              "                  Time (min)  Pages Viewed  Amount Spent ($)\n",
              "Time (min)          1.000000      0.595568          0.580048\n",
              "Pages Viewed        0.595568      1.000000          0.723667\n",
              "Amount Spent ($)    0.580048      0.723667          1.000000"
            ]
          },
          "metadata": {
            "tags": []
          },
          "execution_count": 41
        }
      ]
    }
  ]
}