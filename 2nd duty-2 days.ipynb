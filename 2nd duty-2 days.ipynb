{
 "cells": [
  {
   "cell_type": "markdown",
   "metadata": {},
   "source": [
    "*Some basic info is already included in the [First-day Blog](https://github.com/YSYSya/10-days-for-Python-Datawhale/blob/master/1st%20duty-2%20days.ipynb)*"
   ]
  },
  {
   "cell_type": "markdown",
   "metadata": {},
   "source": [
    "(不好意思一下部分还没有完成，我争取明天中午前完成)\n",
    "2. 元组\n",
    "a. 标志\n",
    "b. 基本操作（创建及不可变性）\n",
    "3. string字符串\n",
    "a. 定义及基本操作（+，*，读取方式）\n",
    "b. 字符串相关方法\n",
    "4. 字符串格式化问题\n"
   ]
  },
  {
   "cell_type": "markdown",
   "metadata": {},
   "source": [
    "# 1.List\n",
    "It can have any number of items and they may be of different types (integer, float, string, another list etc.).\n",
    "## Basic Operation\n",
    "### 1.Create List"
   ]
  },
  {
   "cell_type": "code",
   "execution_count": 1,
   "metadata": {},
   "outputs": [],
   "source": [
    "# empty list\n",
    "my_list = []\n",
    "\n",
    "# list of integers\n",
    "my_list = [1, 2, 3]\n",
    "\n",
    "# list with mixed datatypes\n",
    "my_list = [1, \"Hello\", 3.4]\n",
    "\n",
    "# nested list\n",
    "my_list = [\"mouse\", [8, 4, 6], ['a']]"
   ]
  },
  {
   "cell_type": "markdown",
   "metadata": {},
   "source": [
    "### 2.Access The Items In List\n",
    "\n",
    "We can use the index operator [] to access an item in a list. \n",
    "\n",
    "**Index starts from 0. \n",
    "And the index must be an integer. **"
   ]
  },
  {
   "cell_type": "code",
   "execution_count": 2,
   "metadata": {},
   "outputs": [
    {
     "name": "stdout",
     "output_type": "stream",
     "text": [
      "p\n",
      "e\n",
      "p\n",
      "e\n"
     ]
    }
   ],
   "source": [
    " my_list = ['p','r','o','b','e']\n",
    "print(my_list[0])\n",
    "print(my_list[4])\n",
    "length=len(my_list)\n",
    "print(my_list[-length])  #Negative indexing\n",
    "print(my_list[-1])"
   ]
  },
  {
   "cell_type": "code",
   "execution_count": 3,
   "metadata": {},
   "outputs": [
    {
     "ename": "TypeError",
     "evalue": "list indices must be integers or slices, not float",
     "output_type": "error",
     "traceback": [
      "\u001b[1;31m---------------------------------------------------------------------------\u001b[0m",
      "\u001b[1;31mTypeError\u001b[0m                                 Traceback (most recent call last)",
      "\u001b[1;32m<ipython-input-3-5318cf8ce9f3>\u001b[0m in \u001b[0;36m<module>\u001b[1;34m()\u001b[0m\n\u001b[1;32m----> 1\u001b[1;33m \u001b[0mprint\u001b[0m\u001b[1;33m(\u001b[0m\u001b[0mmy_list\u001b[0m\u001b[1;33m[\u001b[0m\u001b[1;36m2.0\u001b[0m\u001b[1;33m]\u001b[0m\u001b[1;33m)\u001b[0m\u001b[1;33m\u001b[0m\u001b[0m\n\u001b[0m",
      "\u001b[1;31mTypeError\u001b[0m: list indices must be integers or slices, not float"
     ]
    }
   ],
   "source": [
    "print(my_list[2.0])"
   ]
  },
  {
   "cell_type": "code",
   "execution_count": null,
   "metadata": {},
   "outputs": [],
   "source": [
    "n_list = [\"Happy\", [2,0,1,5]] #nested list\n",
    "print(n_list[0][1])     \n",
    "print(n_list[1][3])"
   ]
  },
  {
   "cell_type": "markdown",
   "metadata": {},
   "source": [
    "### 3.Change Or Add Elements To A List"
   ]
  },
  {
   "cell_type": "code",
   "execution_count": 42,
   "metadata": {},
   "outputs": [
    {
     "name": "stdout",
     "output_type": "stream",
     "text": [
      "[2, 4, 6, 8, 10]\n",
      "[1, 4, 6, 8, 10]\n",
      "[1, 3, 5, 7, 9]\n",
      "[0, 2, 4]\n",
      "[0, 2, 4]\n",
      "[0, 2, 4]\n",
      "[0, 2, 4, 12, 14]\n",
      "[0, 2, 4, 0, 2, 4]\n",
      "[0, 2, 4]\n",
      "[2, 4, 6, 8, 10, 6, 8, 10]\n",
      "[0, 2, 4, 6, 8]\n",
      "[6]\n"
     ]
    }
   ],
   "source": [
    "#We can use assignment operator (=) to change an item or a range of items.\n",
    "even=[2,4,6,8,10]\n",
    "print(even)\n",
    "even[0]=1\n",
    "print(even)\n",
    "even[1:]=[3,5,7,9]\n",
    "print(even)\n",
    "\n",
    "#We can add one item to a list using append() method or add several items using extend() method.\n",
    "even=[0,2,4]\n",
    "print(even)\n",
    "odd.append(6)  # append() add one items\n",
    "print(even)   \n",
    "odd.extend([8,10])  #extend()  add several items\n",
    "print(even)\n",
    "print(even+[12,14])       #concatenation\n",
    "print(even*2)             #The * operator repeats a list for the given number of times\n",
    "print(even)               #odd is constant after \"*\" or \"+\"\n",
    "\n",
    "#we can insert one item at a desired location by using the method insert()\n",
    "#Or insert multiple items by squeezing it into an empty slice of a list.\n",
    "even = [0,4]\n",
    "even.insert(1,2)\n",
    "print(odd)\n",
    "even[3:4]=[6,8]     \n",
    "print(even)      \n",
    "print(even[3:4])   "
   ]
  },
  {
   "cell_type": "markdown",
   "metadata": {},
   "source": [
    "### 4.Delete Or Remove"
   ]
  },
  {
   "cell_type": "code",
   "execution_count": 43,
   "metadata": {},
   "outputs": [
    {
     "name": "stdout",
     "output_type": "stream",
     "text": [
      "[4, 6, 8, 10]\n",
      "[4, 6]\n"
     ]
    },
    {
     "ename": "NameError",
     "evalue": "name 'even' is not defined",
     "output_type": "error",
     "traceback": [
      "\u001b[1;31m---------------------------------------------------------------------------\u001b[0m",
      "\u001b[1;31mNameError\u001b[0m                                 Traceback (most recent call last)",
      "\u001b[1;32m<ipython-input-43-fb11126d32a4>\u001b[0m in \u001b[0;36m<module>\u001b[1;34m()\u001b[0m\n\u001b[0;32m      7\u001b[0m \u001b[1;31m#It can even delete the list entirely.\u001b[0m\u001b[1;33m\u001b[0m\u001b[1;33m\u001b[0m\u001b[0m\n\u001b[0;32m      8\u001b[0m \u001b[1;32mdel\u001b[0m \u001b[0meven\u001b[0m\u001b[1;33m\u001b[0m\u001b[0m\n\u001b[1;32m----> 9\u001b[1;33m \u001b[0mprint\u001b[0m\u001b[1;33m(\u001b[0m\u001b[0meven\u001b[0m\u001b[1;33m)\u001b[0m\u001b[1;33m\u001b[0m\u001b[0m\n\u001b[0m",
      "\u001b[1;31mNameError\u001b[0m: name 'even' is not defined"
     ]
    }
   ],
   "source": [
    "#We can delete one or more items from a list using the keyword del.\n",
    "even=[2,4,6,8,10]\n",
    "del even[0]\n",
    "print(even)\n",
    "del even[-2:]\n",
    "print(even)\n",
    "#It can even delete the list entirely.\n",
    "del even\n",
    "print(even)"
   ]
  },
  {
   "cell_type": "code",
   "execution_count": 14,
   "metadata": {},
   "outputs": [
    {
     "name": "stdout",
     "output_type": "stream",
     "text": [
      "['r', 'o', 'b', 'l', 'e', 'm']\n",
      "o\n",
      "['r', 'b', 'l', 'e', 'm']\n",
      "m\n",
      "['r', 'b', 'l', 'e']\n",
      "[]\n"
     ]
    }
   ],
   "source": [
    "#We can use remove() method to remove the given item. \n",
    "my_list = ['p','r','o','b','l','e','m']\n",
    "my_list.remove('p')   #remove \"p\"\n",
    "print(my_list)\n",
    "#We can use pop() method to remove an item at the given index.\n",
    "print(my_list.pop(1))   # extrat the 2nd item\n",
    "print(my_list)          # remove the 2nd item\n",
    "print(my_list.pop())    # extrat the last item\n",
    "print(my_list)          # remove the last item\n",
    "\n",
    "#We can also use the clear() method to empty a list\n",
    "my_list.clear()\n",
    "print(my_list)    "
   ]
  },
  {
   "cell_type": "code",
   "execution_count": 23,
   "metadata": {},
   "outputs": [
    {
     "name": "stdout",
     "output_type": "stream",
     "text": [
      "['no', 'any', 'problem']\n",
      "[[], 'any', 'problem']\n",
      "['problem']\n",
      "[]\n"
     ]
    }
   ],
   "source": [
    "#Finally, we can also delete items in a list by assigning an empty list to a slice of elements.\n",
    "my_list = ['no',\"any\",'problem']\n",
    "print(my_list)\n",
    "my_list[0]=[]\n",
    "print(my_list)\n",
    "my_list[0:2]=[]\n",
    "print(my_list)\n",
    "my_list=[]\n",
    "print(my_list)"
   ]
  },
  {
   "cell_type": "markdown",
   "metadata": {},
   "source": [
    "## Orther List Operation\n",
    "\n",
    "|Python List Methods|\n",
    "|--|\n",
    "|append() - Add an element to the end of the list|\n",
    "|extend() - Add all elements of a list to the another list|\n",
    "|insert() - Insert an item at the defined index|\n",
    "|remove() - Removes an item from the list|\n",
    "|pop() - Removes and returns an element at the given index|\n",
    "|clear() - Removes all items from the list|\n",
    "|index() - Returns the index of the first matched item|\n",
    "|count() - Returns the count of number of items passed as an argument|\n",
    "|sort() - Sort items in a list in ascending order|\n",
    "|reverse() - Reverse the order of items in the list|\n",
    "|copy() - Returns a shallow copy of the list|"
   ]
  },
  {
   "cell_type": "code",
   "execution_count": 40,
   "metadata": {},
   "outputs": [
    {
     "name": "stdout",
     "output_type": "stream",
     "text": [
      "4\n",
      "2\n",
      "[1, 1, 2, 2, 4, 5]\n",
      "[5, 4, 2, 2, 1, 1]\n",
      "[5, 4, 2, 2, 1, 1]\n"
     ]
    },
    {
     "data": {
      "text/plain": [
       "[5, 4, 2, 2, 1, 1, 5, 4, 2, 2, 1, 1]"
      ]
     },
     "execution_count": 40,
     "metadata": {},
     "output_type": "execute_result"
    }
   ],
   "source": [
    "num=[1,4,2,1,5,2]\n",
    "print(num.index(5))\n",
    "print(num.count(1))\n",
    "num.sort()   # the list is changed\n",
    "print(num)\n",
    "num.reverse()  #the list is changed\n",
    "print(num)\n",
    "print(num.copy())   #shallow copy?\n"
   ]
  },
  {
   "cell_type": "markdown",
   "metadata": {},
   "source": [
    "### List Comprehension: Elegant way to create new List\n",
    "List comprehension is an elegant and concise way to create new list from an existing list in Python.\n",
    "\n",
    "List comprehension consists of an expression followed by for statement inside square brackets."
   ]
  },
  {
   "cell_type": "code",
   "execution_count": 44,
   "metadata": {},
   "outputs": [
    {
     "name": "stdout",
     "output_type": "stream",
     "text": [
      "[1, 2, 4, 8, 16, 32, 64, 128, 256, 512]\n",
      "[1, 3, 5, 7, 9, 11, 13, 15, 17, 19]\n",
      "['Python Language', 'Python Programming', 'C Language', 'C Programming']\n"
     ]
    }
   ],
   "source": [
    " #make a list with each item being increasing power of 2.\n",
    "pow2 = [2 ** x for x in range(10)]    \n",
    "print(pow2)\n",
    "# if statements\n",
    "odd = [x for x in range(20) if x % 2 == 1]\n",
    "print(odd)\n",
    "#A list comprehension can optionally contain more for  \n",
    "pro=[x+y for x in ['Python ','C '] for y in ['Language','Programming']]\n",
    "print(pro)"
   ]
  },
  {
   "cell_type": "markdown",
   "metadata": {},
   "source": [
    "### List Membership Test\n",
    "\n",
    "We can test if an item exists in a list or not, using the keyword in."
   ]
  },
  {
   "cell_type": "code",
   "execution_count": 48,
   "metadata": {},
   "outputs": [
    {
     "name": "stdout",
     "output_type": "stream",
     "text": [
      "True\n",
      "False\n",
      "True\n"
     ]
    }
   ],
   "source": [
    "my_list = ['p','r','o','b','l','e','m']\n",
    "\n",
    "print('p' in my_list)\n",
    "print('a' in my_list)\n",
    "print('c' not in my_list)"
   ]
  },
  {
   "cell_type": "markdown",
   "metadata": {},
   "source": [
    "### Iterating Through a List\n",
    "\n",
    "Using a for loop we can iterate though each item in a list.\n"
   ]
  },
  {
   "cell_type": "code",
   "execution_count": 51,
   "metadata": {},
   "outputs": [
    {
     "name": "stdout",
     "output_type": "stream",
     "text": [
      "I like pawpaw\n",
      "I like pineapple\n",
      "I like mango\n"
     ]
    }
   ],
   "source": [
    "for fruit in ['pawpaw','pineapple','mango']:\n",
    "    print(\"I like\",fruit)"
   ]
  },
  {
   "cell_type": "markdown",
   "metadata": {},
   "source": [
    "### Built-in Functions with List\n",
    "\n",
    "Built-in functions like all(), any(), enumerate(), len(), max(), min(), list(), sorted() etc. are commonly used with list to perform different tasks.\n",
    "\n",
    "Function |Description\n",
    "--|--\n",
    "all() \t|Return True if all elements of the list are true (or if the list is empty).\n",
    "any() \t|Return True if any element of the list is true. If the list is empty, return False.\n",
    "enumerate() \t|Return an enumerate object. It contains the index and value of all the items of list as a tuple.\n",
    "len() \t|Return the length (the number of items) in the list.\n",
    "list() \t|Convert an iterable (tuple, string, set, dictionary) to a list.\n",
    "max() \t|Return the largest item in the list.\n",
    "min() \t|Return the smallest item in the list\n",
    "sorted() \t|Return a new sorted list (does not sort the list itself).\n",
    "sum() \t|Return the sum of all elements in the list."
   ]
  },
  {
   "cell_type": "code",
   "execution_count": 61,
   "metadata": {},
   "outputs": [
    {
     "name": "stdout",
     "output_type": "stream",
     "text": [
      "True\n",
      "True\n",
      "<enumerate object at 0x00000210936240D8>\n",
      "4\n",
      "1\n",
      "[1, 3, 5, 7]\n",
      "16\n"
     ]
    }
   ],
   "source": [
    "odd=[1,3,5,7]\n",
    "print(all(odd))\n",
    "print(any(odd))\n",
    "print(enumerate(odd))  #what?\n",
    "print(len(odd))\n",
    "print(min(odd))\n",
    "print(sorted(odd))  #the list is unchaged\n",
    "print(sum(odd))"
   ]
  }
 ],
 "metadata": {
  "kernelspec": {
   "display_name": "Python 3",
   "language": "python",
   "name": "python3"
  },
  "language_info": {
   "codemirror_mode": {
    "name": "ipython",
    "version": 3
   },
   "file_extension": ".py",
   "mimetype": "text/x-python",
   "name": "python",
   "nbconvert_exporter": "python",
   "pygments_lexer": "ipython3",
   "version": "3.7.0"
  }
 },
 "nbformat": 4,
 "nbformat_minor": 2
}
