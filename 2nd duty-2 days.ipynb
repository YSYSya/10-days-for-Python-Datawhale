{
 "cells": [
  {
   "cell_type": "markdown",
   "metadata": {},
   "source": [
    "*Some basic info is already included in the [First-day Blog](https://github.com/YSYSya/10-days-for-Python-Datawhale/blob/master/1st%20duty-2%20days.ipynb)*"
   ]
  },
  {
   "cell_type": "markdown",
   "metadata": {},
   "source": [
    "# 1.List\n",
    "It can have any number of items and they may be of different types (integer, float, string, another list etc.).\n",
    "## Basic Operation\n",
    "### 1.Create List"
   ]
  },
  {
   "cell_type": "code",
   "execution_count": 90,
   "metadata": {},
   "outputs": [],
   "source": [
    "# empty list\n",
    "my_list = []\n",
    "\n",
    "# list of integers\n",
    "my_list = [1, 2, 3]\n",
    "\n",
    "# list with mixed datatypes\n",
    "my_list = [1, \"Hello\", 3.4]\n",
    "\n",
    "# nested list\n",
    "my_list = [\"mouse\", [8, 4, 6], ['a']]"
   ]
  },
  {
   "cell_type": "markdown",
   "metadata": {},
   "source": [
    "### 2.Access The Items In List\n",
    "\n",
    "We can use the index operator [] to access an item in a list. \n",
    "\n",
    "**Index starts from 0. \n",
    "And the index must be an integer. **"
   ]
  },
  {
   "cell_type": "code",
   "execution_count": 91,
   "metadata": {},
   "outputs": [
    {
     "name": "stdout",
     "output_type": "stream",
     "text": [
      "p\n",
      "e\n",
      "p\n",
      "e\n"
     ]
    }
   ],
   "source": [
    " my_list = ['p','r','o','b','e']\n",
    "print(my_list[0])\n",
    "print(my_list[4])\n",
    "length=len(my_list)\n",
    "print(my_list[-length])  #Negative indexing\n",
    "print(my_list[-1])"
   ]
  },
  {
   "cell_type": "code",
   "execution_count": 92,
   "metadata": {},
   "outputs": [
    {
     "ename": "TypeError",
     "evalue": "list indices must be integers or slices, not float",
     "output_type": "error",
     "traceback": [
      "\u001b[1;31m---------------------------------------------------------------------------\u001b[0m",
      "\u001b[1;31mTypeError\u001b[0m                                 Traceback (most recent call last)",
      "\u001b[1;32m<ipython-input-92-5318cf8ce9f3>\u001b[0m in \u001b[0;36m<module>\u001b[1;34m()\u001b[0m\n\u001b[1;32m----> 1\u001b[1;33m \u001b[0mprint\u001b[0m\u001b[1;33m(\u001b[0m\u001b[0mmy_list\u001b[0m\u001b[1;33m[\u001b[0m\u001b[1;36m2.0\u001b[0m\u001b[1;33m]\u001b[0m\u001b[1;33m)\u001b[0m\u001b[1;33m\u001b[0m\u001b[0m\n\u001b[0m",
      "\u001b[1;31mTypeError\u001b[0m: list indices must be integers or slices, not float"
     ]
    }
   ],
   "source": [
    "print(my_list[2.0])"
   ]
  },
  {
   "cell_type": "code",
   "execution_count": 93,
   "metadata": {},
   "outputs": [
    {
     "name": "stdout",
     "output_type": "stream",
     "text": [
      "a\n",
      "5\n"
     ]
    }
   ],
   "source": [
    "n_list = [\"Happy\", [2,0,1,5]] #nested list\n",
    "print(n_list[0][1])     \n",
    "print(n_list[1][3])"
   ]
  },
  {
   "cell_type": "markdown",
   "metadata": {},
   "source": [
    "### 3.Change Or Add Elements To A List"
   ]
  },
  {
   "cell_type": "code",
   "execution_count": 94,
   "metadata": {},
   "outputs": [
    {
     "name": "stdout",
     "output_type": "stream",
     "text": [
      "[2, 4, 6, 8, 10]\n",
      "[1, 4, 6, 8, 10]\n",
      "[1, 3, 5, 7, 9]\n",
      "[0, 2, 4]\n",
      "[0, 2, 4]\n",
      "[0, 2, 4]\n",
      "[0, 2, 4, 12, 14]\n",
      "[0, 2, 4, 0, 2, 4]\n",
      "[0, 2, 4]\n",
      "[1, 3, 5, 7, 6, 8, 10]\n",
      "[0, 2, 4, 6, 8]\n",
      "[6]\n"
     ]
    }
   ],
   "source": [
    "#We can use assignment operator (=) to change an item or a range of items.\n",
    "even=[2,4,6,8,10]\n",
    "print(even)\n",
    "even[0]=1\n",
    "print(even)\n",
    "even[1:]=[3,5,7,9]\n",
    "print(even)\n",
    "\n",
    "#We can add one item to a list using append() method or add several items using extend() method.\n",
    "even=[0,2,4]\n",
    "print(even)\n",
    "odd.append(6)  # append() add one items\n",
    "print(even)   \n",
    "odd.extend([8,10])  #extend()  add several items\n",
    "print(even)\n",
    "print(even+[12,14])       #concatenation\n",
    "print(even*2)             #The * operator repeats a list for the given number of times\n",
    "print(even)               #odd is constant after \"*\" or \"+\"\n",
    "\n",
    "#we can insert one item at a desired location by using the method insert()\n",
    "#Or insert multiple items by squeezing it into an empty slice of a list.\n",
    "even = [0,4]\n",
    "even.insert(1,2)  # insert(index,item)\n",
    "print(odd)\n",
    "even[3:4]=[6,8]     \n",
    "print(even)      \n",
    "print(even[3:4])   "
   ]
  },
  {
   "cell_type": "markdown",
   "metadata": {},
   "source": [
    "### 4.Delete Or Remove"
   ]
  },
  {
   "cell_type": "code",
   "execution_count": 95,
   "metadata": {},
   "outputs": [
    {
     "name": "stdout",
     "output_type": "stream",
     "text": [
      "[4, 6, 8, 10]\n",
      "[4, 6]\n"
     ]
    },
    {
     "ename": "NameError",
     "evalue": "name 'even' is not defined",
     "output_type": "error",
     "traceback": [
      "\u001b[1;31m---------------------------------------------------------------------------\u001b[0m",
      "\u001b[1;31mNameError\u001b[0m                                 Traceback (most recent call last)",
      "\u001b[1;32m<ipython-input-95-fb11126d32a4>\u001b[0m in \u001b[0;36m<module>\u001b[1;34m()\u001b[0m\n\u001b[0;32m      7\u001b[0m \u001b[1;31m#It can even delete the list entirely.\u001b[0m\u001b[1;33m\u001b[0m\u001b[1;33m\u001b[0m\u001b[0m\n\u001b[0;32m      8\u001b[0m \u001b[1;32mdel\u001b[0m \u001b[0meven\u001b[0m\u001b[1;33m\u001b[0m\u001b[0m\n\u001b[1;32m----> 9\u001b[1;33m \u001b[0mprint\u001b[0m\u001b[1;33m(\u001b[0m\u001b[0meven\u001b[0m\u001b[1;33m)\u001b[0m\u001b[1;33m\u001b[0m\u001b[0m\n\u001b[0m",
      "\u001b[1;31mNameError\u001b[0m: name 'even' is not defined"
     ]
    }
   ],
   "source": [
    "#We can delete one or more items from a list using the keyword del.\n",
    "even=[2,4,6,8,10]\n",
    "del even[0]\n",
    "print(even)\n",
    "del even[-2:]\n",
    "print(even)\n",
    "#It can even delete the list entirely.\n",
    "del even\n",
    "print(even)"
   ]
  },
  {
   "cell_type": "code",
   "execution_count": 96,
   "metadata": {},
   "outputs": [
    {
     "name": "stdout",
     "output_type": "stream",
     "text": [
      "['r', 'o', 'b', 'l', 'e', 'm']\n",
      "o\n",
      "['r', 'b', 'l', 'e', 'm']\n",
      "m\n",
      "['r', 'b', 'l', 'e']\n",
      "[]\n"
     ]
    }
   ],
   "source": [
    "#We can use remove() method to remove the given item. \n",
    "my_list = ['p','r','o','b','l','e','m']\n",
    "my_list.remove('p')   #remove \"p\"\n",
    "print(my_list)\n",
    "#We can use pop() method to remove an item at the given index.\n",
    "print(my_list.pop(1))   # extrat the 2nd item\n",
    "print(my_list)          # remove the 2nd item\n",
    "print(my_list.pop())    # extrat the last item\n",
    "print(my_list)          # remove the last item\n",
    "\n",
    "#We can also use the clear() method to empty a list\n",
    "my_list.clear()\n",
    "print(my_list)    "
   ]
  },
  {
   "cell_type": "code",
   "execution_count": 97,
   "metadata": {},
   "outputs": [
    {
     "name": "stdout",
     "output_type": "stream",
     "text": [
      "['no', 'any', 'problem']\n",
      "[[], 'any', 'problem']\n",
      "['problem']\n",
      "[]\n"
     ]
    }
   ],
   "source": [
    "#Finally, we can also delete items in a list by assigning an empty list to a slice of elements.\n",
    "my_list = ['no',\"any\",'problem']\n",
    "print(my_list)\n",
    "my_list[0]=[]\n",
    "print(my_list)\n",
    "my_list[0:2]=[]\n",
    "print(my_list)\n",
    "my_list=[]\n",
    "print(my_list)"
   ]
  },
  {
   "cell_type": "markdown",
   "metadata": {},
   "source": [
    "## Orther List Operation\n",
    "\n",
    "|Python List Methods|\n",
    "|--|\n",
    "|append() - Add an element to the end of the list|\n",
    "|extend() - Add all elements of a list to the another list|\n",
    "|insert() - Insert an item at the defined index|\n",
    "|remove() - Removes an item from the list|\n",
    "|pop() - Removes and returns an element at the given index|\n",
    "|clear() - Removes all items from the list|\n",
    "|index() - Returns the index of the first matched item|\n",
    "|count() - Returns the count of number of items passed as an argument|\n",
    "|sort() - Sort items in a list in ascending order|\n",
    "|reverse() - Reverse the order of items in the list|\n",
    "|copy() - Returns a shallow copy of the list|"
   ]
  },
  {
   "cell_type": "code",
   "execution_count": 98,
   "metadata": {},
   "outputs": [
    {
     "name": "stdout",
     "output_type": "stream",
     "text": [
      "4\n",
      "2\n",
      "[1, 1, 2, 2, 4, 5]\n",
      "[5, 4, 2, 2, 1, 1]\n",
      "[5, 4, 2, 2, 1, 1]\n"
     ]
    }
   ],
   "source": [
    "num=[1,4,2,1,5,2]\n",
    "print(num.index(5))\n",
    "print(num.count(1))\n",
    "num.sort()   # the list is changed\n",
    "print(num)\n",
    "num.reverse()  #the list is changed\n",
    "print(num)\n",
    "print(num.copy())   #shallow copy?\n"
   ]
  },
  {
   "cell_type": "markdown",
   "metadata": {},
   "source": [
    "### List Comprehension: Elegant way to create new List\n",
    "List comprehension is an elegant and concise way to create new list from an existing list in Python.\n",
    "\n",
    "List comprehension consists of an expression followed by for statement inside square brackets."
   ]
  },
  {
   "cell_type": "code",
   "execution_count": 99,
   "metadata": {},
   "outputs": [
    {
     "name": "stdout",
     "output_type": "stream",
     "text": [
      "[1, 2, 4, 8, 16, 32, 64, 128, 256, 512]\n",
      "[1, 3, 5, 7, 9, 11, 13, 15, 17, 19]\n",
      "['Python Language', 'Python Programming', 'C Language', 'C Programming']\n"
     ]
    }
   ],
   "source": [
    " #make a list with each item being increasing power of 2.\n",
    "pow2 = [2 ** x for x in range(10)]    \n",
    "print(pow2)\n",
    "# if statements\n",
    "odd = [x for x in range(20) if x % 2 == 1]\n",
    "print(odd)\n",
    "#A list comprehension can optionally contain more for  \n",
    "pro=[x+y for x in ['Python ','C '] for y in ['Language','Programming']]\n",
    "print(pro)"
   ]
  },
  {
   "cell_type": "markdown",
   "metadata": {},
   "source": [
    "### List Membership Test\n",
    "\n",
    "We can test if an item exists in a list or not, using the keyword in."
   ]
  },
  {
   "cell_type": "code",
   "execution_count": 100,
   "metadata": {},
   "outputs": [
    {
     "name": "stdout",
     "output_type": "stream",
     "text": [
      "True\n",
      "False\n",
      "True\n"
     ]
    }
   ],
   "source": [
    "my_list = ['p','r','o','b','l','e','m']\n",
    "\n",
    "print('p' in my_list)\n",
    "print('a' in my_list)\n",
    "print('c' not in my_list)"
   ]
  },
  {
   "cell_type": "markdown",
   "metadata": {},
   "source": [
    "### Iterating Through a List\n",
    "\n",
    "Using a for loop we can iterate though each item in a list.\n"
   ]
  },
  {
   "cell_type": "code",
   "execution_count": 101,
   "metadata": {},
   "outputs": [
    {
     "name": "stdout",
     "output_type": "stream",
     "text": [
      "I like pawpaw\n",
      "I like pineapple\n",
      "I like mango\n"
     ]
    }
   ],
   "source": [
    "for fruit in ['pawpaw','pineapple','mango']:\n",
    "    print(\"I like\",fruit)"
   ]
  },
  {
   "cell_type": "markdown",
   "metadata": {},
   "source": [
    "### Built-in Functions with List\n",
    "\n",
    "Built-in functions like all(), any(), enumerate(), len(), max(), min(), list(), sorted() etc. are commonly used with list to perform different tasks.\n",
    "\n",
    "Function |Description\n",
    "--|--\n",
    "all() \t|Return True if all elements of the list are true (or if the list is empty).\n",
    "any() \t|Return True if any element of the list is true. If the list is empty, return False.\n",
    "enumerate() \t|Return an enumerate object. It contains the index and value of all the items of list as a tuple.\n",
    "len() \t|Return the length (the number of items) in the list.\n",
    "list() \t|Convert an iterable (tuple, string, set, dictionary) to a list.\n",
    "max() \t|Return the largest item in the list.\n",
    "min() \t|Return the smallest item in the list\n",
    "sorted() \t|Return a new sorted list (does not sort the list itself).\n",
    "sum() \t|Return the sum of all elements in the list."
   ]
  },
  {
   "cell_type": "code",
   "execution_count": 102,
   "metadata": {},
   "outputs": [
    {
     "name": "stdout",
     "output_type": "stream",
     "text": [
      "True\n",
      "True\n",
      "[(0, 1), (1, 3), (2, 5), (3, 7)]\n",
      "[(1, 1), (2, 3), (3, 5), (4, 7)]\n",
      "4\n",
      "1\n",
      "[1, 3, 5, 7]\n",
      "16\n"
     ]
    }
   ],
   "source": [
    "odd=[1,3,5,7]\n",
    "print(all(odd))\n",
    "print(any(odd))\n",
    "print(list(enumerate(odd, start=0)))  #returnt the index and vlue of each item from 0\n",
    "print(list(enumerate(odd, start=1)))  #returnt the index and vlue of each item from 1\n",
    "print(len(odd))\n",
    "print(min(odd))\n",
    "print(sorted(odd))  #the list is unchaged\n",
    "print(sum(odd))\n"
   ]
  },
  {
   "cell_type": "markdown",
   "metadata": {},
   "source": [
    "---\n",
    "# 2.Tuple\n",
    "Tuple is similar to a list. The difference between the two is that we cannot change the elements of a tuple once it is assigned whereas in a list, elements can be changed.\n",
    "\n"
   ]
  },
  {
   "cell_type": "code",
   "execution_count": 103,
   "metadata": {},
   "outputs": [
    {
     "name": "stdout",
     "output_type": "stream",
     "text": [
      "unchanged\n"
     ]
    },
    {
     "ename": "TypeError",
     "evalue": "'tuple' object does not support item assignment",
     "output_type": "error",
     "traceback": [
      "\u001b[1;31m---------------------------------------------------------------------------\u001b[0m",
      "\u001b[1;31mTypeError\u001b[0m                                 Traceback (most recent call last)",
      "\u001b[1;32m<ipython-input-103-5f2c5464a280>\u001b[0m in \u001b[0;36m<module>\u001b[1;34m()\u001b[0m\n\u001b[0;32m      1\u001b[0m \u001b[0ma\u001b[0m\u001b[1;33m=\u001b[0m\u001b[1;33m(\u001b[0m\u001b[1;34m'the'\u001b[0m\u001b[1;33m,\u001b[0m\u001b[1;34m'tuple'\u001b[0m\u001b[1;33m,\u001b[0m\u001b[1;34m'is'\u001b[0m\u001b[1;33m,\u001b[0m\u001b[1;34m'unchanged'\u001b[0m\u001b[1;33m)\u001b[0m\u001b[1;33m\u001b[0m\u001b[0m\n\u001b[0;32m      2\u001b[0m \u001b[0mprint\u001b[0m\u001b[1;33m(\u001b[0m\u001b[0ma\u001b[0m\u001b[1;33m[\u001b[0m\u001b[1;36m3\u001b[0m\u001b[1;33m]\u001b[0m\u001b[1;33m)\u001b[0m\u001b[1;33m\u001b[0m\u001b[0m\n\u001b[1;32m----> 3\u001b[1;33m \u001b[0ma\u001b[0m\u001b[1;33m[\u001b[0m\u001b[1;36m3\u001b[0m\u001b[1;33m]\u001b[0m\u001b[1;33m=\u001b[0m\u001b[1;34m\"changed\"\u001b[0m\u001b[1;33m\u001b[0m\u001b[0m\n\u001b[0m",
      "\u001b[1;31mTypeError\u001b[0m: 'tuple' object does not support item assignment"
     ]
    }
   ],
   "source": [
    "a=('the','tuple','is','unchanged')\n",
    "print(a[3])\n",
    "a[3]=\"changed\""
   ]
  },
  {
   "cell_type": "markdown",
   "metadata": {},
   "source": [
    "**Advantages of Tuple over List**\n",
    "\n",
    "    + We generally use tuple for heterogeneous (different) datatypes and list for homogeneous (similar) datatypes.\n",
    "    + Since tuple are immutable, iterating through tuple is faster than with list. So there is a slight performance boost.\n",
    "    + Tuples that contain immutable elements can be used as key for a dictionary. With list, this is not possible.\n",
    "    + If you have data that doesn't change, implementing it as tuple will guarantee that it remains write-protected.\n",
    "\n",
    "\n",
    "## Creating a Tuple\n",
    "\n",
    "A tuple is created by placing all the items (elements) inside a parentheses (), separated by comma. The parentheses are optional but is a good practice to write it.\n",
    "\n",
    "A tuple can have any number of items and they may be of different types (integer, float, list, string etc.)."
   ]
  },
  {
   "cell_type": "code",
   "execution_count": 104,
   "metadata": {},
   "outputs": [
    {
     "name": "stdout",
     "output_type": "stream",
     "text": [
      "()\n",
      "Hello\n",
      "6\n",
      "(3, 4.6, 'dog')\n",
      "3\n",
      "4.6\n",
      "dog\n"
     ]
    }
   ],
   "source": [
    "my_tuple = ()                    # empty tuple\n",
    "print(my_tuple)\n",
    "\n",
    "my_tuple = (1, \"Hello\", 3.4)     # tuple with mixed datatypes# tuple with mixed datatypes\n",
    "print(my_tuple[1])\n",
    "\n",
    "my_tuple = (\"mouse\", [8, 4, 6])  # nested tuple\n",
    "print(my_tuple[1][2])\n",
    "\n",
    "my_tuple = 3, 4.6, \"dog\"         # tuple can be created without parentheses\n",
    "print(my_tuple)                  # also called tuple packing\n",
    "\n",
    "a, b, c = my_tuple  # tuple unpacking is also possible\n",
    "print(a)\n",
    "print(b)\n",
    "print(c)"
   ]
  },
  {
   "cell_type": "code",
   "execution_count": 105,
   "metadata": {},
   "outputs": [
    {
     "name": "stdout",
     "output_type": "stream",
     "text": [
      "<class 'str'>\n",
      "<class 'tuple'>\n",
      "<class 'tuple'>\n"
     ]
    }
   ],
   "source": [
    "#Having one element within parentheses is not enough. \n",
    "a=(\"hello\")\n",
    "print(type(a))\n",
    "#We will need a trailing comma to indicate that it is in fact a tuple.\n",
    "a=(\"hello\",)     #with parentheses\n",
    "print(type(a))\n",
    "a=\"hello\",       #without parentheses\n",
    "print(type(a))      "
   ]
  },
  {
   "cell_type": "markdown",
   "metadata": {},
   "source": [
    "## Accessing Elements in a Tuple\n",
    "### Indexing, Negative Indexing and Slicing\n",
    "  S\n",
    "  ame with List\n",
    "\n",
    "## Tuple Methods\n",
    "\n",
    "Methods that add items or remove items are not available with tuple. Only the following two methods are available.\n",
    "\n",
    "Method \t|Description\n",
    "--|--\n",
    "count(x) \t|Return the number of items that is equal to x\n",
    "index(x) \t|Return index of first item that is equal to x\n",
    "\n",
    "## Other Tuple Operations\n",
    "  Same with List\n",
    "1. Tuple Membership Test\n",
    "2. Iterating Through a Tuple\n",
    "3. Built-in Functions with Tuple\n",
    "---   \n",
    "# 3.String \n",
    "\n",
    "A string is a sequence of characters.\n",
    "\n",
    "Computers do not deal with characters, they deal with numbers (binary). Even though you may see characters on your screen, internally it is stored and manipulated as a combination of 0's and 1's.\n",
    "\n",
    "In Python, string is a sequence of Unicode character. Unicode was introduced to include every character in all languages and bring uniformity in encoding. \n",
    "\n",
    "## Create A String \n",
    "\n",
    "Strings can be created by enclosing characters inside a single quote or double quotes. Even triple quotes can be used in Python but generally used to represent multiline strings and docstrings."
   ]
  },
  {
   "cell_type": "code",
   "execution_count": 106,
   "metadata": {},
   "outputs": [
    {
     "name": "stdout",
     "output_type": "stream",
     "text": [
      "Hello\n",
      "Hello\n",
      "Hello\n",
      "Hello, welcome to\n",
      "           the world of Python\n"
     ]
    }
   ],
   "source": [
    "# all of the following are equivalent\n",
    "my_string = 'Hello'   \n",
    "print(my_string)\n",
    "\n",
    "my_string = \"Hello\"\n",
    "print(my_string)\n",
    "\n",
    "my_string = '''Hello'''\n",
    "print(my_string)\n",
    "\n",
    "# triple quotes string can extend multiple lines\n",
    "my_string = \"\"\"Hello, welcome to\n",
    "           the world of Python\"\"\"\n",
    "print(my_string)"
   ]
  },
  {
   "cell_type": "markdown",
   "metadata": {},
   "source": [
    "## Accsess and change and delete\n",
    "\n",
    "   Same with tuple\n",
    "   \n",
    "   Strings are immutable. This means that elements of a string cannot be changed once it has been assigned. We can simply reassign different strings to the same name.\n",
    "   \n",
    "## Other String Operations   \n",
    "\n",
    "### Concatenation of Two or More Strings\n",
    "The + operator does this in Python. Simply writing two string literals together also concatenates them.\n",
    "\n",
    "The * operator can be used to repeat the string for a given number of times."
   ]
  },
  {
   "cell_type": "code",
   "execution_count": 107,
   "metadata": {},
   "outputs": [
    {
     "name": "stdout",
     "output_type": "stream",
     "text": [
      "str1 + str2 =  Hello World!\n",
      "str1 * 3 = Hello Hello Hello \n",
      "Hello World!\n",
      "str0=  Hello Wrold\n"
     ]
    }
   ],
   "source": [
    "str1 = 'Hello '\n",
    "str2 ='World!'\n",
    "print('str1 + str2 = ', str1 + str2)   # using +\n",
    "print('str1 * 3 =', str1 * 3)       # using *\n",
    "#Writing two string literals together also concatenates them like + operator.\n",
    "print('Hello ''World!')\n",
    "#If we want to concatenate strings in different lines, we can use parentheses.\n",
    "str0=('Hello '\n",
    "     'Wrold')\n",
    "print(\"str0= \",str0)\n"
   ]
  },
  {
   "cell_type": "markdown",
   "metadata": {},
   "source": [
    "### Iterating Through String\n",
    "\n",
    "Using for loop we can iterate through a string. "
   ]
  },
  {
   "cell_type": "code",
   "execution_count": 108,
   "metadata": {},
   "outputs": [
    {
     "name": "stdout",
     "output_type": "stream",
     "text": [
      "0 H <class 'str'>\n",
      "0 e <class 'str'>\n",
      "0 l <class 'str'>\n",
      "1 l <class 'str'>\n",
      "1 l <class 'str'>\n",
      "2 l <class 'str'>\n",
      "2 o <class 'str'>\n",
      "2   <class 'str'>\n",
      "2 W <class 'str'>\n",
      "2 o <class 'str'>\n",
      "2 r <class 'str'>\n",
      "2 l <class 'str'>\n",
      "3 l <class 'str'>\n",
      "3 d <class 'str'>\n",
      "3 d <class 'str'>\n"
     ]
    }
   ],
   "source": [
    "#Here is an example to count the number of 'l' in a string.\n",
    "count = 0\n",
    "for letter in 'Hello World':\n",
    "    print(count,letter,type(letter))\n",
    "    if(letter == 'l'):       \n",
    "        count += 1\n",
    "        print(count,letter,type(letter))\n",
    "print(count,letter,type(letter))"
   ]
  },
  {
   "cell_type": "markdown",
   "metadata": {},
   "source": [
    "### String Membership Test and Built-in functions\n",
    "Same with tuple\n",
    "\n",
    "### Common Python String Methods\n",
    "\n",
    "Some of the commonly used methods are lower(), upper(), join(), split(), find(), replace() etc. Here is a complete list of all [the built-in methods to work with strings in Python](https://www.programiz.com/python-programming/methods/string).\n",
    "\n",
    "---\n",
    "\n",
    "# Python String Formatting\n",
    "\n",
    "## Escape Sequence\n",
    "An escape sequence starts with a backslash and is interpreted differently. If we use single quote to represent a string, all the single quotes inside the string must be escaped. Similar is the case with double quotes. This will result into SyntaxError as the text itself contains both single and double quotes."
   ]
  },
  {
   "cell_type": "code",
   "execution_count": 109,
   "metadata": {},
   "outputs": [
    {
     "ename": "SyntaxError",
     "evalue": "invalid syntax (<ipython-input-109-5a5ce731dc11>, line 2)",
     "output_type": "error",
     "traceback": [
      "\u001b[1;36m  File \u001b[1;32m\"<ipython-input-109-5a5ce731dc11>\"\u001b[1;36m, line \u001b[1;32m2\u001b[0m\n\u001b[1;33m    print(\"He said, \"What's there?\"\")\u001b[0m\n\u001b[1;37m                        ^\u001b[0m\n\u001b[1;31mSyntaxError\u001b[0m\u001b[1;31m:\u001b[0m invalid syntax\n"
     ]
    }
   ],
   "source": [
    "#eg:\n",
    "print(\"He said, \"What's there?\"\")    "
   ]
  },
  {
   "cell_type": "markdown",
   "metadata": {},
   "source": [
    "### 1. One way to get around this problem is to use triple quotes. Alternatively, we can use escape sequences."
   ]
  },
  {
   "cell_type": "code",
   "execution_count": 110,
   "metadata": {},
   "outputs": [
    {
     "name": "stdout",
     "output_type": "stream",
     "text": [
      "He said, \"What's there?\"\n",
      "He said, \"What's there?\"\n",
      "He said, \"What's there?\"\n"
     ]
    }
   ],
   "source": [
    "# using triple quotes\n",
    "print('''He said, \"What's there?\"''')\n",
    "\n",
    "# escaping single quotes\n",
    "print('He said, \"What\\'s there?\"')\n",
    "\n",
    "# escaping double quotes\n",
    "print(\"He said, \\\"What's there?\\\"\")   #escape the outside kind of quotes"
   ]
  },
  {
   "cell_type": "markdown",
   "metadata": {},
   "source": [
    "Here is a list of all the escape sequence supported by Python.\n",
    "\n",
    "Escape Sequence \t|Description\n",
    "--|--\n",
    "\\newline \t|Backslash and newline ignored\n",
    "\\\\ \t|Backslash\n",
    "\\' \t|Single quote\n",
    "\\\" \t|Double quote\n",
    "\\a \t|ASCII Bell\n",
    "\\b \t|ASCII Backspace\n",
    "\\f \t|ASCII Formfeed\n",
    "\\n \t|ASCII Linefeed\n",
    "\\r \t|ASCII Carriage Return\n",
    "\\t \t|ASCII Horizontal Tab\n",
    "\\v \t|ASCII Vertical Tab\n",
    "\\ooo \t|Character with octal value ooo\n",
    "\\xHH \t|Character with hexadecimal value HH"
   ]
  },
  {
   "cell_type": "code",
   "execution_count": 111,
   "metadata": {},
   "outputs": [
    {
     "name": "stdout",
     "output_type": "stream",
     "text": [
      "This is printed\n",
      "in two lines\n"
     ]
    }
   ],
   "source": [
    "print(\"This is printed\\nin two lines\")"
   ]
  },
  {
   "cell_type": "markdown",
   "metadata": {},
   "source": [
    "### 2.Raw String to ignore escape sequence"
   ]
  },
  {
   "cell_type": "markdown",
   "metadata": {},
   "source": [
    "Sometimes we may wish to ignore the escape sequences inside a string. To do this we can place **r or R** in front of the string. This will imply that it is a raw string and any escape sequence inside it will be ignored."
   ]
  },
  {
   "cell_type": "code",
   "execution_count": 112,
   "metadata": {},
   "outputs": [
    {
     "name": "stdout",
     "output_type": "stream",
     "text": [
      "This is a \n",
      "good example\n",
      "This is \\x61 \\ngood example\n"
     ]
    }
   ],
   "source": [
    "print(\"This is \\x61 \\ngood example\")\n",
    "print(r\"This is \\x61 \\ngood example\")"
   ]
  },
  {
   "cell_type": "markdown",
   "metadata": {},
   "source": [
    "### 3.The format() Method for Formatting Strings\n",
    "\n",
    "The format() method that is available with the string object is very versatile and powerful in formatting strings. Format strings contains curly braces {} as placeholders or replacement fields which gets replaced.\n",
    "\n",
    "We can use positional arguments or keyword arguments to specify the order."
   ]
  },
  {
   "cell_type": "code",
   "execution_count": 113,
   "metadata": {},
   "outputs": [
    {
     "name": "stdout",
     "output_type": "stream",
     "text": [
      "\n",
      "--- Default Order ---\n",
      "John, Bill and Sean\n",
      "\n",
      "--- Positional Order ---\n",
      "Bill, John and Sean\n",
      "\n",
      "--- Keyword Order ---\n",
      "Sean, John and Bill\n"
     ]
    }
   ],
   "source": [
    "# default(implicit) order\n",
    "default_order = \"{}, {} and {}\".format('John','Bill','Sean')\n",
    "print('\\n--- Default Order ---')\n",
    "print(default_order)\n",
    "\n",
    "# order using positional argument\n",
    "positional_order = \"{1}, {0} and {2}\".format('John','Bill','Sean')\n",
    "print('\\n--- Positional Order ---')\n",
    "print(positional_order)\n",
    "\n",
    "# order using keyword argument\n",
    "keyword_order = \"{a}, {b} and {c}\".format(b='John',c='Bill',a='Sean')\n",
    "print('\\n--- Keyword Order ---')\n",
    "print(keyword_order)"
   ]
  },
  {
   "cell_type": "markdown",
   "metadata": {},
   "source": [
    "\n",
    "### 4.Old style formatting\n",
    "\n",
    "We can even format strings like the old sprintf() style used in C programming language. We use the % operator to accomplish this."
   ]
  },
  {
   "cell_type": "code",
   "execution_count": 114,
   "metadata": {},
   "outputs": [
    {
     "name": "stdout",
     "output_type": "stream",
     "text": [
      "The value of x is 12.35\n",
      "The value of x is 12.3457\n",
      "The value of x is 12\n"
     ]
    }
   ],
   "source": [
    "x = 12.3456789\n",
    "print('The value of x is %3.2f' %x)\n",
    "print('The value of x is %3.4f' %x)\n",
    "print('The value of x is %d' %x)"
   ]
  }
 ],
 "metadata": {
  "kernelspec": {
   "display_name": "Python 3",
   "language": "python",
   "name": "python3"
  },
  "language_info": {
   "codemirror_mode": {
    "name": "ipython",
    "version": 3
   },
   "file_extension": ".py",
   "mimetype": "text/x-python",
   "name": "python",
   "nbconvert_exporter": "python",
   "pygments_lexer": "ipython3",
   "version": "3.7.0"
  }
 },
 "nbformat": 4,
 "nbformat_minor": 2
}
