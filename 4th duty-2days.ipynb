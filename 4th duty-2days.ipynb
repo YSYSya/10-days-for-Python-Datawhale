{
 "cells": [
  {
   "cell_type": "markdown",
   "metadata": {},
   "source": []
  },
  {
   "cell_type": "markdown",
   "metadata": {},
   "source": [
    "#  Dictionary\n",
    "\n",
    "Python dictionary is an unordered collection of items. While other compound data types have only value as an element, a dictionary has a key: value pair.\n",
    "\n",
    "Dictionaries are optimized to retrieve values when the key is known."
   ]
  },
  {
   "cell_type": "markdown",
   "metadata": {},
   "source": [
    "## Create Dictionary\n",
    "\n",
    "Creating a dictionary is as simple as placing items inside curly braces {} separated by comma.\n",
    "\n",
    "An item has a key and the corresponding value expressed as a pair, key: value.\n",
    "\n",
    "While values can be of any data type and can repeat, **keys must be of immutable type (string, number or tuple with immutable elements) and must be unique.**"
   ]
  },
  {
   "cell_type": "code",
   "execution_count": 1,
   "metadata": {},
   "outputs": [],
   "source": [
    "# dictionary with integer keys\n",
    "my_dict = {1: 'apple', 2: 'ball'}\n",
    "print(my_dict)\n",
    "# dictionary with mixed keys\n",
    "my_dict = {'name': 'John', 1: [2, 4, 3]}\n",
    "print(my_dict)\n",
    "# using dict()\n",
    "my_dict = dict({1:'apple', 2:'ball'})\n",
    "print(my_dict)\n",
    "# from sequence having each item as a pair\n",
    "my_dict = dict([(1,'apple'), (2,'ball')])\n",
    "print(my_dict)"
   ]
  },
  {
   "cell_type": "markdown",
   "metadata": {},
   "source": [
    "## Access elements from a dictionary\n",
    "While indexing is used with other container types to access values, dictionary uses keys. Key can be used either inside square brackets or with the get() method.\n",
    "\n",
    "The difference while using get() is that it returns None instead of KeyError, if the key is not found."
   ]
  },
  {
   "cell_type": "code",
   "execution_count": 2,
   "metadata": {},
   "outputs": [],
   "source": [
    "my_dict = {'name':'Jack', 'age': 26}\n",
    "\n",
    "# Output: Jack\n",
    "print(my_dict['name'])\n",
    "\n",
    "# Output: 26\n",
    "print(my_dict.get('age'))"
   ]
  },
  {
   "cell_type": "markdown",
   "metadata": {},
   "source": [
    "## Change or add elements in a dictionary\n",
    "\n",
    "Dictionary are mutable. We can **add new items** or **change the value of existing items** using assignment operator.\n",
    "\n",
    "If the key is already present, value gets updated, else a new key: value pair is added to the dictionary."
   ]
  },
  {
   "cell_type": "code",
   "execution_count": 3,
   "metadata": {},
   "outputs": [],
   "source": [
    "my_dict = {'name':'Jack', 'age': 26}\n",
    "\n",
    "# update value\n",
    "my_dict['age'] = 27\n",
    "\n",
    "#Output: {'age': 27, 'name': 'Jack'}\n",
    "print(my_dict)\n",
    "\n",
    "# add item\n",
    "my_dict['address'] = 'Downtown'  \n",
    "\n",
    "# Output: {'address': 'Downtown', 'age': 27, 'name': 'Jack'}\n",
    "print(my_dict)"
   ]
  },
  {
   "cell_type": "markdown",
   "metadata": {},
   "source": [
    "## delete or remove elements from a dictionary\n",
    "\n",
    "We can remove a particular item in a dictionary by using the method pop(). This method removes as item with the provided key and returns the value.\n",
    "\n",
    "The method, popitem() can be used to remove and return an arbitrary item (key, value) form the dictionary. All the items can be removed at once using the clear() method.\n",
    "\n",
    "We can also use the del keyword to remove individual items or the entire dictionary itself."
   ]
  },
  {
   "cell_type": "code",
   "execution_count": 8,
   "metadata": {},
   "outputs": [
    {
     "name": "stdout",
     "output_type": "stream",
     "text": [
      "16\n",
      "{1: 1, 2: 4, 3: 9, 5: 25}\n",
      "{1: 1, 2: 4, 3: 9}\n",
      "(3, 9)\n",
      "{1: 1, 2: 4}\n",
      "{}\n"
     ]
    },
    {
     "ename": "NameError",
     "evalue": "name 'squares' is not defined",
     "output_type": "error",
     "traceback": [
      "\u001b[1;31m---------------------------------------------------------------------------\u001b[0m",
      "\u001b[1;31mNameError\u001b[0m                                 Traceback (most recent call last)",
      "\u001b[1;32m<ipython-input-8-d62d6cbe5d57>\u001b[0m in \u001b[0;36m<module>\u001b[1;34m()\u001b[0m\n\u001b[0;32m     19\u001b[0m \u001b[1;31m# delete the dictionary itself\u001b[0m\u001b[1;33m\u001b[0m\u001b[1;33m\u001b[0m\u001b[0m\n\u001b[0;32m     20\u001b[0m \u001b[1;32mdel\u001b[0m \u001b[0msquares\u001b[0m\u001b[1;33m\u001b[0m\u001b[0m\n\u001b[1;32m---> 21\u001b[1;33m \u001b[0mprint\u001b[0m\u001b[1;33m(\u001b[0m\u001b[0msquares\u001b[0m\u001b[1;33m)\u001b[0m\u001b[1;33m\u001b[0m\u001b[0m\n\u001b[0m",
      "\u001b[1;31mNameError\u001b[0m: name 'squares' is not defined"
     ]
    }
   ],
   "source": [
    "squares = {1:1, 2:4, 3:9, 4:16, 5:25}  \n",
    "\n",
    "# remove a particular item and return it\n",
    "print(squares.pop(4))  \n",
    "print(squares)\n",
    "\n",
    "# delete a particular item\n",
    "del squares[5]  \n",
    "print(squares)\n",
    "\n",
    "# remove an arbitrary item and return it\n",
    "print(squares.popitem())\n",
    "print(squares)\n",
    "\n",
    "# remove all items\n",
    "squares.clear()\n",
    "print(squares)\n",
    "\n",
    "# delete the dictionary itself\n",
    "del squares\n",
    "print(squares)"
   ]
  },
  {
   "cell_type": "markdown",
   "metadata": {},
   "source": [
    "## Dictionary Methods\n",
    "\n",
    "Method \t|Description\n",
    "--|--\n",
    "clear() \t|Remove all items form the dictionary.\n",
    "copy() \t|Return a shallow copy of the dictionary.\n",
    "fromkeys(seq[, v]) \t|Return a new dictionary with keys from seq and value equal to v (defaults to None).\n",
    "get(key[,d]) \t|Return the value of key. If key doesnot exit, return d (defaults to None).\n",
    "items() \t|Return a new view of the dictionary's items (key, value).\n",
    "keys() \t|Return a new view of the dictionary's keys.\n",
    "pop(key[,d]) \t|Remove the item with key and return its value or d if key is not found. If d is not provided and key is not found, raises KeyError.\n",
    "popitem() \t|Remove and return an arbitary item (key, value). Raises KeyError if the dictionary is empty.\n",
    "setdefault(key[,d]) \t|If key is in the dictionary, return its value. If not, insert key with a value of d and return d (defaults to None).\n",
    "update([other]) \t|Update the dictionary with the key/value pairs from other, overwriting existing keys.\n",
    "values() \t|Return a new view of the dictionary's values\n",
    "\n",
    "## Dictionary Comprehension\n",
    "\n",
    "Dictionary comprehension is an elegant and concise way to create new dictionary from an iterable in Python.\n",
    "\n",
    "Dictionary comprehension consists of an expression pair (key: value) followed by for statement inside curly braces {}.\n"
   ]
  },
  {
   "cell_type": "code",
   "execution_count": 17,
   "metadata": {},
   "outputs": [
    {
     "name": "stdout",
     "output_type": "stream",
     "text": [
      "{0: 0, 1: 1, 2: 4, 3: 9, 4: 16, 5: 25}\n",
      "{0: 0, 1: 1, 2: 4, 3: 9, 4: 16, 5: 25}\n",
      "{1: 1, 3: 9, 5: 25, 7: 49, 9: 81}\n"
     ]
    }
   ],
   "source": [
    "#Make a dictionary with each item being a pair of a number and its square.\n",
    "squares = {x: x*x for x in range(6)}\n",
    "print(squares)\n",
    "\n",
    "#This code is equivalent to\n",
    "squares = {}\n",
    "for x in range(6):\n",
    "   squares[x] = x*x\n",
    "print(squares)\n",
    "\n",
    "#more for or if statements.\n",
    "odd_squares = {x: x*x for x in range(11) if x%2 == 1}\n",
    "print(odd_squares)"
   ]
  },
  {
   "cell_type": "markdown",
   "metadata": {},
   "source": [
    "## Dictionary Membership Test\n",
    "We can test if a key is in a dictionary or not using the keyword in. **Notice that membership test is for keys only, not for values.**\n",
    "## Iterating Through a Dictionary\n",
    "\n",
    "Using a for loop we can iterate though each key in a dictionary."
   ]
  },
  {
   "cell_type": "code",
   "execution_count": 20,
   "metadata": {},
   "outputs": [
    {
     "name": "stdout",
     "output_type": "stream",
     "text": [
      "1\n",
      "9\n",
      "25\n",
      "49\n",
      "81\n",
      "<class 'int'>\n"
     ]
    }
   ],
   "source": [
    "squares = {1: 1, 3: 9, 5: 25, 7: 49, 9: 81}\n",
    "for i in squares:\n",
    "    print(squares[i])\n",
    "print(type(i))"
   ]
  },
  {
   "cell_type": "markdown",
   "metadata": {},
   "source": [
    "# Set\n",
    "A set is an unordered collection of items. Every element is unique (no duplicates) and must be immutable (which cannot be changed).\n",
    "\n",
    "However, the set itself is mutable. We can add or remove items from it.\n",
    "\n",
    "Sets can be used to perform mathematical set operations like union, intersection, symmetric difference etc.\n",
    "## Create  set\n",
    "\n",
    "A set is created by placing all the items (elements) inside curly braces {}, separated by comma or by using the built-in function set().\n",
    "\n",
    "It can have any number of items and they may be of different types (integer, float, tuple, string etc.). **But a set cannot have a mutable element, like list, set or dictionary, as its element.**\n",
    "\n"
   ]
  },
  {
   "cell_type": "code",
   "execution_count": 22,
   "metadata": {},
   "outputs": [
    {
     "name": "stdout",
     "output_type": "stream",
     "text": [
      "{1, 2, 3, 4}\n",
      "{1, 2, 3}\n"
     ]
    },
    {
     "ename": "TypeError",
     "evalue": "unhashable type: 'list'",
     "output_type": "error",
     "traceback": [
      "\u001b[1;31m---------------------------------------------------------------------------\u001b[0m",
      "\u001b[1;31mTypeError\u001b[0m                                 Traceback (most recent call last)",
      "\u001b[1;32m<ipython-input-22-22803c6f2ad8>\u001b[0m in \u001b[0;36m<module>\u001b[1;34m()\u001b[0m\n\u001b[0;32m      9\u001b[0m \u001b[1;31m# set cannot have mutable items\u001b[0m\u001b[1;33m\u001b[0m\u001b[1;33m\u001b[0m\u001b[0m\n\u001b[0;32m     10\u001b[0m \u001b[1;31m# here [3, 4] is a mutable list\u001b[0m\u001b[1;33m\u001b[0m\u001b[1;33m\u001b[0m\u001b[0m\n\u001b[1;32m---> 11\u001b[1;33m \u001b[0mmy_set\u001b[0m \u001b[1;33m=\u001b[0m \u001b[1;33m{\u001b[0m\u001b[1;36m1\u001b[0m\u001b[1;33m,\u001b[0m \u001b[1;36m2\u001b[0m\u001b[1;33m,\u001b[0m \u001b[1;33m[\u001b[0m\u001b[1;36m3\u001b[0m\u001b[1;33m,\u001b[0m \u001b[1;36m4\u001b[0m\u001b[1;33m]\u001b[0m\u001b[1;33m}\u001b[0m\u001b[1;33m\u001b[0m\u001b[0m\n\u001b[0m",
      "\u001b[1;31mTypeError\u001b[0m: unhashable type: 'list'"
     ]
    }
   ],
   "source": [
    "# set do not have duplicates\n",
    "my_set = {1,2,3,4,3,2}\n",
    "print(my_set)\n",
    "\n",
    "# we can make set from a list\n",
    "my_set = set([1,2,3,2])\n",
    "print(my_set)\n",
    "\n",
    "# set cannot have mutable items\n",
    "# here [3, 4] is a mutable list\n",
    "my_set = {1, 2, [3, 4]}"
   ]
  },
  {
   "cell_type": "code",
   "execution_count": 24,
   "metadata": {},
   "outputs": [
    {
     "name": "stdout",
     "output_type": "stream",
     "text": [
      "<class 'dict'>\n",
      "<class 'set'>\n"
     ]
    }
   ],
   "source": [
    "#Creating an empty set is a bit tricky.\n",
    "#Empty curly braces {} will make an empty dictionary in Python. \n",
    "a = {}\n",
    "print(type(a))\n",
    "#To make a set without any elements we use the set() function without any argument.\n",
    "a = set()\n",
    "print(type(a))"
   ]
  },
  {
   "cell_type": "markdown",
   "metadata": {},
   "source": [
    "## Change a set \n",
    "\n",
    "Sets are mutable. But since they are unordered, indexing have no meaning.\n",
    "\n",
    "We cannot access or change an element of set using indexing or slicing. Set does not support it.\n",
    "\n",
    "We can add single element using the add() method and multiple elements using the update() method. The update() method can take tuples, lists, strings or other sets as its argument. In all cases, duplicates are avoided."
   ]
  },
  {
   "cell_type": "code",
   "execution_count": 25,
   "metadata": {},
   "outputs": [
    {
     "name": "stdout",
     "output_type": "stream",
     "text": [
      "{1, 3}\n",
      "{1, 2, 3}\n",
      "{1, 2, 3, 4}\n",
      "{1, 2, 3, 4, 5, 6, 8}\n"
     ]
    }
   ],
   "source": [
    "my_set = {1,3}\n",
    "print(my_set)\n",
    "\n",
    "# add an element\n",
    "my_set.add(2)\n",
    "print(my_set)\n",
    "\n",
    "# add multiple elements\n",
    "my_set.update([2,3,4])\n",
    "print(my_set)\n",
    "\n",
    "# add list and set\n",
    "my_set.update([4,5], {1,6,8})\n",
    "print(my_set)"
   ]
  },
  {
   "cell_type": "markdown",
   "metadata": {},
   "source": [
    "## Remove elements from a set\n",
    "\n",
    "A particular item can be removed from set using methods, discard() and remove().\n",
    "\n",
    "The only difference between the two is that, while using discard() if the item does not exist in the set, it remains unchanged. But remove() will raise an error in such condition.\n",
    "\n",
    "The following example will illustrate this."
   ]
  },
  {
   "cell_type": "code",
   "execution_count": 27,
   "metadata": {},
   "outputs": [
    {
     "name": "stdout",
     "output_type": "stream",
     "text": [
      "{1, 3, 4, 5, 6}\n",
      "{1, 3, 5, 6}\n",
      "{1, 3, 5}\n",
      "{1, 3, 5}\n"
     ]
    },
    {
     "ename": "KeyError",
     "evalue": "2",
     "output_type": "error",
     "traceback": [
      "\u001b[1;31m---------------------------------------------------------------------------\u001b[0m",
      "\u001b[1;31mKeyError\u001b[0m                                  Traceback (most recent call last)",
      "\u001b[1;32m<ipython-input-27-aba0fbfd9210>\u001b[0m in \u001b[0;36m<module>\u001b[1;34m()\u001b[0m\n\u001b[0;32m     17\u001b[0m \u001b[1;31m# remove an element\u001b[0m\u001b[1;33m\u001b[0m\u001b[1;33m\u001b[0m\u001b[0m\n\u001b[0;32m     18\u001b[0m \u001b[1;31m# not present in my_set\u001b[0m\u001b[1;33m\u001b[0m\u001b[1;33m\u001b[0m\u001b[0m\n\u001b[1;32m---> 19\u001b[1;33m \u001b[0mmy_set\u001b[0m\u001b[1;33m.\u001b[0m\u001b[0mremove\u001b[0m\u001b[1;33m(\u001b[0m\u001b[1;36m2\u001b[0m\u001b[1;33m)\u001b[0m\u001b[1;33m\u001b[0m\u001b[0m\n\u001b[0m",
      "\u001b[1;31mKeyError\u001b[0m: 2"
     ]
    }
   ],
   "source": [
    "my_set = {1, 3, 4, 5, 6}\n",
    "print(my_set)\n",
    "\n",
    "# discard an element\n",
    "my_set.discard(4)\n",
    "print(my_set)\n",
    "\n",
    "# remove an element\n",
    "my_set.remove(6)\n",
    "print(my_set)\n",
    "\n",
    "# discard an element\n",
    "# not present in my_set\n",
    "my_set.discard(2)\n",
    "print(my_set)\n",
    "\n",
    "# remove an element\n",
    "# not present in my_set\n",
    "my_set.remove(2)"
   ]
  },
  {
   "cell_type": "code",
   "execution_count": 32,
   "metadata": {},
   "outputs": [
    {
     "name": "stdout",
     "output_type": "stream",
     "text": [
      "{'W', 'o', 'd', 'r', 'e', 'H', 'l'}\n",
      "W\n",
      "{'o', 'd', 'r', 'e', 'H', 'l'}\n",
      "set()\n"
     ]
    },
    {
     "ename": "NameError",
     "evalue": "name 'my_set' is not defined",
     "output_type": "error",
     "traceback": [
      "\u001b[1;31m---------------------------------------------------------------------------\u001b[0m",
      "\u001b[1;31mNameError\u001b[0m                                 Traceback (most recent call last)",
      "\u001b[1;32m<ipython-input-32-92f4c9e1336b>\u001b[0m in \u001b[0;36m<module>\u001b[1;34m()\u001b[0m\n\u001b[0;32m     13\u001b[0m \u001b[1;33m\u001b[0m\u001b[0m\n\u001b[0;32m     14\u001b[0m \u001b[1;32mdel\u001b[0m \u001b[0mmy_set\u001b[0m\u001b[1;33m\u001b[0m\u001b[0m\n\u001b[1;32m---> 15\u001b[1;33m \u001b[0mprint\u001b[0m\u001b[1;33m(\u001b[0m\u001b[0mmy_set\u001b[0m\u001b[1;33m)\u001b[0m\u001b[1;33m\u001b[0m\u001b[0m\n\u001b[0m",
      "\u001b[1;31mNameError\u001b[0m: name 'my_set' is not defined"
     ]
    }
   ],
   "source": [
    "# initialize my_set\n",
    "my_set = set(\"HelloWorld\")\n",
    "print(my_set)\n",
    "\n",
    "# #Similarly, we can remove and return an item using the pop() method.\n",
    "print(my_set.pop())\n",
    "print(my_set)\n",
    "\n",
    "# We can also remove all items from a set using clear().\n",
    "#Output: set()\n",
    "my_set.clear()\n",
    "print(my_set)\n",
    "\n",
    "del my_set\n",
    "print(my_set)"
   ]
  },
  {
   "cell_type": "markdown",
   "metadata": {},
   "source": [
    "## Set Operations\n",
    "\n",
    "Sets can be used to carry out mathematical set operations like union, intersection, difference and symmetric difference. We can do this with operators or methods.\n",
    "\n",
    "\n"
   ]
  },
  {
   "cell_type": "code",
   "execution_count": 41,
   "metadata": {},
   "outputs": [
    {
     "name": "stdout",
     "output_type": "stream",
     "text": [
      "{1, 2, 3, 4, 5, 6, 7, 8}\n",
      "{1, 2, 3, 4, 5, 6, 7, 8}\n",
      "{4, 5}\n",
      "{4, 5}\n",
      "{1, 2, 3}\n",
      "{8, 6, 7}\n",
      "{1, 2, 3}\n",
      "{8, 6, 7}\n",
      "{1, 2, 3, 6, 7, 8}\n",
      "{1, 2, 3, 6, 7, 8}\n"
     ]
    }
   ],
   "source": [
    "# initialize A and B\n",
    "A = {1, 2, 3, 4, 5}\n",
    "B = {4, 5, 6, 7, 8}\n",
    "\n",
    "#union\n",
    "# use | operator\n",
    "print(A | B)\n",
    "#use union()\n",
    "print(A.union(B))\n",
    "\n",
    "#intersection\n",
    "# use & operator\n",
    "print(A & B)\n",
    "#use intertsection()\n",
    "print(A.intersection(B))\n",
    "\n",
    "#Set Difference\n",
    "# use - operator on A\n",
    "print(A - B)\n",
    "print(B-A)\n",
    "#difference()\n",
    "print(A.difference(B))\n",
    "print(B.difference(A))\n",
    "\n",
    "#Set Symmetric Difference\n",
    "# use ^ operator\n",
    "print(A ^ B)\n",
    "#use symetric_difference()\n",
    "print(A.symmetric_difference(B))\n",
    "\n"
   ]
  },
  {
   "cell_type": "markdown",
   "metadata": {},
   "source": [
    "## Different Python Set Methods\n",
    "\n",
    "Method \t|Description\n",
    "--|--\n",
    "add() \t|Adds an element to the set\n",
    "clear() \t|Removes all elements from the set\n",
    "copy() \t|Returns a copy of the set\n",
    "difference() \t|Returns the difference of two or more sets as a new set\n",
    "difference_update() \t|Removes all elements of another set from this set\n",
    "discard() \t|Removes an element from the set if it is a member. (Do nothing if the element is not in set)\n",
    "intersection() \t|Returns the intersection of two sets as a new set\n",
    "intersection_update() \t|Updates the set with the intersection of itself and another\n",
    "isdisjoint() \t|Returns True if two sets have a null intersection\n",
    "issubset() \t|Returns True if another set contains this set\n",
    "issuperset() \t|Returns True if this set contains another set\n",
    "pop() \t|Removes and returns an arbitary set element. Raise KeyError if the set is empty\n",
    "remove() \t|Removes an element from the set. If the element is not a member, raise a KeyError\n",
    "symmetric_difference() \t|Returns the symmetric difference of two sets as a new set\n",
    "symmetric_difference_update() \t|Updates a set with the symmetric difference of itself and another\n",
    "union() \t|Returns the union of sets in a new set\n",
    "update() \t|Updates the set with the union of itself and others\n",
    "\n",
    "## Set Membership Test\n",
    "Same with List\n",
    "## Set Membership Test\n",
    "Same with List"
   ]
  },
  {
   "cell_type": "code",
   "execution_count": null,
   "metadata": {},
   "outputs": [],
   "source": []
  }
 ],
 "metadata": {
  "kernelspec": {
   "display_name": "Python 3",
   "language": "python",
   "name": "python3"
  },
  "language_info": {
   "codemirror_mode": {
    "name": "ipython",
    "version": 3
   },
   "file_extension": ".py",
   "mimetype": "text/x-python",
   "name": "python",
   "nbconvert_exporter": "python",
   "pygments_lexer": "ipython3",
   "version": "3.7.0"
  }
 },
 "nbformat": 4,
 "nbformat_minor": 2
}
